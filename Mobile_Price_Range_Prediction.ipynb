{
  "nbformat": 4,
  "nbformat_minor": 0,
  "metadata": {
    "colab": {
      "name": "Mobile Price Range Prediction.ipynb",
      "provenance": [],
      "collapsed_sections": [],
      "authorship_tag": "ABX9TyMyOku0/Em0X1wxYRvcJXWl",
      "include_colab_link": true
    },
    "kernelspec": {
      "name": "python3",
      "display_name": "Python 3"
    },
    "language_info": {
      "name": "python"
    }
  },
  "cells": [
    {
      "cell_type": "markdown",
      "metadata": {
        "id": "view-in-github",
        "colab_type": "text"
      },
      "source": [
        "<a href=\"https://colab.research.google.com/github/brahma102/Mobile-Price-Range-Prediction/blob/main/Mobile_Price_Range_Prediction.ipynb\" target=\"_parent\"><img src=\"https://colab.research.google.com/assets/colab-badge.svg\" alt=\"Open In Colab\"/></a>"
      ]
    },
    {
      "cell_type": "markdown",
      "source": [
        "# **Project Title : Mobile Price Range Prediction**"
      ],
      "metadata": {
        "id": "ONQ60WEamgyh"
      }
    },
    {
      "cell_type": "markdown",
      "source": [
        "In the competitive mobile phone market companies want\n",
        "to understand sales data of mobile phones and factors which drive the prices.\n",
        "The objective is to find out some relation between features of a mobile phone(eg:- RAM,\n",
        "Internal Memory, etc) and its selling price. In this problem, we do not have to predict the\n",
        "actual price but a price range indicating how high the price is."
      ],
      "metadata": {
        "id": "-7F6BbLSmwWs"
      }
    },
    {
      "cell_type": "markdown",
      "source": [
        "# **Data Description -**"
      ],
      "metadata": {
        "id": "xhAXLC3BnY_I"
      }
    },
    {
      "cell_type": "markdown",
      "source": [
        "* Battery_power - Total energy a battery can store in one time measured in mAh\n",
        "* Blue - Has bluetooth or not\n",
        "* Clock_speed - speed at which microprocessor executes instructions\n",
        "* Dual_sim - Has dual sim support or not\n",
        "* Fc - Front Camera mega pixels\n",
        "* Four_g - Has 4G or not\n",
        "* Int_memory - Internal Memory in Gigabytes\n",
        "* M_dep - Mobile Depth in cm\n",
        "* Mobile_wt - Weight of mobile phone\n",
        "* N_cores - Number of cores of processor\n",
        "* Pc - Primary Camera mega pixels\n",
        "* Px_height - Pixel Resolution Height\n",
        "* Px_width - Pixel Resolution Width\n",
        "* Ram - Random Access Memory in Mega Bytes\n",
        "* Sc_h - Screen Height of mobile in cm\n",
        "* Sc_w - Screen Width of mobile in cm\n",
        "* Talk_time - longest time that a single battery charge will last when you are\n",
        "* Three_g - Has 3G or not\n",
        "* Touch_screen - Has touch screen or not\n",
        "* Wifi - Has wifi or not\n",
        "* Price_range - This is the target variable with value of 0(low cost), 1(medium cost),\n",
        "* 2(high cost) and 3(very high cost).\n",
        "\n",
        "\n",
        "\n"
      ],
      "metadata": {
        "id": "Kmad9Gb5m2tu"
      }
    },
    {
      "cell_type": "markdown",
      "source": [
        "# **Importing Libraries**"
      ],
      "metadata": {
        "id": "Wk-VAh_8oq6A"
      }
    },
    {
      "cell_type": "code",
      "source": [
        "#importing the libraries\n",
        "import pandas as pd\n",
        "import numpy as np\n",
        "import matplotlib.pyplot as plt\n",
        "import seaborn as sns\n",
        "\n",
        "from sklearn.model_selection import train_test_split\n",
        "from sklearn.preprocessing import OneHotEncoder\n",
        "from sklearn.model_selection import GridSearchCV\n",
        "from sklearn.model_selection import RandomizedSearchCV\n",
        "from sklearn.model_selection import train_test_split\n",
        "from sklearn import ensemble\n",
        "from sklearn.tree import DecisionTreeClassifier\n",
        "from sklearn.ensemble import GradientBoostingClassifier\n",
        "\n",
        "from sklearn.metrics import confusion_matrix , plot_confusion_matrix\n",
        "from sklearn.metrics import classification_report\n",
        "from sklearn.metrics import roc_auc_score\n",
        "from sklearn.metrics import auc\n",
        "from sklearn.metrics import precision_score\n",
        "from sklearn.metrics import recall_score\n",
        "from sklearn.metrics import accuracy_score\n",
        "from sklearn.metrics import mean_squared_error\n",
        "from sklearn.metrics import f1_score\n",
        "from sklearn.metrics import roc_curve"
      ],
      "metadata": {
        "id": "7t2lnKMeomWQ"
      },
      "execution_count": 2,
      "outputs": []
    },
    {
      "cell_type": "code",
      "source": [
        "# Install plotly package to show output in png format so i show it in github\n",
        "%%capture\n",
        "!pip install kaleido\n",
        "!pip install plotly>=4.0.0\n",
        "!wget https://github.com/plotly/orca/releases/download/v1.2.1/orca-1.2.1-x86_64.AppImage -O /usr/local/bin/orca\n",
        "!chmod +x /usr/local/bin/orca\n",
        "!apt-get install xvfb libgtk2.0-0 libgconf-2-4"
      ],
      "metadata": {
        "id": "nbIlRpCBNtf_"
      },
      "execution_count": 3,
      "outputs": []
    },
    {
      "cell_type": "markdown",
      "source": [
        "# **Loading Data set**"
      ],
      "metadata": {
        "id": "YJYHfCTg788b"
      }
    },
    {
      "cell_type": "code",
      "source": [
        "from google.colab import drive\n",
        "drive.mount('/content/drive')"
      ],
      "metadata": {
        "colab": {
          "base_uri": "https://localhost:8080/"
        },
        "id": "TziJpBBy4qC2",
        "outputId": "1de436c0-406b-4f7c-ea93-8cb8498bcc58"
      },
      "execution_count": 4,
      "outputs": [
        {
          "output_type": "stream",
          "name": "stdout",
          "text": [
            "Mounted at /content/drive\n"
          ]
        }
      ]
    },
    {
      "cell_type": "code",
      "source": [
        "path  = \"/content/drive/MyDrive/Colab Notebooks/Capstone Project 3/data_mobile_price_range.csv\"\n",
        "data = pd.read_csv(path ,header= 0,encoding= 'unicode_escape')"
      ],
      "metadata": {
        "id": "uysTiF2M5Z85"
      },
      "execution_count": 5,
      "outputs": []
    },
    {
      "cell_type": "code",
      "source": [
        "data.head()"
      ],
      "metadata": {
        "colab": {
          "base_uri": "https://localhost:8080/",
          "height": 235
        },
        "id": "fcN9iDOP6GgS",
        "outputId": "691672af-dcd1-4d21-948e-447ae8928150"
      },
      "execution_count": 6,
      "outputs": [
        {
          "output_type": "execute_result",
          "data": {
            "text/plain": [
              "   battery_power  blue  clock_speed  dual_sim  fc  four_g  int_memory  m_dep  \\\n",
              "0            842     0          2.2         0   1       0           7    0.6   \n",
              "1           1021     1          0.5         1   0       1          53    0.7   \n",
              "2            563     1          0.5         1   2       1          41    0.9   \n",
              "3            615     1          2.5         0   0       0          10    0.8   \n",
              "4           1821     1          1.2         0  13       1          44    0.6   \n",
              "\n",
              "   mobile_wt  n_cores  ...  px_height  px_width   ram  sc_h  sc_w  talk_time  \\\n",
              "0        188        2  ...         20       756  2549     9     7         19   \n",
              "1        136        3  ...        905      1988  2631    17     3          7   \n",
              "2        145        5  ...       1263      1716  2603    11     2          9   \n",
              "3        131        6  ...       1216      1786  2769    16     8         11   \n",
              "4        141        2  ...       1208      1212  1411     8     2         15   \n",
              "\n",
              "   three_g  touch_screen  wifi  price_range  \n",
              "0        0             0     1            1  \n",
              "1        1             1     0            2  \n",
              "2        1             1     0            2  \n",
              "3        1             0     0            2  \n",
              "4        1             1     0            1  \n",
              "\n",
              "[5 rows x 21 columns]"
            ],
            "text/html": [
              "\n",
              "  <div id=\"df-85649997-8a02-48aa-9e70-a6a8e044ee7f\">\n",
              "    <div class=\"colab-df-container\">\n",
              "      <div>\n",
              "<style scoped>\n",
              "    .dataframe tbody tr th:only-of-type {\n",
              "        vertical-align: middle;\n",
              "    }\n",
              "\n",
              "    .dataframe tbody tr th {\n",
              "        vertical-align: top;\n",
              "    }\n",
              "\n",
              "    .dataframe thead th {\n",
              "        text-align: right;\n",
              "    }\n",
              "</style>\n",
              "<table border=\"1\" class=\"dataframe\">\n",
              "  <thead>\n",
              "    <tr style=\"text-align: right;\">\n",
              "      <th></th>\n",
              "      <th>battery_power</th>\n",
              "      <th>blue</th>\n",
              "      <th>clock_speed</th>\n",
              "      <th>dual_sim</th>\n",
              "      <th>fc</th>\n",
              "      <th>four_g</th>\n",
              "      <th>int_memory</th>\n",
              "      <th>m_dep</th>\n",
              "      <th>mobile_wt</th>\n",
              "      <th>n_cores</th>\n",
              "      <th>...</th>\n",
              "      <th>px_height</th>\n",
              "      <th>px_width</th>\n",
              "      <th>ram</th>\n",
              "      <th>sc_h</th>\n",
              "      <th>sc_w</th>\n",
              "      <th>talk_time</th>\n",
              "      <th>three_g</th>\n",
              "      <th>touch_screen</th>\n",
              "      <th>wifi</th>\n",
              "      <th>price_range</th>\n",
              "    </tr>\n",
              "  </thead>\n",
              "  <tbody>\n",
              "    <tr>\n",
              "      <th>0</th>\n",
              "      <td>842</td>\n",
              "      <td>0</td>\n",
              "      <td>2.2</td>\n",
              "      <td>0</td>\n",
              "      <td>1</td>\n",
              "      <td>0</td>\n",
              "      <td>7</td>\n",
              "      <td>0.6</td>\n",
              "      <td>188</td>\n",
              "      <td>2</td>\n",
              "      <td>...</td>\n",
              "      <td>20</td>\n",
              "      <td>756</td>\n",
              "      <td>2549</td>\n",
              "      <td>9</td>\n",
              "      <td>7</td>\n",
              "      <td>19</td>\n",
              "      <td>0</td>\n",
              "      <td>0</td>\n",
              "      <td>1</td>\n",
              "      <td>1</td>\n",
              "    </tr>\n",
              "    <tr>\n",
              "      <th>1</th>\n",
              "      <td>1021</td>\n",
              "      <td>1</td>\n",
              "      <td>0.5</td>\n",
              "      <td>1</td>\n",
              "      <td>0</td>\n",
              "      <td>1</td>\n",
              "      <td>53</td>\n",
              "      <td>0.7</td>\n",
              "      <td>136</td>\n",
              "      <td>3</td>\n",
              "      <td>...</td>\n",
              "      <td>905</td>\n",
              "      <td>1988</td>\n",
              "      <td>2631</td>\n",
              "      <td>17</td>\n",
              "      <td>3</td>\n",
              "      <td>7</td>\n",
              "      <td>1</td>\n",
              "      <td>1</td>\n",
              "      <td>0</td>\n",
              "      <td>2</td>\n",
              "    </tr>\n",
              "    <tr>\n",
              "      <th>2</th>\n",
              "      <td>563</td>\n",
              "      <td>1</td>\n",
              "      <td>0.5</td>\n",
              "      <td>1</td>\n",
              "      <td>2</td>\n",
              "      <td>1</td>\n",
              "      <td>41</td>\n",
              "      <td>0.9</td>\n",
              "      <td>145</td>\n",
              "      <td>5</td>\n",
              "      <td>...</td>\n",
              "      <td>1263</td>\n",
              "      <td>1716</td>\n",
              "      <td>2603</td>\n",
              "      <td>11</td>\n",
              "      <td>2</td>\n",
              "      <td>9</td>\n",
              "      <td>1</td>\n",
              "      <td>1</td>\n",
              "      <td>0</td>\n",
              "      <td>2</td>\n",
              "    </tr>\n",
              "    <tr>\n",
              "      <th>3</th>\n",
              "      <td>615</td>\n",
              "      <td>1</td>\n",
              "      <td>2.5</td>\n",
              "      <td>0</td>\n",
              "      <td>0</td>\n",
              "      <td>0</td>\n",
              "      <td>10</td>\n",
              "      <td>0.8</td>\n",
              "      <td>131</td>\n",
              "      <td>6</td>\n",
              "      <td>...</td>\n",
              "      <td>1216</td>\n",
              "      <td>1786</td>\n",
              "      <td>2769</td>\n",
              "      <td>16</td>\n",
              "      <td>8</td>\n",
              "      <td>11</td>\n",
              "      <td>1</td>\n",
              "      <td>0</td>\n",
              "      <td>0</td>\n",
              "      <td>2</td>\n",
              "    </tr>\n",
              "    <tr>\n",
              "      <th>4</th>\n",
              "      <td>1821</td>\n",
              "      <td>1</td>\n",
              "      <td>1.2</td>\n",
              "      <td>0</td>\n",
              "      <td>13</td>\n",
              "      <td>1</td>\n",
              "      <td>44</td>\n",
              "      <td>0.6</td>\n",
              "      <td>141</td>\n",
              "      <td>2</td>\n",
              "      <td>...</td>\n",
              "      <td>1208</td>\n",
              "      <td>1212</td>\n",
              "      <td>1411</td>\n",
              "      <td>8</td>\n",
              "      <td>2</td>\n",
              "      <td>15</td>\n",
              "      <td>1</td>\n",
              "      <td>1</td>\n",
              "      <td>0</td>\n",
              "      <td>1</td>\n",
              "    </tr>\n",
              "  </tbody>\n",
              "</table>\n",
              "<p>5 rows × 21 columns</p>\n",
              "</div>\n",
              "      <button class=\"colab-df-convert\" onclick=\"convertToInteractive('df-85649997-8a02-48aa-9e70-a6a8e044ee7f')\"\n",
              "              title=\"Convert this dataframe to an interactive table.\"\n",
              "              style=\"display:none;\">\n",
              "        \n",
              "  <svg xmlns=\"http://www.w3.org/2000/svg\" height=\"24px\"viewBox=\"0 0 24 24\"\n",
              "       width=\"24px\">\n",
              "    <path d=\"M0 0h24v24H0V0z\" fill=\"none\"/>\n",
              "    <path d=\"M18.56 5.44l.94 2.06.94-2.06 2.06-.94-2.06-.94-.94-2.06-.94 2.06-2.06.94zm-11 1L8.5 8.5l.94-2.06 2.06-.94-2.06-.94L8.5 2.5l-.94 2.06-2.06.94zm10 10l.94 2.06.94-2.06 2.06-.94-2.06-.94-.94-2.06-.94 2.06-2.06.94z\"/><path d=\"M17.41 7.96l-1.37-1.37c-.4-.4-.92-.59-1.43-.59-.52 0-1.04.2-1.43.59L10.3 9.45l-7.72 7.72c-.78.78-.78 2.05 0 2.83L4 21.41c.39.39.9.59 1.41.59.51 0 1.02-.2 1.41-.59l7.78-7.78 2.81-2.81c.8-.78.8-2.07 0-2.86zM5.41 20L4 18.59l7.72-7.72 1.47 1.35L5.41 20z\"/>\n",
              "  </svg>\n",
              "      </button>\n",
              "      \n",
              "  <style>\n",
              "    .colab-df-container {\n",
              "      display:flex;\n",
              "      flex-wrap:wrap;\n",
              "      gap: 12px;\n",
              "    }\n",
              "\n",
              "    .colab-df-convert {\n",
              "      background-color: #E8F0FE;\n",
              "      border: none;\n",
              "      border-radius: 50%;\n",
              "      cursor: pointer;\n",
              "      display: none;\n",
              "      fill: #1967D2;\n",
              "      height: 32px;\n",
              "      padding: 0 0 0 0;\n",
              "      width: 32px;\n",
              "    }\n",
              "\n",
              "    .colab-df-convert:hover {\n",
              "      background-color: #E2EBFA;\n",
              "      box-shadow: 0px 1px 2px rgba(60, 64, 67, 0.3), 0px 1px 3px 1px rgba(60, 64, 67, 0.15);\n",
              "      fill: #174EA6;\n",
              "    }\n",
              "\n",
              "    [theme=dark] .colab-df-convert {\n",
              "      background-color: #3B4455;\n",
              "      fill: #D2E3FC;\n",
              "    }\n",
              "\n",
              "    [theme=dark] .colab-df-convert:hover {\n",
              "      background-color: #434B5C;\n",
              "      box-shadow: 0px 1px 3px 1px rgba(0, 0, 0, 0.15);\n",
              "      filter: drop-shadow(0px 1px 2px rgba(0, 0, 0, 0.3));\n",
              "      fill: #FFFFFF;\n",
              "    }\n",
              "  </style>\n",
              "\n",
              "      <script>\n",
              "        const buttonEl =\n",
              "          document.querySelector('#df-85649997-8a02-48aa-9e70-a6a8e044ee7f button.colab-df-convert');\n",
              "        buttonEl.style.display =\n",
              "          google.colab.kernel.accessAllowed ? 'block' : 'none';\n",
              "\n",
              "        async function convertToInteractive(key) {\n",
              "          const element = document.querySelector('#df-85649997-8a02-48aa-9e70-a6a8e044ee7f');\n",
              "          const dataTable =\n",
              "            await google.colab.kernel.invokeFunction('convertToInteractive',\n",
              "                                                     [key], {});\n",
              "          if (!dataTable) return;\n",
              "\n",
              "          const docLinkHtml = 'Like what you see? Visit the ' +\n",
              "            '<a target=\"_blank\" href=https://colab.research.google.com/notebooks/data_table.ipynb>data table notebook</a>'\n",
              "            + ' to learn more about interactive tables.';\n",
              "          element.innerHTML = '';\n",
              "          dataTable['output_type'] = 'display_data';\n",
              "          await google.colab.output.renderOutput(dataTable, element);\n",
              "          const docLink = document.createElement('div');\n",
              "          docLink.innerHTML = docLinkHtml;\n",
              "          element.appendChild(docLink);\n",
              "        }\n",
              "      </script>\n",
              "    </div>\n",
              "  </div>\n",
              "  "
            ]
          },
          "metadata": {},
          "execution_count": 6
        }
      ]
    },
    {
      "cell_type": "code",
      "source": [
        "data.info()"
      ],
      "metadata": {
        "colab": {
          "base_uri": "https://localhost:8080/"
        },
        "id": "PGOgq1wk6JpG",
        "outputId": "46caf29e-b13d-42eb-9765-5f29fa0cb805"
      },
      "execution_count": 7,
      "outputs": [
        {
          "output_type": "stream",
          "name": "stdout",
          "text": [
            "<class 'pandas.core.frame.DataFrame'>\n",
            "RangeIndex: 2000 entries, 0 to 1999\n",
            "Data columns (total 21 columns):\n",
            " #   Column         Non-Null Count  Dtype  \n",
            "---  ------         --------------  -----  \n",
            " 0   battery_power  2000 non-null   int64  \n",
            " 1   blue           2000 non-null   int64  \n",
            " 2   clock_speed    2000 non-null   float64\n",
            " 3   dual_sim       2000 non-null   int64  \n",
            " 4   fc             2000 non-null   int64  \n",
            " 5   four_g         2000 non-null   int64  \n",
            " 6   int_memory     2000 non-null   int64  \n",
            " 7   m_dep          2000 non-null   float64\n",
            " 8   mobile_wt      2000 non-null   int64  \n",
            " 9   n_cores        2000 non-null   int64  \n",
            " 10  pc             2000 non-null   int64  \n",
            " 11  px_height      2000 non-null   int64  \n",
            " 12  px_width       2000 non-null   int64  \n",
            " 13  ram            2000 non-null   int64  \n",
            " 14  sc_h           2000 non-null   int64  \n",
            " 15  sc_w           2000 non-null   int64  \n",
            " 16  talk_time      2000 non-null   int64  \n",
            " 17  three_g        2000 non-null   int64  \n",
            " 18  touch_screen   2000 non-null   int64  \n",
            " 19  wifi           2000 non-null   int64  \n",
            " 20  price_range    2000 non-null   int64  \n",
            "dtypes: float64(2), int64(19)\n",
            "memory usage: 328.2 KB\n"
          ]
        }
      ]
    },
    {
      "cell_type": "code",
      "source": [
        "data.describe()"
      ],
      "metadata": {
        "colab": {
          "base_uri": "https://localhost:8080/",
          "height": 393
        },
        "id": "X4MOp0c-6NQP",
        "outputId": "17f3fc9f-7bb5-474b-c533-143448638d58"
      },
      "execution_count": 8,
      "outputs": [
        {
          "output_type": "execute_result",
          "data": {
            "text/plain": [
              "       battery_power       blue  clock_speed     dual_sim           fc  \\\n",
              "count    2000.000000  2000.0000  2000.000000  2000.000000  2000.000000   \n",
              "mean     1238.518500     0.4950     1.522250     0.509500     4.309500   \n",
              "std       439.418206     0.5001     0.816004     0.500035     4.341444   \n",
              "min       501.000000     0.0000     0.500000     0.000000     0.000000   \n",
              "25%       851.750000     0.0000     0.700000     0.000000     1.000000   \n",
              "50%      1226.000000     0.0000     1.500000     1.000000     3.000000   \n",
              "75%      1615.250000     1.0000     2.200000     1.000000     7.000000   \n",
              "max      1998.000000     1.0000     3.000000     1.000000    19.000000   \n",
              "\n",
              "            four_g   int_memory        m_dep    mobile_wt      n_cores  ...  \\\n",
              "count  2000.000000  2000.000000  2000.000000  2000.000000  2000.000000  ...   \n",
              "mean      0.521500    32.046500     0.501750   140.249000     4.520500  ...   \n",
              "std       0.499662    18.145715     0.288416    35.399655     2.287837  ...   \n",
              "min       0.000000     2.000000     0.100000    80.000000     1.000000  ...   \n",
              "25%       0.000000    16.000000     0.200000   109.000000     3.000000  ...   \n",
              "50%       1.000000    32.000000     0.500000   141.000000     4.000000  ...   \n",
              "75%       1.000000    48.000000     0.800000   170.000000     7.000000  ...   \n",
              "max       1.000000    64.000000     1.000000   200.000000     8.000000  ...   \n",
              "\n",
              "         px_height     px_width          ram         sc_h         sc_w  \\\n",
              "count  2000.000000  2000.000000  2000.000000  2000.000000  2000.000000   \n",
              "mean    645.108000  1251.515500  2124.213000    12.306500     5.767000   \n",
              "std     443.780811   432.199447  1084.732044     4.213245     4.356398   \n",
              "min       0.000000   500.000000   256.000000     5.000000     0.000000   \n",
              "25%     282.750000   874.750000  1207.500000     9.000000     2.000000   \n",
              "50%     564.000000  1247.000000  2146.500000    12.000000     5.000000   \n",
              "75%     947.250000  1633.000000  3064.500000    16.000000     9.000000   \n",
              "max    1960.000000  1998.000000  3998.000000    19.000000    18.000000   \n",
              "\n",
              "         talk_time      three_g  touch_screen         wifi  price_range  \n",
              "count  2000.000000  2000.000000   2000.000000  2000.000000  2000.000000  \n",
              "mean     11.011000     0.761500      0.503000     0.507000     1.500000  \n",
              "std       5.463955     0.426273      0.500116     0.500076     1.118314  \n",
              "min       2.000000     0.000000      0.000000     0.000000     0.000000  \n",
              "25%       6.000000     1.000000      0.000000     0.000000     0.750000  \n",
              "50%      11.000000     1.000000      1.000000     1.000000     1.500000  \n",
              "75%      16.000000     1.000000      1.000000     1.000000     2.250000  \n",
              "max      20.000000     1.000000      1.000000     1.000000     3.000000  \n",
              "\n",
              "[8 rows x 21 columns]"
            ],
            "text/html": [
              "\n",
              "  <div id=\"df-dff97631-e564-411c-bbf3-0e21fbca1a2d\">\n",
              "    <div class=\"colab-df-container\">\n",
              "      <div>\n",
              "<style scoped>\n",
              "    .dataframe tbody tr th:only-of-type {\n",
              "        vertical-align: middle;\n",
              "    }\n",
              "\n",
              "    .dataframe tbody tr th {\n",
              "        vertical-align: top;\n",
              "    }\n",
              "\n",
              "    .dataframe thead th {\n",
              "        text-align: right;\n",
              "    }\n",
              "</style>\n",
              "<table border=\"1\" class=\"dataframe\">\n",
              "  <thead>\n",
              "    <tr style=\"text-align: right;\">\n",
              "      <th></th>\n",
              "      <th>battery_power</th>\n",
              "      <th>blue</th>\n",
              "      <th>clock_speed</th>\n",
              "      <th>dual_sim</th>\n",
              "      <th>fc</th>\n",
              "      <th>four_g</th>\n",
              "      <th>int_memory</th>\n",
              "      <th>m_dep</th>\n",
              "      <th>mobile_wt</th>\n",
              "      <th>n_cores</th>\n",
              "      <th>...</th>\n",
              "      <th>px_height</th>\n",
              "      <th>px_width</th>\n",
              "      <th>ram</th>\n",
              "      <th>sc_h</th>\n",
              "      <th>sc_w</th>\n",
              "      <th>talk_time</th>\n",
              "      <th>three_g</th>\n",
              "      <th>touch_screen</th>\n",
              "      <th>wifi</th>\n",
              "      <th>price_range</th>\n",
              "    </tr>\n",
              "  </thead>\n",
              "  <tbody>\n",
              "    <tr>\n",
              "      <th>count</th>\n",
              "      <td>2000.000000</td>\n",
              "      <td>2000.0000</td>\n",
              "      <td>2000.000000</td>\n",
              "      <td>2000.000000</td>\n",
              "      <td>2000.000000</td>\n",
              "      <td>2000.000000</td>\n",
              "      <td>2000.000000</td>\n",
              "      <td>2000.000000</td>\n",
              "      <td>2000.000000</td>\n",
              "      <td>2000.000000</td>\n",
              "      <td>...</td>\n",
              "      <td>2000.000000</td>\n",
              "      <td>2000.000000</td>\n",
              "      <td>2000.000000</td>\n",
              "      <td>2000.000000</td>\n",
              "      <td>2000.000000</td>\n",
              "      <td>2000.000000</td>\n",
              "      <td>2000.000000</td>\n",
              "      <td>2000.000000</td>\n",
              "      <td>2000.000000</td>\n",
              "      <td>2000.000000</td>\n",
              "    </tr>\n",
              "    <tr>\n",
              "      <th>mean</th>\n",
              "      <td>1238.518500</td>\n",
              "      <td>0.4950</td>\n",
              "      <td>1.522250</td>\n",
              "      <td>0.509500</td>\n",
              "      <td>4.309500</td>\n",
              "      <td>0.521500</td>\n",
              "      <td>32.046500</td>\n",
              "      <td>0.501750</td>\n",
              "      <td>140.249000</td>\n",
              "      <td>4.520500</td>\n",
              "      <td>...</td>\n",
              "      <td>645.108000</td>\n",
              "      <td>1251.515500</td>\n",
              "      <td>2124.213000</td>\n",
              "      <td>12.306500</td>\n",
              "      <td>5.767000</td>\n",
              "      <td>11.011000</td>\n",
              "      <td>0.761500</td>\n",
              "      <td>0.503000</td>\n",
              "      <td>0.507000</td>\n",
              "      <td>1.500000</td>\n",
              "    </tr>\n",
              "    <tr>\n",
              "      <th>std</th>\n",
              "      <td>439.418206</td>\n",
              "      <td>0.5001</td>\n",
              "      <td>0.816004</td>\n",
              "      <td>0.500035</td>\n",
              "      <td>4.341444</td>\n",
              "      <td>0.499662</td>\n",
              "      <td>18.145715</td>\n",
              "      <td>0.288416</td>\n",
              "      <td>35.399655</td>\n",
              "      <td>2.287837</td>\n",
              "      <td>...</td>\n",
              "      <td>443.780811</td>\n",
              "      <td>432.199447</td>\n",
              "      <td>1084.732044</td>\n",
              "      <td>4.213245</td>\n",
              "      <td>4.356398</td>\n",
              "      <td>5.463955</td>\n",
              "      <td>0.426273</td>\n",
              "      <td>0.500116</td>\n",
              "      <td>0.500076</td>\n",
              "      <td>1.118314</td>\n",
              "    </tr>\n",
              "    <tr>\n",
              "      <th>min</th>\n",
              "      <td>501.000000</td>\n",
              "      <td>0.0000</td>\n",
              "      <td>0.500000</td>\n",
              "      <td>0.000000</td>\n",
              "      <td>0.000000</td>\n",
              "      <td>0.000000</td>\n",
              "      <td>2.000000</td>\n",
              "      <td>0.100000</td>\n",
              "      <td>80.000000</td>\n",
              "      <td>1.000000</td>\n",
              "      <td>...</td>\n",
              "      <td>0.000000</td>\n",
              "      <td>500.000000</td>\n",
              "      <td>256.000000</td>\n",
              "      <td>5.000000</td>\n",
              "      <td>0.000000</td>\n",
              "      <td>2.000000</td>\n",
              "      <td>0.000000</td>\n",
              "      <td>0.000000</td>\n",
              "      <td>0.000000</td>\n",
              "      <td>0.000000</td>\n",
              "    </tr>\n",
              "    <tr>\n",
              "      <th>25%</th>\n",
              "      <td>851.750000</td>\n",
              "      <td>0.0000</td>\n",
              "      <td>0.700000</td>\n",
              "      <td>0.000000</td>\n",
              "      <td>1.000000</td>\n",
              "      <td>0.000000</td>\n",
              "      <td>16.000000</td>\n",
              "      <td>0.200000</td>\n",
              "      <td>109.000000</td>\n",
              "      <td>3.000000</td>\n",
              "      <td>...</td>\n",
              "      <td>282.750000</td>\n",
              "      <td>874.750000</td>\n",
              "      <td>1207.500000</td>\n",
              "      <td>9.000000</td>\n",
              "      <td>2.000000</td>\n",
              "      <td>6.000000</td>\n",
              "      <td>1.000000</td>\n",
              "      <td>0.000000</td>\n",
              "      <td>0.000000</td>\n",
              "      <td>0.750000</td>\n",
              "    </tr>\n",
              "    <tr>\n",
              "      <th>50%</th>\n",
              "      <td>1226.000000</td>\n",
              "      <td>0.0000</td>\n",
              "      <td>1.500000</td>\n",
              "      <td>1.000000</td>\n",
              "      <td>3.000000</td>\n",
              "      <td>1.000000</td>\n",
              "      <td>32.000000</td>\n",
              "      <td>0.500000</td>\n",
              "      <td>141.000000</td>\n",
              "      <td>4.000000</td>\n",
              "      <td>...</td>\n",
              "      <td>564.000000</td>\n",
              "      <td>1247.000000</td>\n",
              "      <td>2146.500000</td>\n",
              "      <td>12.000000</td>\n",
              "      <td>5.000000</td>\n",
              "      <td>11.000000</td>\n",
              "      <td>1.000000</td>\n",
              "      <td>1.000000</td>\n",
              "      <td>1.000000</td>\n",
              "      <td>1.500000</td>\n",
              "    </tr>\n",
              "    <tr>\n",
              "      <th>75%</th>\n",
              "      <td>1615.250000</td>\n",
              "      <td>1.0000</td>\n",
              "      <td>2.200000</td>\n",
              "      <td>1.000000</td>\n",
              "      <td>7.000000</td>\n",
              "      <td>1.000000</td>\n",
              "      <td>48.000000</td>\n",
              "      <td>0.800000</td>\n",
              "      <td>170.000000</td>\n",
              "      <td>7.000000</td>\n",
              "      <td>...</td>\n",
              "      <td>947.250000</td>\n",
              "      <td>1633.000000</td>\n",
              "      <td>3064.500000</td>\n",
              "      <td>16.000000</td>\n",
              "      <td>9.000000</td>\n",
              "      <td>16.000000</td>\n",
              "      <td>1.000000</td>\n",
              "      <td>1.000000</td>\n",
              "      <td>1.000000</td>\n",
              "      <td>2.250000</td>\n",
              "    </tr>\n",
              "    <tr>\n",
              "      <th>max</th>\n",
              "      <td>1998.000000</td>\n",
              "      <td>1.0000</td>\n",
              "      <td>3.000000</td>\n",
              "      <td>1.000000</td>\n",
              "      <td>19.000000</td>\n",
              "      <td>1.000000</td>\n",
              "      <td>64.000000</td>\n",
              "      <td>1.000000</td>\n",
              "      <td>200.000000</td>\n",
              "      <td>8.000000</td>\n",
              "      <td>...</td>\n",
              "      <td>1960.000000</td>\n",
              "      <td>1998.000000</td>\n",
              "      <td>3998.000000</td>\n",
              "      <td>19.000000</td>\n",
              "      <td>18.000000</td>\n",
              "      <td>20.000000</td>\n",
              "      <td>1.000000</td>\n",
              "      <td>1.000000</td>\n",
              "      <td>1.000000</td>\n",
              "      <td>3.000000</td>\n",
              "    </tr>\n",
              "  </tbody>\n",
              "</table>\n",
              "<p>8 rows × 21 columns</p>\n",
              "</div>\n",
              "      <button class=\"colab-df-convert\" onclick=\"convertToInteractive('df-dff97631-e564-411c-bbf3-0e21fbca1a2d')\"\n",
              "              title=\"Convert this dataframe to an interactive table.\"\n",
              "              style=\"display:none;\">\n",
              "        \n",
              "  <svg xmlns=\"http://www.w3.org/2000/svg\" height=\"24px\"viewBox=\"0 0 24 24\"\n",
              "       width=\"24px\">\n",
              "    <path d=\"M0 0h24v24H0V0z\" fill=\"none\"/>\n",
              "    <path d=\"M18.56 5.44l.94 2.06.94-2.06 2.06-.94-2.06-.94-.94-2.06-.94 2.06-2.06.94zm-11 1L8.5 8.5l.94-2.06 2.06-.94-2.06-.94L8.5 2.5l-.94 2.06-2.06.94zm10 10l.94 2.06.94-2.06 2.06-.94-2.06-.94-.94-2.06-.94 2.06-2.06.94z\"/><path d=\"M17.41 7.96l-1.37-1.37c-.4-.4-.92-.59-1.43-.59-.52 0-1.04.2-1.43.59L10.3 9.45l-7.72 7.72c-.78.78-.78 2.05 0 2.83L4 21.41c.39.39.9.59 1.41.59.51 0 1.02-.2 1.41-.59l7.78-7.78 2.81-2.81c.8-.78.8-2.07 0-2.86zM5.41 20L4 18.59l7.72-7.72 1.47 1.35L5.41 20z\"/>\n",
              "  </svg>\n",
              "      </button>\n",
              "      \n",
              "  <style>\n",
              "    .colab-df-container {\n",
              "      display:flex;\n",
              "      flex-wrap:wrap;\n",
              "      gap: 12px;\n",
              "    }\n",
              "\n",
              "    .colab-df-convert {\n",
              "      background-color: #E8F0FE;\n",
              "      border: none;\n",
              "      border-radius: 50%;\n",
              "      cursor: pointer;\n",
              "      display: none;\n",
              "      fill: #1967D2;\n",
              "      height: 32px;\n",
              "      padding: 0 0 0 0;\n",
              "      width: 32px;\n",
              "    }\n",
              "\n",
              "    .colab-df-convert:hover {\n",
              "      background-color: #E2EBFA;\n",
              "      box-shadow: 0px 1px 2px rgba(60, 64, 67, 0.3), 0px 1px 3px 1px rgba(60, 64, 67, 0.15);\n",
              "      fill: #174EA6;\n",
              "    }\n",
              "\n",
              "    [theme=dark] .colab-df-convert {\n",
              "      background-color: #3B4455;\n",
              "      fill: #D2E3FC;\n",
              "    }\n",
              "\n",
              "    [theme=dark] .colab-df-convert:hover {\n",
              "      background-color: #434B5C;\n",
              "      box-shadow: 0px 1px 3px 1px rgba(0, 0, 0, 0.15);\n",
              "      filter: drop-shadow(0px 1px 2px rgba(0, 0, 0, 0.3));\n",
              "      fill: #FFFFFF;\n",
              "    }\n",
              "  </style>\n",
              "\n",
              "      <script>\n",
              "        const buttonEl =\n",
              "          document.querySelector('#df-dff97631-e564-411c-bbf3-0e21fbca1a2d button.colab-df-convert');\n",
              "        buttonEl.style.display =\n",
              "          google.colab.kernel.accessAllowed ? 'block' : 'none';\n",
              "\n",
              "        async function convertToInteractive(key) {\n",
              "          const element = document.querySelector('#df-dff97631-e564-411c-bbf3-0e21fbca1a2d');\n",
              "          const dataTable =\n",
              "            await google.colab.kernel.invokeFunction('convertToInteractive',\n",
              "                                                     [key], {});\n",
              "          if (!dataTable) return;\n",
              "\n",
              "          const docLinkHtml = 'Like what you see? Visit the ' +\n",
              "            '<a target=\"_blank\" href=https://colab.research.google.com/notebooks/data_table.ipynb>data table notebook</a>'\n",
              "            + ' to learn more about interactive tables.';\n",
              "          element.innerHTML = '';\n",
              "          dataTable['output_type'] = 'display_data';\n",
              "          await google.colab.output.renderOutput(dataTable, element);\n",
              "          const docLink = document.createElement('div');\n",
              "          docLink.innerHTML = docLinkHtml;\n",
              "          element.appendChild(docLink);\n",
              "        }\n",
              "      </script>\n",
              "    </div>\n",
              "  </div>\n",
              "  "
            ]
          },
          "metadata": {},
          "execution_count": 8
        }
      ]
    },
    {
      "cell_type": "code",
      "source": [
        "data.isnull().sum()"
      ],
      "metadata": {
        "colab": {
          "base_uri": "https://localhost:8080/"
        },
        "id": "jCQciA3c6Z3n",
        "outputId": "889ddb2c-be76-464a-ba5a-c1e4135d5e9a"
      },
      "execution_count": 9,
      "outputs": [
        {
          "output_type": "execute_result",
          "data": {
            "text/plain": [
              "battery_power    0\n",
              "blue             0\n",
              "clock_speed      0\n",
              "dual_sim         0\n",
              "fc               0\n",
              "four_g           0\n",
              "int_memory       0\n",
              "m_dep            0\n",
              "mobile_wt        0\n",
              "n_cores          0\n",
              "pc               0\n",
              "px_height        0\n",
              "px_width         0\n",
              "ram              0\n",
              "sc_h             0\n",
              "sc_w             0\n",
              "talk_time        0\n",
              "three_g          0\n",
              "touch_screen     0\n",
              "wifi             0\n",
              "price_range      0\n",
              "dtype: int64"
            ]
          },
          "metadata": {},
          "execution_count": 9
        }
      ]
    },
    {
      "cell_type": "code",
      "source": [
        "data['price_range'].value_counts()"
      ],
      "metadata": {
        "colab": {
          "base_uri": "https://localhost:8080/"
        },
        "id": "rm8aVPdY6dCq",
        "outputId": "b4551d04-300c-4a8c-f2e4-8d356edefec3"
      },
      "execution_count": 10,
      "outputs": [
        {
          "output_type": "execute_result",
          "data": {
            "text/plain": [
              "1    500\n",
              "2    500\n",
              "3    500\n",
              "0    500\n",
              "Name: price_range, dtype: int64"
            ]
          },
          "metadata": {},
          "execution_count": 10
        }
      ]
    },
    {
      "cell_type": "code",
      "source": [
        "data['fc'].value_counts()"
      ],
      "metadata": {
        "colab": {
          "base_uri": "https://localhost:8080/"
        },
        "id": "pqDtp7OF6gKd",
        "outputId": "e10cb9b3-19f4-4c81-fe1a-4d421c51125a"
      },
      "execution_count": 11,
      "outputs": [
        {
          "output_type": "execute_result",
          "data": {
            "text/plain": [
              "0     474\n",
              "1     245\n",
              "2     189\n",
              "3     170\n",
              "5     139\n",
              "4     133\n",
              "6     112\n",
              "7     100\n",
              "9      78\n",
              "8      77\n",
              "10     62\n",
              "11     51\n",
              "12     45\n",
              "13     40\n",
              "16     24\n",
              "15     23\n",
              "14     20\n",
              "18     11\n",
              "17      6\n",
              "19      1\n",
              "Name: fc, dtype: int64"
            ]
          },
          "metadata": {},
          "execution_count": 11
        }
      ]
    },
    {
      "cell_type": "code",
      "source": [
        "# data['four_g'].value_counts()\n",
        "data.groupby(['price_range','four_g']).count()"
      ],
      "metadata": {
        "colab": {
          "base_uri": "https://localhost:8080/",
          "height": 331
        },
        "id": "NNrw0c1l6jEH",
        "outputId": "47f62f24-c76d-45d1-f1ae-960b93f2f905"
      },
      "execution_count": 12,
      "outputs": [
        {
          "output_type": "execute_result",
          "data": {
            "text/plain": [
              "                    battery_power  blue  clock_speed  dual_sim   fc  \\\n",
              "price_range four_g                                                    \n",
              "0           0                 241   241          241       241  241   \n",
              "            1                 259   259          259       259  259   \n",
              "1           0                 238   238          238       238  238   \n",
              "            1                 262   262          262       262  262   \n",
              "2           0                 253   253          253       253  253   \n",
              "            1                 247   247          247       247  247   \n",
              "3           0                 225   225          225       225  225   \n",
              "            1                 275   275          275       275  275   \n",
              "\n",
              "                    int_memory  m_dep  mobile_wt  n_cores   pc  px_height  \\\n",
              "price_range four_g                                                          \n",
              "0           0              241    241        241      241  241        241   \n",
              "            1              259    259        259      259  259        259   \n",
              "1           0              238    238        238      238  238        238   \n",
              "            1              262    262        262      262  262        262   \n",
              "2           0              253    253        253      253  253        253   \n",
              "            1              247    247        247      247  247        247   \n",
              "3           0              225    225        225      225  225        225   \n",
              "            1              275    275        275      275  275        275   \n",
              "\n",
              "                    px_width  ram  sc_h  sc_w  talk_time  three_g  \\\n",
              "price_range four_g                                                  \n",
              "0           0            241  241   241   241        241      241   \n",
              "            1            259  259   259   259        259      259   \n",
              "1           0            238  238   238   238        238      238   \n",
              "            1            262  262   262   262        262      262   \n",
              "2           0            253  253   253   253        253      253   \n",
              "            1            247  247   247   247        247      247   \n",
              "3           0            225  225   225   225        225      225   \n",
              "            1            275  275   275   275        275      275   \n",
              "\n",
              "                    touch_screen  wifi  \n",
              "price_range four_g                      \n",
              "0           0                241   241  \n",
              "            1                259   259  \n",
              "1           0                238   238  \n",
              "            1                262   262  \n",
              "2           0                253   253  \n",
              "            1                247   247  \n",
              "3           0                225   225  \n",
              "            1                275   275  "
            ],
            "text/html": [
              "\n",
              "  <div id=\"df-a0875b5e-600e-4c21-a61f-6633b6c8bd7e\">\n",
              "    <div class=\"colab-df-container\">\n",
              "      <div>\n",
              "<style scoped>\n",
              "    .dataframe tbody tr th:only-of-type {\n",
              "        vertical-align: middle;\n",
              "    }\n",
              "\n",
              "    .dataframe tbody tr th {\n",
              "        vertical-align: top;\n",
              "    }\n",
              "\n",
              "    .dataframe thead th {\n",
              "        text-align: right;\n",
              "    }\n",
              "</style>\n",
              "<table border=\"1\" class=\"dataframe\">\n",
              "  <thead>\n",
              "    <tr style=\"text-align: right;\">\n",
              "      <th></th>\n",
              "      <th></th>\n",
              "      <th>battery_power</th>\n",
              "      <th>blue</th>\n",
              "      <th>clock_speed</th>\n",
              "      <th>dual_sim</th>\n",
              "      <th>fc</th>\n",
              "      <th>int_memory</th>\n",
              "      <th>m_dep</th>\n",
              "      <th>mobile_wt</th>\n",
              "      <th>n_cores</th>\n",
              "      <th>pc</th>\n",
              "      <th>px_height</th>\n",
              "      <th>px_width</th>\n",
              "      <th>ram</th>\n",
              "      <th>sc_h</th>\n",
              "      <th>sc_w</th>\n",
              "      <th>talk_time</th>\n",
              "      <th>three_g</th>\n",
              "      <th>touch_screen</th>\n",
              "      <th>wifi</th>\n",
              "    </tr>\n",
              "    <tr>\n",
              "      <th>price_range</th>\n",
              "      <th>four_g</th>\n",
              "      <th></th>\n",
              "      <th></th>\n",
              "      <th></th>\n",
              "      <th></th>\n",
              "      <th></th>\n",
              "      <th></th>\n",
              "      <th></th>\n",
              "      <th></th>\n",
              "      <th></th>\n",
              "      <th></th>\n",
              "      <th></th>\n",
              "      <th></th>\n",
              "      <th></th>\n",
              "      <th></th>\n",
              "      <th></th>\n",
              "      <th></th>\n",
              "      <th></th>\n",
              "      <th></th>\n",
              "      <th></th>\n",
              "    </tr>\n",
              "  </thead>\n",
              "  <tbody>\n",
              "    <tr>\n",
              "      <th rowspan=\"2\" valign=\"top\">0</th>\n",
              "      <th>0</th>\n",
              "      <td>241</td>\n",
              "      <td>241</td>\n",
              "      <td>241</td>\n",
              "      <td>241</td>\n",
              "      <td>241</td>\n",
              "      <td>241</td>\n",
              "      <td>241</td>\n",
              "      <td>241</td>\n",
              "      <td>241</td>\n",
              "      <td>241</td>\n",
              "      <td>241</td>\n",
              "      <td>241</td>\n",
              "      <td>241</td>\n",
              "      <td>241</td>\n",
              "      <td>241</td>\n",
              "      <td>241</td>\n",
              "      <td>241</td>\n",
              "      <td>241</td>\n",
              "      <td>241</td>\n",
              "    </tr>\n",
              "    <tr>\n",
              "      <th>1</th>\n",
              "      <td>259</td>\n",
              "      <td>259</td>\n",
              "      <td>259</td>\n",
              "      <td>259</td>\n",
              "      <td>259</td>\n",
              "      <td>259</td>\n",
              "      <td>259</td>\n",
              "      <td>259</td>\n",
              "      <td>259</td>\n",
              "      <td>259</td>\n",
              "      <td>259</td>\n",
              "      <td>259</td>\n",
              "      <td>259</td>\n",
              "      <td>259</td>\n",
              "      <td>259</td>\n",
              "      <td>259</td>\n",
              "      <td>259</td>\n",
              "      <td>259</td>\n",
              "      <td>259</td>\n",
              "    </tr>\n",
              "    <tr>\n",
              "      <th rowspan=\"2\" valign=\"top\">1</th>\n",
              "      <th>0</th>\n",
              "      <td>238</td>\n",
              "      <td>238</td>\n",
              "      <td>238</td>\n",
              "      <td>238</td>\n",
              "      <td>238</td>\n",
              "      <td>238</td>\n",
              "      <td>238</td>\n",
              "      <td>238</td>\n",
              "      <td>238</td>\n",
              "      <td>238</td>\n",
              "      <td>238</td>\n",
              "      <td>238</td>\n",
              "      <td>238</td>\n",
              "      <td>238</td>\n",
              "      <td>238</td>\n",
              "      <td>238</td>\n",
              "      <td>238</td>\n",
              "      <td>238</td>\n",
              "      <td>238</td>\n",
              "    </tr>\n",
              "    <tr>\n",
              "      <th>1</th>\n",
              "      <td>262</td>\n",
              "      <td>262</td>\n",
              "      <td>262</td>\n",
              "      <td>262</td>\n",
              "      <td>262</td>\n",
              "      <td>262</td>\n",
              "      <td>262</td>\n",
              "      <td>262</td>\n",
              "      <td>262</td>\n",
              "      <td>262</td>\n",
              "      <td>262</td>\n",
              "      <td>262</td>\n",
              "      <td>262</td>\n",
              "      <td>262</td>\n",
              "      <td>262</td>\n",
              "      <td>262</td>\n",
              "      <td>262</td>\n",
              "      <td>262</td>\n",
              "      <td>262</td>\n",
              "    </tr>\n",
              "    <tr>\n",
              "      <th rowspan=\"2\" valign=\"top\">2</th>\n",
              "      <th>0</th>\n",
              "      <td>253</td>\n",
              "      <td>253</td>\n",
              "      <td>253</td>\n",
              "      <td>253</td>\n",
              "      <td>253</td>\n",
              "      <td>253</td>\n",
              "      <td>253</td>\n",
              "      <td>253</td>\n",
              "      <td>253</td>\n",
              "      <td>253</td>\n",
              "      <td>253</td>\n",
              "      <td>253</td>\n",
              "      <td>253</td>\n",
              "      <td>253</td>\n",
              "      <td>253</td>\n",
              "      <td>253</td>\n",
              "      <td>253</td>\n",
              "      <td>253</td>\n",
              "      <td>253</td>\n",
              "    </tr>\n",
              "    <tr>\n",
              "      <th>1</th>\n",
              "      <td>247</td>\n",
              "      <td>247</td>\n",
              "      <td>247</td>\n",
              "      <td>247</td>\n",
              "      <td>247</td>\n",
              "      <td>247</td>\n",
              "      <td>247</td>\n",
              "      <td>247</td>\n",
              "      <td>247</td>\n",
              "      <td>247</td>\n",
              "      <td>247</td>\n",
              "      <td>247</td>\n",
              "      <td>247</td>\n",
              "      <td>247</td>\n",
              "      <td>247</td>\n",
              "      <td>247</td>\n",
              "      <td>247</td>\n",
              "      <td>247</td>\n",
              "      <td>247</td>\n",
              "    </tr>\n",
              "    <tr>\n",
              "      <th rowspan=\"2\" valign=\"top\">3</th>\n",
              "      <th>0</th>\n",
              "      <td>225</td>\n",
              "      <td>225</td>\n",
              "      <td>225</td>\n",
              "      <td>225</td>\n",
              "      <td>225</td>\n",
              "      <td>225</td>\n",
              "      <td>225</td>\n",
              "      <td>225</td>\n",
              "      <td>225</td>\n",
              "      <td>225</td>\n",
              "      <td>225</td>\n",
              "      <td>225</td>\n",
              "      <td>225</td>\n",
              "      <td>225</td>\n",
              "      <td>225</td>\n",
              "      <td>225</td>\n",
              "      <td>225</td>\n",
              "      <td>225</td>\n",
              "      <td>225</td>\n",
              "    </tr>\n",
              "    <tr>\n",
              "      <th>1</th>\n",
              "      <td>275</td>\n",
              "      <td>275</td>\n",
              "      <td>275</td>\n",
              "      <td>275</td>\n",
              "      <td>275</td>\n",
              "      <td>275</td>\n",
              "      <td>275</td>\n",
              "      <td>275</td>\n",
              "      <td>275</td>\n",
              "      <td>275</td>\n",
              "      <td>275</td>\n",
              "      <td>275</td>\n",
              "      <td>275</td>\n",
              "      <td>275</td>\n",
              "      <td>275</td>\n",
              "      <td>275</td>\n",
              "      <td>275</td>\n",
              "      <td>275</td>\n",
              "      <td>275</td>\n",
              "    </tr>\n",
              "  </tbody>\n",
              "</table>\n",
              "</div>\n",
              "      <button class=\"colab-df-convert\" onclick=\"convertToInteractive('df-a0875b5e-600e-4c21-a61f-6633b6c8bd7e')\"\n",
              "              title=\"Convert this dataframe to an interactive table.\"\n",
              "              style=\"display:none;\">\n",
              "        \n",
              "  <svg xmlns=\"http://www.w3.org/2000/svg\" height=\"24px\"viewBox=\"0 0 24 24\"\n",
              "       width=\"24px\">\n",
              "    <path d=\"M0 0h24v24H0V0z\" fill=\"none\"/>\n",
              "    <path d=\"M18.56 5.44l.94 2.06.94-2.06 2.06-.94-2.06-.94-.94-2.06-.94 2.06-2.06.94zm-11 1L8.5 8.5l.94-2.06 2.06-.94-2.06-.94L8.5 2.5l-.94 2.06-2.06.94zm10 10l.94 2.06.94-2.06 2.06-.94-2.06-.94-.94-2.06-.94 2.06-2.06.94z\"/><path d=\"M17.41 7.96l-1.37-1.37c-.4-.4-.92-.59-1.43-.59-.52 0-1.04.2-1.43.59L10.3 9.45l-7.72 7.72c-.78.78-.78 2.05 0 2.83L4 21.41c.39.39.9.59 1.41.59.51 0 1.02-.2 1.41-.59l7.78-7.78 2.81-2.81c.8-.78.8-2.07 0-2.86zM5.41 20L4 18.59l7.72-7.72 1.47 1.35L5.41 20z\"/>\n",
              "  </svg>\n",
              "      </button>\n",
              "      \n",
              "  <style>\n",
              "    .colab-df-container {\n",
              "      display:flex;\n",
              "      flex-wrap:wrap;\n",
              "      gap: 12px;\n",
              "    }\n",
              "\n",
              "    .colab-df-convert {\n",
              "      background-color: #E8F0FE;\n",
              "      border: none;\n",
              "      border-radius: 50%;\n",
              "      cursor: pointer;\n",
              "      display: none;\n",
              "      fill: #1967D2;\n",
              "      height: 32px;\n",
              "      padding: 0 0 0 0;\n",
              "      width: 32px;\n",
              "    }\n",
              "\n",
              "    .colab-df-convert:hover {\n",
              "      background-color: #E2EBFA;\n",
              "      box-shadow: 0px 1px 2px rgba(60, 64, 67, 0.3), 0px 1px 3px 1px rgba(60, 64, 67, 0.15);\n",
              "      fill: #174EA6;\n",
              "    }\n",
              "\n",
              "    [theme=dark] .colab-df-convert {\n",
              "      background-color: #3B4455;\n",
              "      fill: #D2E3FC;\n",
              "    }\n",
              "\n",
              "    [theme=dark] .colab-df-convert:hover {\n",
              "      background-color: #434B5C;\n",
              "      box-shadow: 0px 1px 3px 1px rgba(0, 0, 0, 0.15);\n",
              "      filter: drop-shadow(0px 1px 2px rgba(0, 0, 0, 0.3));\n",
              "      fill: #FFFFFF;\n",
              "    }\n",
              "  </style>\n",
              "\n",
              "      <script>\n",
              "        const buttonEl =\n",
              "          document.querySelector('#df-a0875b5e-600e-4c21-a61f-6633b6c8bd7e button.colab-df-convert');\n",
              "        buttonEl.style.display =\n",
              "          google.colab.kernel.accessAllowed ? 'block' : 'none';\n",
              "\n",
              "        async function convertToInteractive(key) {\n",
              "          const element = document.querySelector('#df-a0875b5e-600e-4c21-a61f-6633b6c8bd7e');\n",
              "          const dataTable =\n",
              "            await google.colab.kernel.invokeFunction('convertToInteractive',\n",
              "                                                     [key], {});\n",
              "          if (!dataTable) return;\n",
              "\n",
              "          const docLinkHtml = 'Like what you see? Visit the ' +\n",
              "            '<a target=\"_blank\" href=https://colab.research.google.com/notebooks/data_table.ipynb>data table notebook</a>'\n",
              "            + ' to learn more about interactive tables.';\n",
              "          element.innerHTML = '';\n",
              "          dataTable['output_type'] = 'display_data';\n",
              "          await google.colab.output.renderOutput(dataTable, element);\n",
              "          const docLink = document.createElement('div');\n",
              "          docLink.innerHTML = docLinkHtml;\n",
              "          element.appendChild(docLink);\n",
              "        }\n",
              "      </script>\n",
              "    </div>\n",
              "  </div>\n",
              "  "
            ]
          },
          "metadata": {},
          "execution_count": 12
        }
      ]
    },
    {
      "cell_type": "code",
      "source": [
        "data['dual_sim'].value_counts()"
      ],
      "metadata": {
        "colab": {
          "base_uri": "https://localhost:8080/"
        },
        "id": "WcGU97Pl6l6e",
        "outputId": "f4816460-22fe-4b26-8ec5-17559efa77a7"
      },
      "execution_count": 13,
      "outputs": [
        {
          "output_type": "execute_result",
          "data": {
            "text/plain": [
              "1    1019\n",
              "0     981\n",
              "Name: dual_sim, dtype: int64"
            ]
          },
          "metadata": {},
          "execution_count": 13
        }
      ]
    },
    {
      "cell_type": "code",
      "source": [
        "data['n_cores'].value_counts()"
      ],
      "metadata": {
        "colab": {
          "base_uri": "https://localhost:8080/"
        },
        "id": "81kNsLJL6ogR",
        "outputId": "a61d41c2-6e7a-4371-a59d-7172046df51f"
      },
      "execution_count": 14,
      "outputs": [
        {
          "output_type": "execute_result",
          "data": {
            "text/plain": [
              "4    274\n",
              "7    259\n",
              "8    256\n",
              "2    247\n",
              "3    246\n",
              "5    246\n",
              "1    242\n",
              "6    230\n",
              "Name: n_cores, dtype: int64"
            ]
          },
          "metadata": {},
          "execution_count": 14
        }
      ]
    },
    {
      "cell_type": "markdown",
      "source": [
        "# **Explortory Data Analys**"
      ],
      "metadata": {
        "id": "65oTFTwe6tka"
      }
    },
    {
      "cell_type": "code",
      "source": [
        "#Boxplot between ram and price_range\n",
        "sns.boxplot(y = 'ram' , x = 'price_range',data= data)\n",
        "plt.show()"
      ],
      "metadata": {
        "colab": {
          "base_uri": "https://localhost:8080/",
          "height": 280
        },
        "id": "g2a6q1KmAQHN",
        "outputId": "969c77e5-6da5-4239-8599-796c972094fe"
      },
      "execution_count": 15,
      "outputs": [
        {
          "output_type": "display_data",
          "data": {
            "text/plain": [
              "<Figure size 432x288 with 1 Axes>"
            ],
            "image/png": "[encoded data removed]"
          },
          "metadata": {
            "needs_background": "light"
          }
        }
      ]
    },
    {
      "cell_type": "code",
      "source": [
        "column=data.columns\n",
        "column.shape"
      ],
      "metadata": {
        "colab": {
          "base_uri": "https://localhost:8080/"
        },
        "id": "187b0kisATEe",
        "outputId": "cd6e2a16-d8c4-4e4b-a615-7e908fbd3ba5"
      },
      "execution_count": 16,
      "outputs": [
        {
          "output_type": "execute_result",
          "data": {
            "text/plain": [
              "(21,)"
            ]
          },
          "metadata": {},
          "execution_count": 16
        }
      ]
    },
    {
      "cell_type": "code",
      "source": [
        "data.plot(kind='box',figsize=(35,10))\n",
        "plt.show()"
      ],
      "metadata": {
        "colab": {
          "base_uri": "https://localhost:8080/",
          "height": 571
        },
        "id": "slp7zmQ7AQET",
        "outputId": "d5fe82f4-9d8d-4e06-92f4-70988d0850bb"
      },
      "execution_count": 17,
      "outputs": [
        {
          "output_type": "display_data",
          "data": {
            "text/plain": [
              "<Figure size 2520x720 with 1 Axes>"
            ],
            "image/png": "[encoded data removed]"
          },
          "metadata": {
            "needs_background": "light"
          }
        }
      ]
    },
    {
      "cell_type": "code",
      "source": [
        "fig, axes = plt.subplots(4, 5, figsize=(30, 20))\n",
        "k=0\n",
        "for i in range(4):\n",
        "  for j in range(5):\n",
        " \n",
        "      sns.barplot(ax=axes[i, j],data=data,x='price_range',y=column[k],palette = 'Reds')\n",
        " \n",
        "      k=k+1"
      ],
      "metadata": {
        "colab": {
          "base_uri": "https://localhost:8080/",
          "height": 1000
        },
        "id": "K7HJS7aZAQBb",
        "outputId": "fbdac93f-bb1b-4697-d56c-327e067c7302"
      },
      "execution_count": 18,
      "outputs": [
        {
          "output_type": "display_data",
          "data": {
            "text/plain": [
              "<Figure size 2160x1440 with 20 Axes>"
            ],
            "image/png": "[encoded data removed]"
          },
          "metadata": {
            "needs_background": "light"
          }
        }
      ]
    },
    {
      "cell_type": "markdown",
      "source": [
        ". Here we see that Ram of phone and price are highly corelated.Incress in ram Incress in price.\n",
        "\n",
        ". After that 4g_band and batry of phone also afect phone price.\n",
        "\n",
        ". Mobile wt is decrese when price high, but mobile size is increase."
      ],
      "metadata": {
        "id": "rAtZZYllAqWt"
      }
    },
    {
      "cell_type": "code",
      "source": [
        "#percentage of phones which support 3g\n",
        "labels = [\"3G-supported\",'Not supported']\n",
        "values=data['three_g'].value_counts().values\n",
        "fig1, ax1 = plt.subplots()\n",
        "ax1.pie(values, labels=labels, autopct='%1.1f%%',shadow=True,startangle=90)\n",
        "plt.show()"
      ],
      "metadata": {
        "colab": {
          "base_uri": "https://localhost:8080/",
          "height": 248
        },
        "id": "D7x3JnEQAP-f",
        "outputId": "1331c283-a941-4d2b-d051-e38eddd1d6cd"
      },
      "execution_count": 19,
      "outputs": [
        {
          "output_type": "display_data",
          "data": {
            "text/plain": [
              "<Figure size 432x288 with 1 Axes>"
            ],
            "image/png": "[encoded data removed]"
          },
          "metadata": {}
        }
      ]
    },
    {
      "cell_type": "code",
      "source": [
        "#percentage of phones which support 4g\n",
        "labels = [\"4G-supported\",'Not supported']\n",
        "values=data['four_g'].value_counts().values\n",
        "fig1, ax1 = plt.subplots()\n",
        "ax1.pie(values, labels=labels, autopct='%1.1f%%',shadow=True,startangle=90)\n",
        "plt.show()"
      ],
      "metadata": {
        "colab": {
          "base_uri": "https://localhost:8080/",
          "height": 248
        },
        "id": "chDgtWgbAP7x",
        "outputId": "bc748c74-9fcf-414f-a4af-8b79e61be1fc"
      },
      "execution_count": 20,
      "outputs": [
        {
          "output_type": "display_data",
          "data": {
            "text/plain": [
              "<Figure size 432x288 with 1 Axes>"
            ],
            "image/png": "[encoded data removed]"
          },
          "metadata": {}
        }
      ]
    },
    {
      "cell_type": "markdown",
      "source": [
        "## **Plotting Relation between Price Range & 3G/4G**"
      ],
      "metadata": {
        "id": "zF0K5hPBA14J"
      }
    },
    {
      "cell_type": "code",
      "source": [
        "plt.figure(figsize = (12,6))\n",
        "sns.countplot(data['three_g'] , hue = data['price_range'] , palette = 'pink')\n",
        "plt.show()"
      ],
      "metadata": {
        "colab": {
          "base_uri": "https://localhost:8080/",
          "height": 443
        },
        "id": "jUq4iCxvAP47",
        "outputId": "15477ba6-5bee-491f-ac54-3bd9fbe0ab7a"
      },
      "execution_count": 21,
      "outputs": [
        {
          "output_type": "stream",
          "name": "stderr",
          "text": [
            "/usr/local/lib/python3.7/dist-packages/seaborn/_decorators.py:43: FutureWarning: Pass the following variable as a keyword arg: x. From version 0.12, the only valid positional argument will be `data`, and passing other arguments without an explicit keyword will result in an error or misinterpretation.\n",
            "  FutureWarning\n"
          ]
        },
        {
          "output_type": "display_data",
          "data": {
            "text/plain": [
              "<Figure size 864x432 with 1 Axes>"
            ],
            "image/png": "[encoded data removed]"
          },
          "metadata": {
            "needs_background": "light"
          }
        }
      ]
    },
    {
      "cell_type": "code",
      "source": [
        "plt.figure(figsize = (12,6))\n",
        "sns.countplot(data['four_g'] , hue = data['price_range'] , palette = 'ocean')\n",
        "plt.show()"
      ],
      "metadata": {
        "colab": {
          "base_uri": "https://localhost:8080/",
          "height": 443
        },
        "id": "ejjhPcfvAP1_",
        "outputId": "15180e5f-e9e0-4597-bd62-22021aa6758d"
      },
      "execution_count": 22,
      "outputs": [
        {
          "output_type": "stream",
          "name": "stderr",
          "text": [
            "/usr/local/lib/python3.7/dist-packages/seaborn/_decorators.py:43: FutureWarning: Pass the following variable as a keyword arg: x. From version 0.12, the only valid positional argument will be `data`, and passing other arguments without an explicit keyword will result in an error or misinterpretation.\n",
            "  FutureWarning\n"
          ]
        },
        {
          "output_type": "display_data",
          "data": {
            "text/plain": [
              "<Figure size 864x432 with 1 Axes>"
            ],
            "image/png": "[encoded data removed]"
          },
          "metadata": {
            "needs_background": "light"
          }
        }
      ]
    },
    {
      "cell_type": "markdown",
      "source": [
        "## **Plotting Relation between Price Range & Memory**"
      ],
      "metadata": {
        "id": "N-ydiULuA95a"
      }
    },
    {
      "cell_type": "code",
      "source": [
        "plt.figure(figsize = (12,6))\n",
        "sns.lineplot(x = 'price_range' , y = 'int_memory' , data = data , hue = 'dual_sim')\n",
        "plt.show()"
      ],
      "metadata": {
        "colab": {
          "base_uri": "https://localhost:8080/",
          "height": 389
        },
        "id": "IXSwqgkHAPy6",
        "outputId": "bbf95f05-2fc0-4999-eda0-f7a4befea445"
      },
      "execution_count": 23,
      "outputs": [
        {
          "output_type": "display_data",
          "data": {
            "text/plain": [
              "<Figure size 864x432 with 1 Axes>"
            ],
            "image/png": "[encoded data removed]"
          },
          "metadata": {
            "needs_background": "light"
          }
        }
      ]
    },
    {
      "cell_type": "markdown",
      "source": [
        "There is increase in internal memory for very high prices."
      ],
      "metadata": {
        "id": "tk3lBl5OBIO4"
      }
    },
    {
      "cell_type": "markdown",
      "source": [
        "# **Correlation**"
      ],
      "metadata": {
        "id": "2y4w4-aAKmtL"
      }
    },
    {
      "cell_type": "markdown",
      "source": [
        "In this section we will try to find relationship of each variables, their importance and impact on our dependent variable."
      ],
      "metadata": {
        "id": "cwovHIb2KsZP"
      }
    },
    {
      "cell_type": "code",
      "source": [
        "data.corr()"
      ],
      "metadata": {
        "colab": {
          "base_uri": "https://localhost:8080/",
          "height": 737
        },
        "id": "IaVCiLE4Kt4S",
        "outputId": "a88ffb6d-ff5f-4088-9135-7c2ae95a15a6"
      },
      "execution_count": 24,
      "outputs": [
        {
          "output_type": "execute_result",
          "data": {
            "text/plain": [
              "               battery_power      blue  clock_speed  dual_sim        fc  \\\n",
              "battery_power       1.000000  0.011252     0.011482 -0.041847  0.033334   \n",
              "blue                0.011252  1.000000     0.021419  0.035198  0.003593   \n",
              "clock_speed         0.011482  0.021419     1.000000 -0.001315 -0.000434   \n",
              "dual_sim           -0.041847  0.035198    -0.001315  1.000000 -0.029123   \n",
              "fc                  0.033334  0.003593    -0.000434 -0.029123  1.000000   \n",
              "four_g              0.015665  0.013443    -0.043073  0.003187 -0.016560   \n",
              "int_memory         -0.004004  0.041177     0.006545 -0.015679 -0.029133   \n",
              "m_dep               0.034085  0.004049    -0.014364 -0.022142 -0.001791   \n",
              "mobile_wt           0.001844 -0.008605     0.012350 -0.008979  0.023618   \n",
              "n_cores            -0.029727  0.036161    -0.005724 -0.024658 -0.013356   \n",
              "pc                  0.031441 -0.009952    -0.005245 -0.017143  0.644595   \n",
              "px_height           0.014901 -0.006872    -0.014523 -0.020875 -0.009990   \n",
              "px_width           -0.008402 -0.041533    -0.009476  0.014291 -0.005176   \n",
              "ram                -0.000653  0.026351     0.003443  0.041072  0.015099   \n",
              "sc_h               -0.029959 -0.002952    -0.029078 -0.011949 -0.011014   \n",
              "sc_w               -0.021421  0.000613    -0.007378 -0.016666 -0.012373   \n",
              "talk_time           0.052510  0.013934    -0.011432 -0.039404 -0.006829   \n",
              "three_g             0.011522 -0.030236    -0.046433 -0.014008  0.001793   \n",
              "touch_screen       -0.010516  0.010061     0.019756 -0.017117 -0.014828   \n",
              "wifi               -0.008343 -0.021863    -0.024471  0.022740  0.020085   \n",
              "price_range         0.200723  0.020573    -0.006606  0.017444  0.021998   \n",
              "\n",
              "                 four_g  int_memory     m_dep  mobile_wt   n_cores  ...  \\\n",
              "battery_power  0.015665   -0.004004  0.034085   0.001844 -0.029727  ...   \n",
              "blue           0.013443    0.041177  0.004049  -0.008605  0.036161  ...   \n",
              "clock_speed   -0.043073    0.006545 -0.014364   0.012350 -0.005724  ...   \n",
              "dual_sim       0.003187   -0.015679 -0.022142  -0.008979 -0.024658  ...   \n",
              "fc            -0.016560   -0.029133 -0.001791   0.023618 -0.013356  ...   \n",
              "four_g         1.000000    0.008690 -0.001823  -0.016537 -0.029706  ...   \n",
              "int_memory     0.008690    1.000000  0.006886  -0.034214 -0.028310  ...   \n",
              "m_dep         -0.001823    0.006886  1.000000   0.021756 -0.003504  ...   \n",
              "mobile_wt     -0.016537   -0.034214  0.021756   1.000000 -0.018989  ...   \n",
              "n_cores       -0.029706   -0.028310 -0.003504  -0.018989  1.000000  ...   \n",
              "pc            -0.005598   -0.033273  0.026282   0.018844 -0.001193  ...   \n",
              "px_height     -0.019236    0.010441  0.025263   0.000939 -0.006872  ...   \n",
              "px_width       0.007448   -0.008335  0.023566   0.000090  0.024480  ...   \n",
              "ram            0.007313    0.032813 -0.009434  -0.002581  0.004868  ...   \n",
              "sc_h           0.027166    0.037771 -0.025348  -0.033855 -0.000315  ...   \n",
              "sc_w           0.037005    0.011731 -0.018388  -0.020761  0.025826  ...   \n",
              "talk_time     -0.046628   -0.002790  0.017003   0.006209  0.013148  ...   \n",
              "three_g        0.584246   -0.009366 -0.012065   0.001551 -0.014733  ...   \n",
              "touch_screen   0.016758   -0.026999 -0.002638  -0.014368  0.023774  ...   \n",
              "wifi          -0.017620    0.006993 -0.028353  -0.000409 -0.009964  ...   \n",
              "price_range    0.014772    0.044435  0.000853  -0.030302  0.004399  ...   \n",
              "\n",
              "               px_height  px_width       ram      sc_h      sc_w  talk_time  \\\n",
              "battery_power   0.014901 -0.008402 -0.000653 -0.029959 -0.021421   0.052510   \n",
              "blue           -0.006872 -0.041533  0.026351 -0.002952  0.000613   0.013934   \n",
              "clock_speed    -0.014523 -0.009476  0.003443 -0.029078 -0.007378  -0.011432   \n",
              "dual_sim       -0.020875  0.014291  0.041072 -0.011949 -0.016666  -0.039404   \n",
              "fc             -0.009990 -0.005176  0.015099 -0.011014 -0.012373  -0.006829   \n",
              "four_g         -0.019236  0.007448  0.007313  0.027166  0.037005  -0.046628   \n",
              "int_memory      0.010441 -0.008335  0.032813  0.037771  0.011731  -0.002790   \n",
              "m_dep           0.025263  0.023566 -0.009434 -0.025348 -0.018388   0.017003   \n",
              "mobile_wt       0.000939  0.000090 -0.002581 -0.033855 -0.020761   0.006209   \n",
              "n_cores        -0.006872  0.024480  0.004868 -0.000315  0.025826   0.013148   \n",
              "pc             -0.018465  0.004196  0.028984  0.004938 -0.023819   0.014657   \n",
              "px_height       1.000000  0.510664 -0.020352  0.059615  0.043038  -0.010645   \n",
              "px_width        0.510664  1.000000  0.004105  0.021599  0.034699   0.006720   \n",
              "ram            -0.020352  0.004105  1.000000  0.015996  0.035576   0.010820   \n",
              "sc_h            0.059615  0.021599  0.015996  1.000000  0.506144  -0.017335   \n",
              "sc_w            0.043038  0.034699  0.035576  0.506144  1.000000  -0.022821   \n",
              "talk_time      -0.010645  0.006720  0.010820 -0.017335 -0.022821   1.000000   \n",
              "three_g        -0.031174  0.000350  0.015795  0.012033  0.030941  -0.042688   \n",
              "touch_screen    0.021891 -0.001628 -0.030455 -0.020023  0.012720   0.017196   \n",
              "wifi            0.051824  0.030319  0.022669  0.025929  0.035423  -0.029504   \n",
              "price_range     0.148858  0.165818  0.917046  0.022986  0.038711   0.021859   \n",
              "\n",
              "                three_g  touch_screen      wifi  price_range  \n",
              "battery_power  0.011522     -0.010516 -0.008343     0.200723  \n",
              "blue          -0.030236      0.010061 -0.021863     0.020573  \n",
              "clock_speed   -0.046433      0.019756 -0.024471    -0.006606  \n",
              "dual_sim      -0.014008     -0.017117  0.022740     0.017444  \n",
              "fc             0.001793     -0.014828  0.020085     0.021998  \n",
              "four_g         0.584246      0.016758 -0.017620     0.014772  \n",
              "int_memory    -0.009366     -0.026999  0.006993     0.044435  \n",
              "m_dep         -0.012065     -0.002638 -0.028353     0.000853  \n",
              "mobile_wt      0.001551     -0.014368 -0.000409    -0.030302  \n",
              "n_cores       -0.014733      0.023774 -0.009964     0.004399  \n",
              "pc            -0.001322     -0.008742  0.005389     0.033599  \n",
              "px_height     -0.031174      0.021891  0.051824     0.148858  \n",
              "px_width       0.000350     -0.001628  0.030319     0.165818  \n",
              "ram            0.015795     -0.030455  0.022669     0.917046  \n",
              "sc_h           0.012033     -0.020023  0.025929     0.022986  \n",
              "sc_w           0.030941      0.012720  0.035423     0.038711  \n",
              "talk_time     -0.042688      0.017196 -0.029504     0.021859  \n",
              "three_g        1.000000      0.013917  0.004316     0.023611  \n",
              "touch_screen   0.013917      1.000000  0.011917    -0.030411  \n",
              "wifi           0.004316      0.011917  1.000000     0.018785  \n",
              "price_range    0.023611     -0.030411  0.018785     1.000000  \n",
              "\n",
              "[21 rows x 21 columns]"
            ],
            "text/html": [
              "\n",
              "  <div id=\"df-3d9add17-2333-4f82-83cf-2e3261b2609d\">\n",
              "    <div class=\"colab-df-container\">\n",
              "      <div>\n",
              "<style scoped>\n",
              "    .dataframe tbody tr th:only-of-type {\n",
              "        vertical-align: middle;\n",
              "    }\n",
              "\n",
              "    .dataframe tbody tr th {\n",
              "        vertical-align: top;\n",
              "    }\n",
              "\n",
              "    .dataframe thead th {\n",
              "        text-align: right;\n",
              "    }\n",
              "</style>\n",
              "<table border=\"1\" class=\"dataframe\">\n",
              "  <thead>\n",
              "    <tr style=\"text-align: right;\">\n",
              "      <th></th>\n",
              "      <th>battery_power</th>\n",
              "      <th>blue</th>\n",
              "      <th>clock_speed</th>\n",
              "      <th>dual_sim</th>\n",
              "      <th>fc</th>\n",
              "      <th>four_g</th>\n",
              "      <th>int_memory</th>\n",
              "      <th>m_dep</th>\n",
              "      <th>mobile_wt</th>\n",
              "      <th>n_cores</th>\n",
              "      <th>...</th>\n",
              "      <th>px_height</th>\n",
              "      <th>px_width</th>\n",
              "      <th>ram</th>\n",
              "      <th>sc_h</th>\n",
              "      <th>sc_w</th>\n",
              "      <th>talk_time</th>\n",
              "      <th>three_g</th>\n",
              "      <th>touch_screen</th>\n",
              "      <th>wifi</th>\n",
              "      <th>price_range</th>\n",
              "    </tr>\n",
              "  </thead>\n",
              "  <tbody>\n",
              "    <tr>\n",
              "      <th>battery_power</th>\n",
              "      <td>1.000000</td>\n",
              "      <td>0.011252</td>\n",
              "      <td>0.011482</td>\n",
              "      <td>-0.041847</td>\n",
              "      <td>0.033334</td>\n",
              "      <td>0.015665</td>\n",
              "      <td>-0.004004</td>\n",
              "      <td>0.034085</td>\n",
              "      <td>0.001844</td>\n",
              "      <td>-0.029727</td>\n",
              "      <td>...</td>\n",
              "      <td>0.014901</td>\n",
              "      <td>-0.008402</td>\n",
              "      <td>-0.000653</td>\n",
              "      <td>-0.029959</td>\n",
              "      <td>-0.021421</td>\n",
              "      <td>0.052510</td>\n",
              "      <td>0.011522</td>\n",
              "      <td>-0.010516</td>\n",
              "      <td>-0.008343</td>\n",
              "      <td>0.200723</td>\n",
              "    </tr>\n",
              "    <tr>\n",
              "      <th>blue</th>\n",
              "      <td>0.011252</td>\n",
              "      <td>1.000000</td>\n",
              "      <td>0.021419</td>\n",
              "      <td>0.035198</td>\n",
              "      <td>0.003593</td>\n",
              "      <td>0.013443</td>\n",
              "      <td>0.041177</td>\n",
              "      <td>0.004049</td>\n",
              "      <td>-0.008605</td>\n",
              "      <td>0.036161</td>\n",
              "      <td>...</td>\n",
              "      <td>-0.006872</td>\n",
              "      <td>-0.041533</td>\n",
              "      <td>0.026351</td>\n",
              "      <td>-0.002952</td>\n",
              "      <td>0.000613</td>\n",
              "      <td>0.013934</td>\n",
              "      <td>-0.030236</td>\n",
              "      <td>0.010061</td>\n",
              "      <td>-0.021863</td>\n",
              "      <td>0.020573</td>\n",
              "    </tr>\n",
              "    <tr>\n",
              "      <th>clock_speed</th>\n",
              "      <td>0.011482</td>\n",
              "      <td>0.021419</td>\n",
              "      <td>1.000000</td>\n",
              "      <td>-0.001315</td>\n",
              "      <td>-0.000434</td>\n",
              "      <td>-0.043073</td>\n",
              "      <td>0.006545</td>\n",
              "      <td>-0.014364</td>\n",
              "      <td>0.012350</td>\n",
              "      <td>-0.005724</td>\n",
              "      <td>...</td>\n",
              "      <td>-0.014523</td>\n",
              "      <td>-0.009476</td>\n",
              "      <td>0.003443</td>\n",
              "      <td>-0.029078</td>\n",
              "      <td>-0.007378</td>\n",
              "      <td>-0.011432</td>\n",
              "      <td>-0.046433</td>\n",
              "      <td>0.019756</td>\n",
              "      <td>-0.024471</td>\n",
              "      <td>-0.006606</td>\n",
              "    </tr>\n",
              "    <tr>\n",
              "      <th>dual_sim</th>\n",
              "      <td>-0.041847</td>\n",
              "      <td>0.035198</td>\n",
              "      <td>-0.001315</td>\n",
              "      <td>1.000000</td>\n",
              "      <td>-0.029123</td>\n",
              "      <td>0.003187</td>\n",
              "      <td>-0.015679</td>\n",
              "      <td>-0.022142</td>\n",
              "      <td>-0.008979</td>\n",
              "      <td>-0.024658</td>\n",
              "      <td>...</td>\n",
              "      <td>-0.020875</td>\n",
              "      <td>0.014291</td>\n",
              "      <td>0.041072</td>\n",
              "      <td>-0.011949</td>\n",
              "      <td>-0.016666</td>\n",
              "      <td>-0.039404</td>\n",
              "      <td>-0.014008</td>\n",
              "      <td>-0.017117</td>\n",
              "      <td>0.022740</td>\n",
              "      <td>0.017444</td>\n",
              "    </tr>\n",
              "    <tr>\n",
              "      <th>fc</th>\n",
              "      <td>0.033334</td>\n",
              "      <td>0.003593</td>\n",
              "      <td>-0.000434</td>\n",
              "      <td>-0.029123</td>\n",
              "      <td>1.000000</td>\n",
              "      <td>-0.016560</td>\n",
              "      <td>-0.029133</td>\n",
              "      <td>-0.001791</td>\n",
              "      <td>0.023618</td>\n",
              "      <td>-0.013356</td>\n",
              "      <td>...</td>\n",
              "      <td>-0.009990</td>\n",
              "      <td>-0.005176</td>\n",
              "      <td>0.015099</td>\n",
              "      <td>-0.011014</td>\n",
              "      <td>-0.012373</td>\n",
              "      <td>-0.006829</td>\n",
              "      <td>0.001793</td>\n",
              "      <td>-0.014828</td>\n",
              "      <td>0.020085</td>\n",
              "      <td>0.021998</td>\n",
              "    </tr>\n",
              "    <tr>\n",
              "      <th>four_g</th>\n",
              "      <td>0.015665</td>\n",
              "      <td>0.013443</td>\n",
              "      <td>-0.043073</td>\n",
              "      <td>0.003187</td>\n",
              "      <td>-0.016560</td>\n",
              "      <td>1.000000</td>\n",
              "      <td>0.008690</td>\n",
              "      <td>-0.001823</td>\n",
              "      <td>-0.016537</td>\n",
              "      <td>-0.029706</td>\n",
              "      <td>...</td>\n",
              "      <td>-0.019236</td>\n",
              "      <td>0.007448</td>\n",
              "      <td>0.007313</td>\n",
              "      <td>0.027166</td>\n",
              "      <td>0.037005</td>\n",
              "      <td>-0.046628</td>\n",
              "      <td>0.584246</td>\n",
              "      <td>0.016758</td>\n",
              "      <td>-0.017620</td>\n",
              "      <td>0.014772</td>\n",
              "    </tr>\n",
              "    <tr>\n",
              "      <th>int_memory</th>\n",
              "      <td>-0.004004</td>\n",
              "      <td>0.041177</td>\n",
              "      <td>0.006545</td>\n",
              "      <td>-0.015679</td>\n",
              "      <td>-0.029133</td>\n",
              "      <td>0.008690</td>\n",
              "      <td>1.000000</td>\n",
              "      <td>0.006886</td>\n",
              "      <td>-0.034214</td>\n",
              "      <td>-0.028310</td>\n",
              "      <td>...</td>\n",
              "      <td>0.010441</td>\n",
              "      <td>-0.008335</td>\n",
              "      <td>0.032813</td>\n",
              "      <td>0.037771</td>\n",
              "      <td>0.011731</td>\n",
              "      <td>-0.002790</td>\n",
              "      <td>-0.009366</td>\n",
              "      <td>-0.026999</td>\n",
              "      <td>0.006993</td>\n",
              "      <td>0.044435</td>\n",
              "    </tr>\n",
              "    <tr>\n",
              "      <th>m_dep</th>\n",
              "      <td>0.034085</td>\n",
              "      <td>0.004049</td>\n",
              "      <td>-0.014364</td>\n",
              "      <td>-0.022142</td>\n",
              "      <td>-0.001791</td>\n",
              "      <td>-0.001823</td>\n",
              "      <td>0.006886</td>\n",
              "      <td>1.000000</td>\n",
              "      <td>0.021756</td>\n",
              "      <td>-0.003504</td>\n",
              "      <td>...</td>\n",
              "      <td>0.025263</td>\n",
              "      <td>0.023566</td>\n",
              "      <td>-0.009434</td>\n",
              "      <td>-0.025348</td>\n",
              "      <td>-0.018388</td>\n",
              "      <td>0.017003</td>\n",
              "      <td>-0.012065</td>\n",
              "      <td>-0.002638</td>\n",
              "      <td>-0.028353</td>\n",
              "      <td>0.000853</td>\n",
              "    </tr>\n",
              "    <tr>\n",
              "      <th>mobile_wt</th>\n",
              "      <td>0.001844</td>\n",
              "      <td>-0.008605</td>\n",
              "      <td>0.012350</td>\n",
              "      <td>-0.008979</td>\n",
              "      <td>0.023618</td>\n",
              "      <td>-0.016537</td>\n",
              "      <td>-0.034214</td>\n",
              "      <td>0.021756</td>\n",
              "      <td>1.000000</td>\n",
              "      <td>-0.018989</td>\n",
              "      <td>...</td>\n",
              "      <td>0.000939</td>\n",
              "      <td>0.000090</td>\n",
              "      <td>-0.002581</td>\n",
              "      <td>-0.033855</td>\n",
              "      <td>-0.020761</td>\n",
              "      <td>0.006209</td>\n",
              "      <td>0.001551</td>\n",
              "      <td>-0.014368</td>\n",
              "      <td>-0.000409</td>\n",
              "      <td>-0.030302</td>\n",
              "    </tr>\n",
              "    <tr>\n",
              "      <th>n_cores</th>\n",
              "      <td>-0.029727</td>\n",
              "      <td>0.036161</td>\n",
              "      <td>-0.005724</td>\n",
              "      <td>-0.024658</td>\n",
              "      <td>-0.013356</td>\n",
              "      <td>-0.029706</td>\n",
              "      <td>-0.028310</td>\n",
              "      <td>-0.003504</td>\n",
              "      <td>-0.018989</td>\n",
              "      <td>1.000000</td>\n",
              "      <td>...</td>\n",
              "      <td>-0.006872</td>\n",
              "      <td>0.024480</td>\n",
              "      <td>0.004868</td>\n",
              "      <td>-0.000315</td>\n",
              "      <td>0.025826</td>\n",
              "      <td>0.013148</td>\n",
              "      <td>-0.014733</td>\n",
              "      <td>0.023774</td>\n",
              "      <td>-0.009964</td>\n",
              "      <td>0.004399</td>\n",
              "    </tr>\n",
              "    <tr>\n",
              "      <th>pc</th>\n",
              "      <td>0.031441</td>\n",
              "      <td>-0.009952</td>\n",
              "      <td>-0.005245</td>\n",
              "      <td>-0.017143</td>\n",
              "      <td>0.644595</td>\n",
              "      <td>-0.005598</td>\n",
              "      <td>-0.033273</td>\n",
              "      <td>0.026282</td>\n",
              "      <td>0.018844</td>\n",
              "      <td>-0.001193</td>\n",
              "      <td>...</td>\n",
              "      <td>-0.018465</td>\n",
              "      <td>0.004196</td>\n",
              "      <td>0.028984</td>\n",
              "      <td>0.004938</td>\n",
              "      <td>-0.023819</td>\n",
              "      <td>0.014657</td>\n",
              "      <td>-0.001322</td>\n",
              "      <td>-0.008742</td>\n",
              "      <td>0.005389</td>\n",
              "      <td>0.033599</td>\n",
              "    </tr>\n",
              "    <tr>\n",
              "      <th>px_height</th>\n",
              "      <td>0.014901</td>\n",
              "      <td>-0.006872</td>\n",
              "      <td>-0.014523</td>\n",
              "      <td>-0.020875</td>\n",
              "      <td>-0.009990</td>\n",
              "      <td>-0.019236</td>\n",
              "      <td>0.010441</td>\n",
              "      <td>0.025263</td>\n",
              "      <td>0.000939</td>\n",
              "      <td>-0.006872</td>\n",
              "      <td>...</td>\n",
              "      <td>1.000000</td>\n",
              "      <td>0.510664</td>\n",
              "      <td>-0.020352</td>\n",
              "      <td>0.059615</td>\n",
              "      <td>0.043038</td>\n",
              "      <td>-0.010645</td>\n",
              "      <td>-0.031174</td>\n",
              "      <td>0.021891</td>\n",
              "      <td>0.051824</td>\n",
              "      <td>0.148858</td>\n",
              "    </tr>\n",
              "    <tr>\n",
              "      <th>px_width</th>\n",
              "      <td>-0.008402</td>\n",
              "      <td>-0.041533</td>\n",
              "      <td>-0.009476</td>\n",
              "      <td>0.014291</td>\n",
              "      <td>-0.005176</td>\n",
              "      <td>0.007448</td>\n",
              "      <td>-0.008335</td>\n",
              "      <td>0.023566</td>\n",
              "      <td>0.000090</td>\n",
              "      <td>0.024480</td>\n",
              "      <td>...</td>\n",
              "      <td>0.510664</td>\n",
              "      <td>1.000000</td>\n",
              "      <td>0.004105</td>\n",
              "      <td>0.021599</td>\n",
              "      <td>0.034699</td>\n",
              "      <td>0.006720</td>\n",
              "      <td>0.000350</td>\n",
              "      <td>-0.001628</td>\n",
              "      <td>0.030319</td>\n",
              "      <td>0.165818</td>\n",
              "    </tr>\n",
              "    <tr>\n",
              "      <th>ram</th>\n",
              "      <td>-0.000653</td>\n",
              "      <td>0.026351</td>\n",
              "      <td>0.003443</td>\n",
              "      <td>0.041072</td>\n",
              "      <td>0.015099</td>\n",
              "      <td>0.007313</td>\n",
              "      <td>0.032813</td>\n",
              "      <td>-0.009434</td>\n",
              "      <td>-0.002581</td>\n",
              "      <td>0.004868</td>\n",
              "      <td>...</td>\n",
              "      <td>-0.020352</td>\n",
              "      <td>0.004105</td>\n",
              "      <td>1.000000</td>\n",
              "      <td>0.015996</td>\n",
              "      <td>0.035576</td>\n",
              "      <td>0.010820</td>\n",
              "      <td>0.015795</td>\n",
              "      <td>-0.030455</td>\n",
              "      <td>0.022669</td>\n",
              "      <td>0.917046</td>\n",
              "    </tr>\n",
              "    <tr>\n",
              "      <th>sc_h</th>\n",
              "      <td>-0.029959</td>\n",
              "      <td>-0.002952</td>\n",
              "      <td>-0.029078</td>\n",
              "      <td>-0.011949</td>\n",
              "      <td>-0.011014</td>\n",
              "      <td>0.027166</td>\n",
              "      <td>0.037771</td>\n",
              "      <td>-0.025348</td>\n",
              "      <td>-0.033855</td>\n",
              "      <td>-0.000315</td>\n",
              "      <td>...</td>\n",
              "      <td>0.059615</td>\n",
              "      <td>0.021599</td>\n",
              "      <td>0.015996</td>\n",
              "      <td>1.000000</td>\n",
              "      <td>0.506144</td>\n",
              "      <td>-0.017335</td>\n",
              "      <td>0.012033</td>\n",
              "      <td>-0.020023</td>\n",
              "      <td>0.025929</td>\n",
              "      <td>0.022986</td>\n",
              "    </tr>\n",
              "    <tr>\n",
              "      <th>sc_w</th>\n",
              "      <td>-0.021421</td>\n",
              "      <td>0.000613</td>\n",
              "      <td>-0.007378</td>\n",
              "      <td>-0.016666</td>\n",
              "      <td>-0.012373</td>\n",
              "      <td>0.037005</td>\n",
              "      <td>0.011731</td>\n",
              "      <td>-0.018388</td>\n",
              "      <td>-0.020761</td>\n",
              "      <td>0.025826</td>\n",
              "      <td>...</td>\n",
              "      <td>0.043038</td>\n",
              "      <td>0.034699</td>\n",
              "      <td>0.035576</td>\n",
              "      <td>0.506144</td>\n",
              "      <td>1.000000</td>\n",
              "      <td>-0.022821</td>\n",
              "      <td>0.030941</td>\n",
              "      <td>0.012720</td>\n",
              "      <td>0.035423</td>\n",
              "      <td>0.038711</td>\n",
              "    </tr>\n",
              "    <tr>\n",
              "      <th>talk_time</th>\n",
              "      <td>0.052510</td>\n",
              "      <td>0.013934</td>\n",
              "      <td>-0.011432</td>\n",
              "      <td>-0.039404</td>\n",
              "      <td>-0.006829</td>\n",
              "      <td>-0.046628</td>\n",
              "      <td>-0.002790</td>\n",
              "      <td>0.017003</td>\n",
              "      <td>0.006209</td>\n",
              "      <td>0.013148</td>\n",
              "      <td>...</td>\n",
              "      <td>-0.010645</td>\n",
              "      <td>0.006720</td>\n",
              "      <td>0.010820</td>\n",
              "      <td>-0.017335</td>\n",
              "      <td>-0.022821</td>\n",
              "      <td>1.000000</td>\n",
              "      <td>-0.042688</td>\n",
              "      <td>0.017196</td>\n",
              "      <td>-0.029504</td>\n",
              "      <td>0.021859</td>\n",
              "    </tr>\n",
              "    <tr>\n",
              "      <th>three_g</th>\n",
              "      <td>0.011522</td>\n",
              "      <td>-0.030236</td>\n",
              "      <td>-0.046433</td>\n",
              "      <td>-0.014008</td>\n",
              "      <td>0.001793</td>\n",
              "      <td>0.584246</td>\n",
              "      <td>-0.009366</td>\n",
              "      <td>-0.012065</td>\n",
              "      <td>0.001551</td>\n",
              "      <td>-0.014733</td>\n",
              "      <td>...</td>\n",
              "      <td>-0.031174</td>\n",
              "      <td>0.000350</td>\n",
              "      <td>0.015795</td>\n",
              "      <td>0.012033</td>\n",
              "      <td>0.030941</td>\n",
              "      <td>-0.042688</td>\n",
              "      <td>1.000000</td>\n",
              "      <td>0.013917</td>\n",
              "      <td>0.004316</td>\n",
              "      <td>0.023611</td>\n",
              "    </tr>\n",
              "    <tr>\n",
              "      <th>touch_screen</th>\n",
              "      <td>-0.010516</td>\n",
              "      <td>0.010061</td>\n",
              "      <td>0.019756</td>\n",
              "      <td>-0.017117</td>\n",
              "      <td>-0.014828</td>\n",
              "      <td>0.016758</td>\n",
              "      <td>-0.026999</td>\n",
              "      <td>-0.002638</td>\n",
              "      <td>-0.014368</td>\n",
              "      <td>0.023774</td>\n",
              "      <td>...</td>\n",
              "      <td>0.021891</td>\n",
              "      <td>-0.001628</td>\n",
              "      <td>-0.030455</td>\n",
              "      <td>-0.020023</td>\n",
              "      <td>0.012720</td>\n",
              "      <td>0.017196</td>\n",
              "      <td>0.013917</td>\n",
              "      <td>1.000000</td>\n",
              "      <td>0.011917</td>\n",
              "      <td>-0.030411</td>\n",
              "    </tr>\n",
              "    <tr>\n",
              "      <th>wifi</th>\n",
              "      <td>-0.008343</td>\n",
              "      <td>-0.021863</td>\n",
              "      <td>-0.024471</td>\n",
              "      <td>0.022740</td>\n",
              "      <td>0.020085</td>\n",
              "      <td>-0.017620</td>\n",
              "      <td>0.006993</td>\n",
              "      <td>-0.028353</td>\n",
              "      <td>-0.000409</td>\n",
              "      <td>-0.009964</td>\n",
              "      <td>...</td>\n",
              "      <td>0.051824</td>\n",
              "      <td>0.030319</td>\n",
              "      <td>0.022669</td>\n",
              "      <td>0.025929</td>\n",
              "      <td>0.035423</td>\n",
              "      <td>-0.029504</td>\n",
              "      <td>0.004316</td>\n",
              "      <td>0.011917</td>\n",
              "      <td>1.000000</td>\n",
              "      <td>0.018785</td>\n",
              "    </tr>\n",
              "    <tr>\n",
              "      <th>price_range</th>\n",
              "      <td>0.200723</td>\n",
              "      <td>0.020573</td>\n",
              "      <td>-0.006606</td>\n",
              "      <td>0.017444</td>\n",
              "      <td>0.021998</td>\n",
              "      <td>0.014772</td>\n",
              "      <td>0.044435</td>\n",
              "      <td>0.000853</td>\n",
              "      <td>-0.030302</td>\n",
              "      <td>0.004399</td>\n",
              "      <td>...</td>\n",
              "      <td>0.148858</td>\n",
              "      <td>0.165818</td>\n",
              "      <td>0.917046</td>\n",
              "      <td>0.022986</td>\n",
              "      <td>0.038711</td>\n",
              "      <td>0.021859</td>\n",
              "      <td>0.023611</td>\n",
              "      <td>-0.030411</td>\n",
              "      <td>0.018785</td>\n",
              "      <td>1.000000</td>\n",
              "    </tr>\n",
              "  </tbody>\n",
              "</table>\n",
              "<p>21 rows × 21 columns</p>\n",
              "</div>\n",
              "      <button class=\"colab-df-convert\" onclick=\"convertToInteractive('df-3d9add17-2333-4f82-83cf-2e3261b2609d')\"\n",
              "              title=\"Convert this dataframe to an interactive table.\"\n",
              "              style=\"display:none;\">\n",
              "        \n",
              "  <svg xmlns=\"http://www.w3.org/2000/svg\" height=\"24px\"viewBox=\"0 0 24 24\"\n",
              "       width=\"24px\">\n",
              "    <path d=\"M0 0h24v24H0V0z\" fill=\"none\"/>\n",
              "    <path d=\"M18.56 5.44l.94 2.06.94-2.06 2.06-.94-2.06-.94-.94-2.06-.94 2.06-2.06.94zm-11 1L8.5 8.5l.94-2.06 2.06-.94-2.06-.94L8.5 2.5l-.94 2.06-2.06.94zm10 10l.94 2.06.94-2.06 2.06-.94-2.06-.94-.94-2.06-.94 2.06-2.06.94z\"/><path d=\"M17.41 7.96l-1.37-1.37c-.4-.4-.92-.59-1.43-.59-.52 0-1.04.2-1.43.59L10.3 9.45l-7.72 7.72c-.78.78-.78 2.05 0 2.83L4 21.41c.39.39.9.59 1.41.59.51 0 1.02-.2 1.41-.59l7.78-7.78 2.81-2.81c.8-.78.8-2.07 0-2.86zM5.41 20L4 18.59l7.72-7.72 1.47 1.35L5.41 20z\"/>\n",
              "  </svg>\n",
              "      </button>\n",
              "      \n",
              "  <style>\n",
              "    .colab-df-container {\n",
              "      display:flex;\n",
              "      flex-wrap:wrap;\n",
              "      gap: 12px;\n",
              "    }\n",
              "\n",
              "    .colab-df-convert {\n",
              "      background-color: #E8F0FE;\n",
              "      border: none;\n",
              "      border-radius: 50%;\n",
              "      cursor: pointer;\n",
              "      display: none;\n",
              "      fill: #1967D2;\n",
              "      height: 32px;\n",
              "      padding: 0 0 0 0;\n",
              "      width: 32px;\n",
              "    }\n",
              "\n",
              "    .colab-df-convert:hover {\n",
              "      background-color: #E2EBFA;\n",
              "      box-shadow: 0px 1px 2px rgba(60, 64, 67, 0.3), 0px 1px 3px 1px rgba(60, 64, 67, 0.15);\n",
              "      fill: #174EA6;\n",
              "    }\n",
              "\n",
              "    [theme=dark] .colab-df-convert {\n",
              "      background-color: #3B4455;\n",
              "      fill: #D2E3FC;\n",
              "    }\n",
              "\n",
              "    [theme=dark] .colab-df-convert:hover {\n",
              "      background-color: #434B5C;\n",
              "      box-shadow: 0px 1px 3px 1px rgba(0, 0, 0, 0.15);\n",
              "      filter: drop-shadow(0px 1px 2px rgba(0, 0, 0, 0.3));\n",
              "      fill: #FFFFFF;\n",
              "    }\n",
              "  </style>\n",
              "\n",
              "      <script>\n",
              "        const buttonEl =\n",
              "          document.querySelector('#df-3d9add17-2333-4f82-83cf-2e3261b2609d button.colab-df-convert');\n",
              "        buttonEl.style.display =\n",
              "          google.colab.kernel.accessAllowed ? 'block' : 'none';\n",
              "\n",
              "        async function convertToInteractive(key) {\n",
              "          const element = document.querySelector('#df-3d9add17-2333-4f82-83cf-2e3261b2609d');\n",
              "          const dataTable =\n",
              "            await google.colab.kernel.invokeFunction('convertToInteractive',\n",
              "                                                     [key], {});\n",
              "          if (!dataTable) return;\n",
              "\n",
              "          const docLinkHtml = 'Like what you see? Visit the ' +\n",
              "            '<a target=\"_blank\" href=https://colab.research.google.com/notebooks/data_table.ipynb>data table notebook</a>'\n",
              "            + ' to learn more about interactive tables.';\n",
              "          element.innerHTML = '';\n",
              "          dataTable['output_type'] = 'display_data';\n",
              "          await google.colab.output.renderOutput(dataTable, element);\n",
              "          const docLink = document.createElement('div');\n",
              "          docLink.innerHTML = docLinkHtml;\n",
              "          element.appendChild(docLink);\n",
              "        }\n",
              "      </script>\n",
              "    </div>\n",
              "  </div>\n",
              "  "
            ]
          },
          "metadata": {},
          "execution_count": 24
        }
      ]
    },
    {
      "cell_type": "code",
      "source": [
        "corr = data.corr()\n",
        "import plotly.express as px\n",
        "fig = px.imshow(corr, text_auto=\".2f\", color_continuous_scale='hot', aspect=\"auto\")\n",
        "fig.show()"
      ],
      "metadata": {
        "colab": {
          "base_uri": "https://localhost:8080/",
          "height": 541
        },
        "id": "E1nCBuB9KviX",
        "outputId": "a8b39a40-479d-4073-bf7e-d4e8247b4f7f"
      },
      "execution_count": 25,
      "outputs": [
        {
          "output_type": "display_data",
          "data": {
            "text/html": [
              "<html>\n",
              "<head><meta charset=\"utf-8\" /></head>\n",
              "<body>\n",
              "    <div>            <script src=\"https://cdnjs.cloudflare.com/ajax/libs/mathjax/2.7.5/MathJax.js?config=TeX-AMS-MML_SVG\"></script><script type=\"text/javascript\">if (window.MathJax) {MathJax.Hub.Config({SVG: {font: \"STIX-Web\"}});}</script>                <script type=\"text/javascript\">window.PlotlyConfig = {MathJaxConfig: 'local'};</script>\n",
              "        <script src=\"https://cdn.plot.ly/plotly-2.8.3.min.js\"></script>                <div id=\"71f9bc5a-6e72-4e16-af70-561fee2c765c\" class=\"plotly-graph-div\" style=\"height:525px; width:100%;\"></div>            <script type=\"text/javascript\">                                    window.PLOTLYENV=window.PLOTLYENV || {};                                    if (document.getElementById(\"71f9bc5a-6e72-4e16-af70-561fee2c765c\")) {                    Plotly.newPlot(                        \"71f9bc5a-6e72-4e16-af70-561fee2c765c\",                        [{\"coloraxis\":\"coloraxis\",\"name\":\"0\",\"texttemplate\":\"%{z:.2f}\",\"x\":[\"battery_power\",\"blue\",\"clock_speed\",\"dual_sim\",\"fc\",\"four_g\",\"int_memory\",\"m_dep\",\"mobile_wt\",\"n_cores\",\"pc\",\"px_height\",\"px_width\",\"ram\",\"sc_h\",\"sc_w\",\"talk_time\",\"three_g\",\"touch_screen\",\"wifi\",\"price_range\"],\"y\":[\"battery_power\",\"blue\",\"clock_speed\",\"dual_sim\",\"fc\",\"four_g\",\"int_memory\",\"m_dep\",\"mobile_wt\",\"n_cores\",\"pc\",\"px_height\",\"px_width\",\"ram\",\"sc_h\",\"sc_w\",\"talk_time\",\"three_g\",\"touch_screen\",\"wifi\",\"price_range\"],\"z\":[[1.0,0.011251623808409005,0.011481593741547481,-0.04184684985531915,0.03333438500912425,0.01566455462474265,-0.004003679910891169,0.03408451490286734,0.0018443762145710233,-0.029727258910731354,0.03144067724331099,0.014900804544674877,-0.008401830499043849,-0.0006529264469275295,-0.029958601467988392,-0.021420943294223553,0.052510354657595223,0.011522168448019688,-0.01051583536613963,-0.008342928835738948,0.20072261211373124],[0.011251623808409005,1.0,0.021418693043786914,0.03519811346493916,0.003593201045941478,0.013443105451586793,0.04117716902002657,0.004049193533434709,-0.008604642824947226,0.03616071896601607,-0.00995217229370233,-0.00687239046225623,-0.041533441805918475,0.026350936945151174,-0.0029522925572921794,0.0006130756499930555,0.01393365037228793,-0.030236184948883298,0.010060684131672363,-0.021863235784086183,0.020572854061418573],[0.011481593741547481,0.021418693043786914,1.0,-0.001315204025505052,-0.000433898207660617,-0.04307335549720816,0.006545145152924384,-0.014364360309299837,0.012349747866586158,-0.005724226033792937,-0.005245037561591485,-0.01452289508684957,-0.009475653050430185,0.0034430306880890646,-0.029077621806347063,-0.007378355543214177,-0.01143186555981287,-0.04643349691424839,0.019755805960568244,-0.024471012567611566,-0.00660569088173212],[-0.04184684985531915,0.03519811346493916,-0.001315204025505052,1.0,-0.02912278446583605,0.003186521989701648,-0.01567896229023402,-0.022141660518706963,-0.008979405132754852,-0.02465813483383521,-0.017142621266392086,-0.020875260863243213,0.014290542210206252,0.04107201687575117,-0.011949263255963908,-0.016666122534513564,-0.03940399950293255,-0.014007623397290642,-0.017117398029556908,0.022740333260222696,0.01744447923722472],[0.03333438500912425,0.003593201045941478,-0.000433898207660617,-0.02912278446583605,1.0,-0.016559688164037883,-0.02913277524519928,-0.0017911308477025982,0.023618017096817143,-0.013356243442967479,0.6445952827956328,-0.009989907483697769,-0.00517563438442659,0.015098970498477332,-0.011013954695093463,-0.012372591307992842,-0.006828649366975372,0.0017925738443707725,-0.014827844783864685,0.020084872854668548,0.021998207776904328],[0.01566455462474265,0.013443105451586793,-0.04307335549720816,0.003186521989701648,-0.016559688164037883,1.0,0.00868997105928721,-0.0018232988898241223,-0.01653673407505381,-0.029705501066110994,-0.005598221993478703,-0.01923623567730995,0.007448216573482412,0.0073134746504713395,0.027165510975675624,0.03700497303918502,-0.046627814257882524,0.5842455634172913,0.016757801119348513,-0.017620022497302826,0.014771711417239467],[-0.004003679910891169,0.04117716902002657,0.006545145152924384,-0.01567896229023402,-0.02913277524519928,0.00868997105928721,1.0,0.006885755150957458,-0.034214209135475016,-0.028310416689851636,-0.033273388854864576,0.01044125677561802,-0.008334853372394556,0.03281317408091542,0.037771132797365395,0.011730534410369215,-0.00279028899118698,-0.009365962592532107,-0.026998677669091975,0.00699300967745834,0.0444349593889875],[0.03408451490286734,0.004049193533434709,-0.014364360309299837,-0.022141660518706963,-0.0017911308477025982,-0.0018232988898241223,0.006885755150957458,1.0,0.021756065251581302,-0.0035038859268239643,0.026282439444050783,0.025262869860381374,0.023566345906041848,-0.009434120647010023,-0.025347805785424112,-0.018388117499987987,0.01700255295055869,-0.012065410514054402,-0.002637527311245226,-0.0283526523501044,0.0008530365050865703],[0.0018443762145710233,-0.008604642824947226,0.012349747866586158,-0.008979405132754852,0.023618017096817143,-0.01653673407505381,-0.034214209135475016,0.021756065251581302,1.0,-0.018988757205049323,0.018843929835236205,0.0009393239804485686,8.976163925582267e-05,-0.002580541707291326,-0.0338547136814375,-0.020760525088739313,0.00620850075859248,0.0015505852829662409,-0.014368228393982193,-0.0004093554892794404,-0.03030217131438632],[-0.029727258910731354,0.03616071896601607,-0.005724226033792937,-0.02465813483383521,-0.013356243442967479,-0.029705501066110994,-0.028310416689851636,-0.0035038859268239643,-0.018988757205049323,1.0,-0.0011926142129104558,-0.0068720733908026336,0.02447991702476149,0.004868325744798485,-0.00031483547910175254,0.025826454168080982,0.013147863907840205,-0.0147326730582514,0.02377423964666761,-0.009963531365809119,0.004399274799457341],[0.03144067724331099,-0.00995217229370233,-0.005245037561591485,-0.017142621266392086,0.6445952827956328,-0.005598221993478703,-0.033273388854864576,0.026282439444050783,0.018843929835236205,-0.0011926142129104558,1.0,-0.018465494278375384,0.004195944306608137,0.028983516524420147,0.004937519864469917,-0.023819237920395638,0.014656985160164141,-0.0013216200581519886,-0.008741829782886398,0.005388963710424834,0.033599300213539574],[0.014900804544674877,-0.00687239046225623,-0.01452289508684957,-0.020875260863243213,-0.009989907483697769,-0.01923623567730995,0.01044125677561802,0.025262869860381374,0.0009393239804485686,-0.0068720733908026336,-0.018465494278375384,1.0,0.5106644191393148,-0.020351922754965054,0.05961529446087679,0.043038268105588674,-0.010645253467093312,-0.031173739264258045,0.02189133832091127,0.05182398873692636,0.148857555000422],[-0.008401830499043849,-0.041533441805918475,-0.009475653050430185,0.014290542210206252,-0.00517563438442659,0.007448216573482412,-0.008334853372394556,0.023566345906041848,8.976163925582267e-05,0.02447991702476149,0.004195944306608137,0.5106644191393148,1.0,0.004105216467218681,0.0215985621119942,0.03469919558577322,0.006719940879503146,0.00034998245201687313,-0.0016283723577048288,0.030318972829504395,0.16581750172625534],[-0.0006529264469275295,0.026350936945151174,0.0034430306880890646,0.04107201687575117,0.015098970498477332,0.0073134746504713395,0.03281317408091542,-0.009434120647010023,-0.002580541707291326,0.004868325744798485,0.028983516524420147,-0.020351922754965054,0.004105216467218681,1.0,0.01599614874068266,0.035575670143050915,0.010819977788843133,0.015794939866243723,-0.03045464776240744,0.022668801572951838,0.9170457362649902],[-0.029958601467988392,-0.0029522925572921794,-0.029077621806347063,-0.011949263255963908,-0.011013954695093463,0.027165510975675624,0.037771132797365395,-0.025347805785424112,-0.0338547136814375,-0.00031483547910175254,0.004937519864469917,0.05961529446087679,0.0215985621119942,0.01599614874068266,1.0,0.5061442083433548,-0.01733510049832937,0.012032933550798295,-0.020022954064033708,0.025929424733713454,0.022986073167424327],[-0.021420943294223553,0.0006130756499930555,-0.007378355543214177,-0.016666122534513564,-0.012372591307992842,0.03700497303918502,0.011730534410369215,-0.018388117499987987,-0.020760525088739313,0.025826454168080982,-0.023819237920395638,0.043038268105588674,0.03469919558577322,0.035575670143050915,0.5061442083433548,1.0,-0.022820859653885684,0.030941187653777777,0.012719879393453802,0.035422777627496016,0.03871127166448414],[0.052510354657595223,0.01393365037228793,-0.01143186555981287,-0.03940399950293255,-0.006828649366975372,-0.046627814257882524,-0.00279028899118698,0.01700255295055869,0.00620850075859248,0.013147863907840205,0.014656985160164141,-0.010645253467093312,0.006719940879503146,0.010819977788843133,-0.01733510049832937,-0.022820859653885684,1.0,-0.042688021103825274,0.01719618484955997,-0.0295042871223901,0.02185887116237482],[0.011522168448019688,-0.030236184948883298,-0.04643349691424839,-0.014007623397290642,0.0017925738443707725,0.5842455634172913,-0.009365962592532107,-0.012065410514054402,0.0015505852829662409,-0.0147326730582514,-0.0013216200581519886,-0.031173739264258045,0.00034998245201687313,0.015794939866243723,0.012032933550798295,0.030941187653777777,-0.042688021103825274,1.0,0.013917351497663108,0.004315639393765238,0.023611216880045166],[-0.01051583536613963,0.010060684131672363,0.019755805960568244,-0.017117398029556908,-0.014827844783864685,0.016757801119348513,-0.026998677669091975,-0.002637527311245226,-0.014368228393982193,0.02377423964666761,-0.008741829782886398,0.02189133832091127,-0.0016283723577048288,-0.03045464776240744,-0.020022954064033708,0.012719879393453802,0.01719618484955997,0.013917351497663108,1.0,0.011917382454504768,-0.03041107189821805],[-0.008342928835738948,-0.021863235784086183,-0.024471012567611566,0.022740333260222696,0.020084872854668548,-0.017620022497302826,0.00699300967745834,-0.0283526523501044,-0.0004093554892794404,-0.009963531365809119,0.005388963710424834,0.05182398873692636,0.030318972829504395,0.022668801572951838,0.025929424733713454,0.035422777627496016,-0.0295042871223901,0.004315639393765238,0.011917382454504768,1.0,0.01878481201278905],[0.20072261211373124,0.020572854061418573,-0.00660569088173212,0.01744447923722472,0.021998207776904328,0.014771711417239467,0.0444349593889875,0.0008530365050865703,-0.03030217131438632,0.004399274799457341,0.033599300213539574,0.148857555000422,0.16581750172625534,0.9170457362649902,0.022986073167424327,0.03871127166448414,0.02185887116237482,0.023611216880045166,-0.03041107189821805,0.01878481201278905,1.0]],\"type\":\"heatmap\",\"xaxis\":\"x\",\"yaxis\":\"y\",\"hovertemplate\":\"x: %{x}<br>y: %{y}<br>color: %{z}<extra></extra>\"}],                        {\"template\":{\"data\":{\"bar\":[{\"error_x\":{\"color\":\"#2a3f5f\"},\"error_y\":{\"color\":\"#2a3f5f\"},\"marker\":{\"line\":{\"color\":\"#E5ECF6\",\"width\":0.5},\"pattern\":{\"fillmode\":\"overlay\",\"size\":10,\"solidity\":0.2}},\"type\":\"bar\"}],\"barpolar\":[{\"marker\":{\"line\":{\"color\":\"#E5ECF6\",\"width\":0.5},\"pattern\":{\"fillmode\":\"overlay\",\"size\":10,\"solidity\":0.2}},\"type\":\"barpolar\"}],\"carpet\":[{\"aaxis\":{\"endlinecolor\":\"#2a3f5f\",\"gridcolor\":\"white\",\"linecolor\":\"white\",\"minorgridcolor\":\"white\",\"startlinecolor\":\"#2a3f5f\"},\"baxis\":{\"endlinecolor\":\"#2a3f5f\",\"gridcolor\":\"white\",\"linecolor\":\"white\",\"minorgridcolor\":\"white\",\"startlinecolor\":\"#2a3f5f\"},\"type\":\"carpet\"}],\"choropleth\":[{\"colorbar\":{\"outlinewidth\":0,\"ticks\":\"\"},\"type\":\"choropleth\"}],\"contour\":[{\"colorbar\":{\"outlinewidth\":0,\"ticks\":\"\"},\"colorscale\":[[0.0,\"#0d0887\"],[0.1111111111111111,\"#46039f\"],[0.2222222222222222,\"#7201a8\"],[0.3333333333333333,\"#9c179e\"],[0.4444444444444444,\"#bd3786\"],[0.5555555555555556,\"#d8576b\"],[0.6666666666666666,\"#ed7953\"],[0.7777777777777778,\"#fb9f3a\"],[0.8888888888888888,\"#fdca26\"],[1.0,\"#f0f921\"]],\"type\":\"contour\"}],\"contourcarpet\":[{\"colorbar\":{\"outlinewidth\":0,\"ticks\":\"\"},\"type\":\"contourcarpet\"}],\"heatmap\":[{\"colorbar\":{\"outlinewidth\":0,\"ticks\":\"\"},\"colorscale\":[[0.0,\"#0d0887\"],[0.1111111111111111,\"#46039f\"],[0.2222222222222222,\"#7201a8\"],[0.3333333333333333,\"#9c179e\"],[0.4444444444444444,\"#bd3786\"],[0.5555555555555556,\"#d8576b\"],[0.6666666666666666,\"#ed7953\"],[0.7777777777777778,\"#fb9f3a\"],[0.8888888888888888,\"#fdca26\"],[1.0,\"#f0f921\"]],\"type\":\"heatmap\"}],\"heatmapgl\":[{\"colorbar\":{\"outlinewidth\":0,\"ticks\":\"\"},\"colorscale\":[[0.0,\"#0d0887\"],[0.1111111111111111,\"#46039f\"],[0.2222222222222222,\"#7201a8\"],[0.3333333333333333,\"#9c179e\"],[0.4444444444444444,\"#bd3786\"],[0.5555555555555556,\"#d8576b\"],[0.6666666666666666,\"#ed7953\"],[0.7777777777777778,\"#fb9f3a\"],[0.8888888888888888,\"#fdca26\"],[1.0,\"#f0f921\"]],\"type\":\"heatmapgl\"}],\"histogram\":[{\"marker\":{\"pattern\":{\"fillmode\":\"overlay\",\"size\":10,\"solidity\":0.2}},\"type\":\"histogram\"}],\"histogram2d\":[{\"colorbar\":{\"outlinewidth\":0,\"ticks\":\"\"},\"colorscale\":[[0.0,\"#0d0887\"],[0.1111111111111111,\"#46039f\"],[0.2222222222222222,\"#7201a8\"],[0.3333333333333333,\"#9c179e\"],[0.4444444444444444,\"#bd3786\"],[0.5555555555555556,\"#d8576b\"],[0.6666666666666666,\"#ed7953\"],[0.7777777777777778,\"#fb9f3a\"],[0.8888888888888888,\"#fdca26\"],[1.0,\"#f0f921\"]],\"type\":\"histogram2d\"}],\"histogram2dcontour\":[{\"colorbar\":{\"outlinewidth\":0,\"ticks\":\"\"},\"colorscale\":[[0.0,\"#0d0887\"],[0.1111111111111111,\"#46039f\"],[0.2222222222222222,\"#7201a8\"],[0.3333333333333333,\"#9c179e\"],[0.4444444444444444,\"#bd3786\"],[0.5555555555555556,\"#d8576b\"],[0.6666666666666666,\"#ed7953\"],[0.7777777777777778,\"#fb9f3a\"],[0.8888888888888888,\"#fdca26\"],[1.0,\"#f0f921\"]],\"type\":\"histogram2dcontour\"}],\"mesh3d\":[{\"colorbar\":{\"outlinewidth\":0,\"ticks\":\"\"},\"type\":\"mesh3d\"}],\"parcoords\":[{\"line\":{\"colorbar\":{\"outlinewidth\":0,\"ticks\":\"\"}},\"type\":\"parcoords\"}],\"pie\":[{\"automargin\":true,\"type\":\"pie\"}],\"scatter\":[{\"marker\":{\"colorbar\":{\"outlinewidth\":0,\"ticks\":\"\"}},\"type\":\"scatter\"}],\"scatter3d\":[{\"line\":{\"colorbar\":{\"outlinewidth\":0,\"ticks\":\"\"}},\"marker\":{\"colorbar\":{\"outlinewidth\":0,\"ticks\":\"\"}},\"type\":\"scatter3d\"}],\"scattercarpet\":[{\"marker\":{\"colorbar\":{\"outlinewidth\":0,\"ticks\":\"\"}},\"type\":\"scattercarpet\"}],\"scattergeo\":[{\"marker\":{\"colorbar\":{\"outlinewidth\":0,\"ticks\":\"\"}},\"type\":\"scattergeo\"}],\"scattergl\":[{\"marker\":{\"colorbar\":{\"outlinewidth\":0,\"ticks\":\"\"}},\"type\":\"scattergl\"}],\"scattermapbox\":[{\"marker\":{\"colorbar\":{\"outlinewidth\":0,\"ticks\":\"\"}},\"type\":\"scattermapbox\"}],\"scatterpolar\":[{\"marker\":{\"colorbar\":{\"outlinewidth\":0,\"ticks\":\"\"}},\"type\":\"scatterpolar\"}],\"scatterpolargl\":[{\"marker\":{\"colorbar\":{\"outlinewidth\":0,\"ticks\":\"\"}},\"type\":\"scatterpolargl\"}],\"scatterternary\":[{\"marker\":{\"colorbar\":{\"outlinewidth\":0,\"ticks\":\"\"}},\"type\":\"scatterternary\"}],\"surface\":[{\"colorbar\":{\"outlinewidth\":0,\"ticks\":\"\"},\"colorscale\":[[0.0,\"#0d0887\"],[0.1111111111111111,\"#46039f\"],[0.2222222222222222,\"#7201a8\"],[0.3333333333333333,\"#9c179e\"],[0.4444444444444444,\"#bd3786\"],[0.5555555555555556,\"#d8576b\"],[0.6666666666666666,\"#ed7953\"],[0.7777777777777778,\"#fb9f3a\"],[0.8888888888888888,\"#fdca26\"],[1.0,\"#f0f921\"]],\"type\":\"surface\"}],\"table\":[{\"cells\":{\"fill\":{\"color\":\"#EBF0F8\"},\"line\":{\"color\":\"white\"}},\"header\":{\"fill\":{\"color\":\"#C8D4E3\"},\"line\":{\"color\":\"white\"}},\"type\":\"table\"}]},\"layout\":{\"annotationdefaults\":{\"arrowcolor\":\"#2a3f5f\",\"arrowhead\":0,\"arrowwidth\":1},\"autotypenumbers\":\"strict\",\"coloraxis\":{\"colorbar\":{\"outlinewidth\":0,\"ticks\":\"\"}},\"colorscale\":{\"diverging\":[[0,\"#8e0152\"],[0.1,\"#c51b7d\"],[0.2,\"#de77ae\"],[0.3,\"#f1b6da\"],[0.4,\"#fde0ef\"],[0.5,\"#f7f7f7\"],[0.6,\"#e6f5d0\"],[0.7,\"#b8e186\"],[0.8,\"#7fbc41\"],[0.9,\"#4d9221\"],[1,\"#276419\"]],\"sequential\":[[0.0,\"#0d0887\"],[0.1111111111111111,\"#46039f\"],[0.2222222222222222,\"#7201a8\"],[0.3333333333333333,\"#9c179e\"],[0.4444444444444444,\"#bd3786\"],[0.5555555555555556,\"#d8576b\"],[0.6666666666666666,\"#ed7953\"],[0.7777777777777778,\"#fb9f3a\"],[0.8888888888888888,\"#fdca26\"],[1.0,\"#f0f921\"]],\"sequentialminus\":[[0.0,\"#0d0887\"],[0.1111111111111111,\"#46039f\"],[0.2222222222222222,\"#7201a8\"],[0.3333333333333333,\"#9c179e\"],[0.4444444444444444,\"#bd3786\"],[0.5555555555555556,\"#d8576b\"],[0.6666666666666666,\"#ed7953\"],[0.7777777777777778,\"#fb9f3a\"],[0.8888888888888888,\"#fdca26\"],[1.0,\"#f0f921\"]]},\"colorway\":[\"#636efa\",\"#EF553B\",\"#00cc96\",\"#ab63fa\",\"#FFA15A\",\"#19d3f3\",\"#FF6692\",\"#B6E880\",\"#FF97FF\",\"#FECB52\"],\"font\":{\"color\":\"#2a3f5f\"},\"geo\":{\"bgcolor\":\"white\",\"lakecolor\":\"white\",\"landcolor\":\"#E5ECF6\",\"showlakes\":true,\"showland\":true,\"subunitcolor\":\"white\"},\"hoverlabel\":{\"align\":\"left\"},\"hovermode\":\"closest\",\"mapbox\":{\"style\":\"light\"},\"paper_bgcolor\":\"white\",\"plot_bgcolor\":\"#E5ECF6\",\"polar\":{\"angularaxis\":{\"gridcolor\":\"white\",\"linecolor\":\"white\",\"ticks\":\"\"},\"bgcolor\":\"#E5ECF6\",\"radialaxis\":{\"gridcolor\":\"white\",\"linecolor\":\"white\",\"ticks\":\"\"}},\"scene\":{\"xaxis\":{\"backgroundcolor\":\"#E5ECF6\",\"gridcolor\":\"white\",\"gridwidth\":2,\"linecolor\":\"white\",\"showbackground\":true,\"ticks\":\"\",\"zerolinecolor\":\"white\"},\"yaxis\":{\"backgroundcolor\":\"#E5ECF6\",\"gridcolor\":\"white\",\"gridwidth\":2,\"linecolor\":\"white\",\"showbackground\":true,\"ticks\":\"\",\"zerolinecolor\":\"white\"},\"zaxis\":{\"backgroundcolor\":\"#E5ECF6\",\"gridcolor\":\"white\",\"gridwidth\":2,\"linecolor\":\"white\",\"showbackground\":true,\"ticks\":\"\",\"zerolinecolor\":\"white\"}},\"shapedefaults\":{\"line\":{\"color\":\"#2a3f5f\"}},\"ternary\":{\"aaxis\":{\"gridcolor\":\"white\",\"linecolor\":\"white\",\"ticks\":\"\"},\"baxis\":{\"gridcolor\":\"white\",\"linecolor\":\"white\",\"ticks\":\"\"},\"bgcolor\":\"#E5ECF6\",\"caxis\":{\"gridcolor\":\"white\",\"linecolor\":\"white\",\"ticks\":\"\"}},\"title\":{\"x\":0.05},\"xaxis\":{\"automargin\":true,\"gridcolor\":\"white\",\"linecolor\":\"white\",\"ticks\":\"\",\"title\":{\"standoff\":15},\"zerolinecolor\":\"white\",\"zerolinewidth\":2},\"yaxis\":{\"automargin\":true,\"gridcolor\":\"white\",\"linecolor\":\"white\",\"ticks\":\"\",\"title\":{\"standoff\":15},\"zerolinecolor\":\"white\",\"zerolinewidth\":2}}},\"xaxis\":{\"anchor\":\"y\",\"domain\":[0.0,1.0]},\"yaxis\":{\"anchor\":\"x\",\"domain\":[0.0,1.0],\"autorange\":\"reversed\"},\"coloraxis\":{\"colorscale\":[[0.0,\"rgb(0,0,0)\"],[0.3333333333333333,\"rgb(230,0,0)\"],[0.6666666666666666,\"rgb(255,210,0)\"],[1.0,\"rgb(255,255,255)\"]]},\"margin\":{\"t\":60}},                        {\"responsive\": true}                    ).then(function(){\n",
              "                            \n",
              "var gd = document.getElementById('71f9bc5a-6e72-4e16-af70-561fee2c765c');\n",
              "var x = new MutationObserver(function (mutations, observer) {{\n",
              "        var display = window.getComputedStyle(gd).display;\n",
              "        if (!display || display === 'none') {{\n",
              "            console.log([gd, 'removed!']);\n",
              "            Plotly.purge(gd);\n",
              "            observer.disconnect();\n",
              "        }}\n",
              "}});\n",
              "\n",
              "// Listen for the removal of the full notebook cells\n",
              "var notebookContainer = gd.closest('#notebook-container');\n",
              "if (notebookContainer) {{\n",
              "    x.observe(notebookContainer, {childList: true});\n",
              "}}\n",
              "\n",
              "// Listen for the clearing of the current output cell\n",
              "var outputEl = gd.closest('.output');\n",
              "if (outputEl) {{\n",
              "    x.observe(outputEl, {childList: true});\n",
              "}}\n",
              "\n",
              "                        })                };                            </script>        </div>\n",
              "</body>\n",
              "</html>"
            ]
          },
          "metadata": {}
        }
      ]
    },
    {
      "cell_type": "markdown",
      "source": [
        "Points to note from above heatmap:\n",
        "\n",
        "pc is correlated with fc.\n",
        "\n",
        "three_g and four_g are moderately correlated.\n",
        "\n",
        "sc_h and sc_w are moderately correlated. We will change them into a single variable.\n",
        "\n",
        "px_width and px_height are moderately correlated. We will try to change them into a single variable.\n",
        "\n",
        "ram is highly correlated with our price range. May be one the most important factor in determining the price."
      ],
      "metadata": {
        "id": "LFE7uN7DLAEJ"
      }
    },
    {
      "cell_type": "code",
      "source": [
        "# data['mobile_size']=data['px_height']*data['px_width']\n",
        "# data['screen_size']=data['sc_w']*data['sc_h']"
      ],
      "metadata": {
        "id": "s1Ahu5roKvdT"
      },
      "execution_count": 26,
      "outputs": []
    },
    {
      "cell_type": "markdown",
      "source": [
        "We cannot create mobile screen_size=px_height * px_width because , there are may data whose height/ weidth is 0 .\n",
        "\n",
        "if we mulitiplly it show 0 size which may afect our data."
      ],
      "metadata": {
        "id": "h5QZS2vKLJUk"
      }
    },
    {
      "cell_type": "code",
      "source": [
        "corr=data.corr()\n",
        "fig = px.imshow(corr, text_auto=\".2f\", color_continuous_scale='hot', aspect=\"auto\")\n",
        "fig.show()"
      ],
      "metadata": {
        "colab": {
          "base_uri": "https://localhost:8080/",
          "height": 541
        },
        "id": "_dRiB1xXKvWO",
        "outputId": "eb8d53b9-a97b-4cd8-e8da-47248fed89b0"
      },
      "execution_count": 27,
      "outputs": [
        {
          "output_type": "display_data",
          "data": {
            "text/html": [
              "<html>\n",
              "<head><meta charset=\"utf-8\" /></head>\n",
              "<body>\n",
              "    <div>            <script src=\"https://cdnjs.cloudflare.com/ajax/libs/mathjax/2.7.5/MathJax.js?config=TeX-AMS-MML_SVG\"></script><script type=\"text/javascript\">if (window.MathJax) {MathJax.Hub.Config({SVG: {font: \"STIX-Web\"}});}</script>                <script type=\"text/javascript\">window.PlotlyConfig = {MathJaxConfig: 'local'};</script>\n",
              "        <script src=\"https://cdn.plot.ly/plotly-2.8.3.min.js\"></script>                <div id=\"6dee4cdd-483b-4620-ac21-1bb94ca87ca6\" class=\"plotly-graph-div\" style=\"height:525px; width:100%;\"></div>            <script type=\"text/javascript\">                                    window.PLOTLYENV=window.PLOTLYENV || {};                                    if (document.getElementById(\"6dee4cdd-483b-4620-ac21-1bb94ca87ca6\")) {                    Plotly.newPlot(                        \"6dee4cdd-483b-4620-ac21-1bb94ca87ca6\",                        [{\"coloraxis\":\"coloraxis\",\"name\":\"0\",\"texttemplate\":\"%{z:.2f}\",\"x\":[\"battery_power\",\"blue\",\"clock_speed\",\"dual_sim\",\"fc\",\"four_g\",\"int_memory\",\"m_dep\",\"mobile_wt\",\"n_cores\",\"pc\",\"px_height\",\"px_width\",\"ram\",\"sc_h\",\"sc_w\",\"talk_time\",\"three_g\",\"touch_screen\",\"wifi\",\"price_range\"],\"y\":[\"battery_power\",\"blue\",\"clock_speed\",\"dual_sim\",\"fc\",\"four_g\",\"int_memory\",\"m_dep\",\"mobile_wt\",\"n_cores\",\"pc\",\"px_height\",\"px_width\",\"ram\",\"sc_h\",\"sc_w\",\"talk_time\",\"three_g\",\"touch_screen\",\"wifi\",\"price_range\"],\"z\":[[1.0,0.011251623808409005,0.011481593741547481,-0.04184684985531915,0.03333438500912425,0.01566455462474265,-0.004003679910891169,0.03408451490286734,0.0018443762145710233,-0.029727258910731354,0.03144067724331099,0.014900804544674877,-0.008401830499043849,-0.0006529264469275295,-0.029958601467988392,-0.021420943294223553,0.052510354657595223,0.011522168448019688,-0.01051583536613963,-0.008342928835738948,0.20072261211373124],[0.011251623808409005,1.0,0.021418693043786914,0.03519811346493916,0.003593201045941478,0.013443105451586793,0.04117716902002657,0.004049193533434709,-0.008604642824947226,0.03616071896601607,-0.00995217229370233,-0.00687239046225623,-0.041533441805918475,0.026350936945151174,-0.0029522925572921794,0.0006130756499930555,0.01393365037228793,-0.030236184948883298,0.010060684131672363,-0.021863235784086183,0.020572854061418573],[0.011481593741547481,0.021418693043786914,1.0,-0.001315204025505052,-0.000433898207660617,-0.04307335549720816,0.006545145152924384,-0.014364360309299837,0.012349747866586158,-0.005724226033792937,-0.005245037561591485,-0.01452289508684957,-0.009475653050430185,0.0034430306880890646,-0.029077621806347063,-0.007378355543214177,-0.01143186555981287,-0.04643349691424839,0.019755805960568244,-0.024471012567611566,-0.00660569088173212],[-0.04184684985531915,0.03519811346493916,-0.001315204025505052,1.0,-0.02912278446583605,0.003186521989701648,-0.01567896229023402,-0.022141660518706963,-0.008979405132754852,-0.02465813483383521,-0.017142621266392086,-0.020875260863243213,0.014290542210206252,0.04107201687575117,-0.011949263255963908,-0.016666122534513564,-0.03940399950293255,-0.014007623397290642,-0.017117398029556908,0.022740333260222696,0.01744447923722472],[0.03333438500912425,0.003593201045941478,-0.000433898207660617,-0.02912278446583605,1.0,-0.016559688164037883,-0.02913277524519928,-0.0017911308477025982,0.023618017096817143,-0.013356243442967479,0.6445952827956328,-0.009989907483697769,-0.00517563438442659,0.015098970498477332,-0.011013954695093463,-0.012372591307992842,-0.006828649366975372,0.0017925738443707725,-0.014827844783864685,0.020084872854668548,0.021998207776904328],[0.01566455462474265,0.013443105451586793,-0.04307335549720816,0.003186521989701648,-0.016559688164037883,1.0,0.00868997105928721,-0.0018232988898241223,-0.01653673407505381,-0.029705501066110994,-0.005598221993478703,-0.01923623567730995,0.007448216573482412,0.0073134746504713395,0.027165510975675624,0.03700497303918502,-0.046627814257882524,0.5842455634172913,0.016757801119348513,-0.017620022497302826,0.014771711417239467],[-0.004003679910891169,0.04117716902002657,0.006545145152924384,-0.01567896229023402,-0.02913277524519928,0.00868997105928721,1.0,0.006885755150957458,-0.034214209135475016,-0.028310416689851636,-0.033273388854864576,0.01044125677561802,-0.008334853372394556,0.03281317408091542,0.037771132797365395,0.011730534410369215,-0.00279028899118698,-0.009365962592532107,-0.026998677669091975,0.00699300967745834,0.0444349593889875],[0.03408451490286734,0.004049193533434709,-0.014364360309299837,-0.022141660518706963,-0.0017911308477025982,-0.0018232988898241223,0.006885755150957458,1.0,0.021756065251581302,-0.0035038859268239643,0.026282439444050783,0.025262869860381374,0.023566345906041848,-0.009434120647010023,-0.025347805785424112,-0.018388117499987987,0.01700255295055869,-0.012065410514054402,-0.002637527311245226,-0.0283526523501044,0.0008530365050865703],[0.0018443762145710233,-0.008604642824947226,0.012349747866586158,-0.008979405132754852,0.023618017096817143,-0.01653673407505381,-0.034214209135475016,0.021756065251581302,1.0,-0.018988757205049323,0.018843929835236205,0.0009393239804485686,8.976163925582267e-05,-0.002580541707291326,-0.0338547136814375,-0.020760525088739313,0.00620850075859248,0.0015505852829662409,-0.014368228393982193,-0.0004093554892794404,-0.03030217131438632],[-0.029727258910731354,0.03616071896601607,-0.005724226033792937,-0.02465813483383521,-0.013356243442967479,-0.029705501066110994,-0.028310416689851636,-0.0035038859268239643,-0.018988757205049323,1.0,-0.0011926142129104558,-0.0068720733908026336,0.02447991702476149,0.004868325744798485,-0.00031483547910175254,0.025826454168080982,0.013147863907840205,-0.0147326730582514,0.02377423964666761,-0.009963531365809119,0.004399274799457341],[0.03144067724331099,-0.00995217229370233,-0.005245037561591485,-0.017142621266392086,0.6445952827956328,-0.005598221993478703,-0.033273388854864576,0.026282439444050783,0.018843929835236205,-0.0011926142129104558,1.0,-0.018465494278375384,0.004195944306608137,0.028983516524420147,0.004937519864469917,-0.023819237920395638,0.014656985160164141,-0.0013216200581519886,-0.008741829782886398,0.005388963710424834,0.033599300213539574],[0.014900804544674877,-0.00687239046225623,-0.01452289508684957,-0.020875260863243213,-0.009989907483697769,-0.01923623567730995,0.01044125677561802,0.025262869860381374,0.0009393239804485686,-0.0068720733908026336,-0.018465494278375384,1.0,0.5106644191393148,-0.020351922754965054,0.05961529446087679,0.043038268105588674,-0.010645253467093312,-0.031173739264258045,0.02189133832091127,0.05182398873692636,0.148857555000422],[-0.008401830499043849,-0.041533441805918475,-0.009475653050430185,0.014290542210206252,-0.00517563438442659,0.007448216573482412,-0.008334853372394556,0.023566345906041848,8.976163925582267e-05,0.02447991702476149,0.004195944306608137,0.5106644191393148,1.0,0.004105216467218681,0.0215985621119942,0.03469919558577322,0.006719940879503146,0.00034998245201687313,-0.0016283723577048288,0.030318972829504395,0.16581750172625534],[-0.0006529264469275295,0.026350936945151174,0.0034430306880890646,0.04107201687575117,0.015098970498477332,0.0073134746504713395,0.03281317408091542,-0.009434120647010023,-0.002580541707291326,0.004868325744798485,0.028983516524420147,-0.020351922754965054,0.004105216467218681,1.0,0.01599614874068266,0.035575670143050915,0.010819977788843133,0.015794939866243723,-0.03045464776240744,0.022668801572951838,0.9170457362649902],[-0.029958601467988392,-0.0029522925572921794,-0.029077621806347063,-0.011949263255963908,-0.011013954695093463,0.027165510975675624,0.037771132797365395,-0.025347805785424112,-0.0338547136814375,-0.00031483547910175254,0.004937519864469917,0.05961529446087679,0.0215985621119942,0.01599614874068266,1.0,0.5061442083433548,-0.01733510049832937,0.012032933550798295,-0.020022954064033708,0.025929424733713454,0.022986073167424327],[-0.021420943294223553,0.0006130756499930555,-0.007378355543214177,-0.016666122534513564,-0.012372591307992842,0.03700497303918502,0.011730534410369215,-0.018388117499987987,-0.020760525088739313,0.025826454168080982,-0.023819237920395638,0.043038268105588674,0.03469919558577322,0.035575670143050915,0.5061442083433548,1.0,-0.022820859653885684,0.030941187653777777,0.012719879393453802,0.035422777627496016,0.03871127166448414],[0.052510354657595223,0.01393365037228793,-0.01143186555981287,-0.03940399950293255,-0.006828649366975372,-0.046627814257882524,-0.00279028899118698,0.01700255295055869,0.00620850075859248,0.013147863907840205,0.014656985160164141,-0.010645253467093312,0.006719940879503146,0.010819977788843133,-0.01733510049832937,-0.022820859653885684,1.0,-0.042688021103825274,0.01719618484955997,-0.0295042871223901,0.02185887116237482],[0.011522168448019688,-0.030236184948883298,-0.04643349691424839,-0.014007623397290642,0.0017925738443707725,0.5842455634172913,-0.009365962592532107,-0.012065410514054402,0.0015505852829662409,-0.0147326730582514,-0.0013216200581519886,-0.031173739264258045,0.00034998245201687313,0.015794939866243723,0.012032933550798295,0.030941187653777777,-0.042688021103825274,1.0,0.013917351497663108,0.004315639393765238,0.023611216880045166],[-0.01051583536613963,0.010060684131672363,0.019755805960568244,-0.017117398029556908,-0.014827844783864685,0.016757801119348513,-0.026998677669091975,-0.002637527311245226,-0.014368228393982193,0.02377423964666761,-0.008741829782886398,0.02189133832091127,-0.0016283723577048288,-0.03045464776240744,-0.020022954064033708,0.012719879393453802,0.01719618484955997,0.013917351497663108,1.0,0.011917382454504768,-0.03041107189821805],[-0.008342928835738948,-0.021863235784086183,-0.024471012567611566,0.022740333260222696,0.020084872854668548,-0.017620022497302826,0.00699300967745834,-0.0283526523501044,-0.0004093554892794404,-0.009963531365809119,0.005388963710424834,0.05182398873692636,0.030318972829504395,0.022668801572951838,0.025929424733713454,0.035422777627496016,-0.0295042871223901,0.004315639393765238,0.011917382454504768,1.0,0.01878481201278905],[0.20072261211373124,0.020572854061418573,-0.00660569088173212,0.01744447923722472,0.021998207776904328,0.014771711417239467,0.0444349593889875,0.0008530365050865703,-0.03030217131438632,0.004399274799457341,0.033599300213539574,0.148857555000422,0.16581750172625534,0.9170457362649902,0.022986073167424327,0.03871127166448414,0.02185887116237482,0.023611216880045166,-0.03041107189821805,0.01878481201278905,1.0]],\"type\":\"heatmap\",\"xaxis\":\"x\",\"yaxis\":\"y\",\"hovertemplate\":\"x: %{x}<br>y: %{y}<br>color: %{z}<extra></extra>\"}],                        {\"template\":{\"data\":{\"bar\":[{\"error_x\":{\"color\":\"#2a3f5f\"},\"error_y\":{\"color\":\"#2a3f5f\"},\"marker\":{\"line\":{\"color\":\"#E5ECF6\",\"width\":0.5},\"pattern\":{\"fillmode\":\"overlay\",\"size\":10,\"solidity\":0.2}},\"type\":\"bar\"}],\"barpolar\":[{\"marker\":{\"line\":{\"color\":\"#E5ECF6\",\"width\":0.5},\"pattern\":{\"fillmode\":\"overlay\",\"size\":10,\"solidity\":0.2}},\"type\":\"barpolar\"}],\"carpet\":[{\"aaxis\":{\"endlinecolor\":\"#2a3f5f\",\"gridcolor\":\"white\",\"linecolor\":\"white\",\"minorgridcolor\":\"white\",\"startlinecolor\":\"#2a3f5f\"},\"baxis\":{\"endlinecolor\":\"#2a3f5f\",\"gridcolor\":\"white\",\"linecolor\":\"white\",\"minorgridcolor\":\"white\",\"startlinecolor\":\"#2a3f5f\"},\"type\":\"carpet\"}],\"choropleth\":[{\"colorbar\":{\"outlinewidth\":0,\"ticks\":\"\"},\"type\":\"choropleth\"}],\"contour\":[{\"colorbar\":{\"outlinewidth\":0,\"ticks\":\"\"},\"colorscale\":[[0.0,\"#0d0887\"],[0.1111111111111111,\"#46039f\"],[0.2222222222222222,\"#7201a8\"],[0.3333333333333333,\"#9c179e\"],[0.4444444444444444,\"#bd3786\"],[0.5555555555555556,\"#d8576b\"],[0.6666666666666666,\"#ed7953\"],[0.7777777777777778,\"#fb9f3a\"],[0.8888888888888888,\"#fdca26\"],[1.0,\"#f0f921\"]],\"type\":\"contour\"}],\"contourcarpet\":[{\"colorbar\":{\"outlinewidth\":0,\"ticks\":\"\"},\"type\":\"contourcarpet\"}],\"heatmap\":[{\"colorbar\":{\"outlinewidth\":0,\"ticks\":\"\"},\"colorscale\":[[0.0,\"#0d0887\"],[0.1111111111111111,\"#46039f\"],[0.2222222222222222,\"#7201a8\"],[0.3333333333333333,\"#9c179e\"],[0.4444444444444444,\"#bd3786\"],[0.5555555555555556,\"#d8576b\"],[0.6666666666666666,\"#ed7953\"],[0.7777777777777778,\"#fb9f3a\"],[0.8888888888888888,\"#fdca26\"],[1.0,\"#f0f921\"]],\"type\":\"heatmap\"}],\"heatmapgl\":[{\"colorbar\":{\"outlinewidth\":0,\"ticks\":\"\"},\"colorscale\":[[0.0,\"#0d0887\"],[0.1111111111111111,\"#46039f\"],[0.2222222222222222,\"#7201a8\"],[0.3333333333333333,\"#9c179e\"],[0.4444444444444444,\"#bd3786\"],[0.5555555555555556,\"#d8576b\"],[0.6666666666666666,\"#ed7953\"],[0.7777777777777778,\"#fb9f3a\"],[0.8888888888888888,\"#fdca26\"],[1.0,\"#f0f921\"]],\"type\":\"heatmapgl\"}],\"histogram\":[{\"marker\":{\"pattern\":{\"fillmode\":\"overlay\",\"size\":10,\"solidity\":0.2}},\"type\":\"histogram\"}],\"histogram2d\":[{\"colorbar\":{\"outlinewidth\":0,\"ticks\":\"\"},\"colorscale\":[[0.0,\"#0d0887\"],[0.1111111111111111,\"#46039f\"],[0.2222222222222222,\"#7201a8\"],[0.3333333333333333,\"#9c179e\"],[0.4444444444444444,\"#bd3786\"],[0.5555555555555556,\"#d8576b\"],[0.6666666666666666,\"#ed7953\"],[0.7777777777777778,\"#fb9f3a\"],[0.8888888888888888,\"#fdca26\"],[1.0,\"#f0f921\"]],\"type\":\"histogram2d\"}],\"histogram2dcontour\":[{\"colorbar\":{\"outlinewidth\":0,\"ticks\":\"\"},\"colorscale\":[[0.0,\"#0d0887\"],[0.1111111111111111,\"#46039f\"],[0.2222222222222222,\"#7201a8\"],[0.3333333333333333,\"#9c179e\"],[0.4444444444444444,\"#bd3786\"],[0.5555555555555556,\"#d8576b\"],[0.6666666666666666,\"#ed7953\"],[0.7777777777777778,\"#fb9f3a\"],[0.8888888888888888,\"#fdca26\"],[1.0,\"#f0f921\"]],\"type\":\"histogram2dcontour\"}],\"mesh3d\":[{\"colorbar\":{\"outlinewidth\":0,\"ticks\":\"\"},\"type\":\"mesh3d\"}],\"parcoords\":[{\"line\":{\"colorbar\":{\"outlinewidth\":0,\"ticks\":\"\"}},\"type\":\"parcoords\"}],\"pie\":[{\"automargin\":true,\"type\":\"pie\"}],\"scatter\":[{\"marker\":{\"colorbar\":{\"outlinewidth\":0,\"ticks\":\"\"}},\"type\":\"scatter\"}],\"scatter3d\":[{\"line\":{\"colorbar\":{\"outlinewidth\":0,\"ticks\":\"\"}},\"marker\":{\"colorbar\":{\"outlinewidth\":0,\"ticks\":\"\"}},\"type\":\"scatter3d\"}],\"scattercarpet\":[{\"marker\":{\"colorbar\":{\"outlinewidth\":0,\"ticks\":\"\"}},\"type\":\"scattercarpet\"}],\"scattergeo\":[{\"marker\":{\"colorbar\":{\"outlinewidth\":0,\"ticks\":\"\"}},\"type\":\"scattergeo\"}],\"scattergl\":[{\"marker\":{\"colorbar\":{\"outlinewidth\":0,\"ticks\":\"\"}},\"type\":\"scattergl\"}],\"scattermapbox\":[{\"marker\":{\"colorbar\":{\"outlinewidth\":0,\"ticks\":\"\"}},\"type\":\"scattermapbox\"}],\"scatterpolar\":[{\"marker\":{\"colorbar\":{\"outlinewidth\":0,\"ticks\":\"\"}},\"type\":\"scatterpolar\"}],\"scatterpolargl\":[{\"marker\":{\"colorbar\":{\"outlinewidth\":0,\"ticks\":\"\"}},\"type\":\"scatterpolargl\"}],\"scatterternary\":[{\"marker\":{\"colorbar\":{\"outlinewidth\":0,\"ticks\":\"\"}},\"type\":\"scatterternary\"}],\"surface\":[{\"colorbar\":{\"outlinewidth\":0,\"ticks\":\"\"},\"colorscale\":[[0.0,\"#0d0887\"],[0.1111111111111111,\"#46039f\"],[0.2222222222222222,\"#7201a8\"],[0.3333333333333333,\"#9c179e\"],[0.4444444444444444,\"#bd3786\"],[0.5555555555555556,\"#d8576b\"],[0.6666666666666666,\"#ed7953\"],[0.7777777777777778,\"#fb9f3a\"],[0.8888888888888888,\"#fdca26\"],[1.0,\"#f0f921\"]],\"type\":\"surface\"}],\"table\":[{\"cells\":{\"fill\":{\"color\":\"#EBF0F8\"},\"line\":{\"color\":\"white\"}},\"header\":{\"fill\":{\"color\":\"#C8D4E3\"},\"line\":{\"color\":\"white\"}},\"type\":\"table\"}]},\"layout\":{\"annotationdefaults\":{\"arrowcolor\":\"#2a3f5f\",\"arrowhead\":0,\"arrowwidth\":1},\"autotypenumbers\":\"strict\",\"coloraxis\":{\"colorbar\":{\"outlinewidth\":0,\"ticks\":\"\"}},\"colorscale\":{\"diverging\":[[0,\"#8e0152\"],[0.1,\"#c51b7d\"],[0.2,\"#de77ae\"],[0.3,\"#f1b6da\"],[0.4,\"#fde0ef\"],[0.5,\"#f7f7f7\"],[0.6,\"#e6f5d0\"],[0.7,\"#b8e186\"],[0.8,\"#7fbc41\"],[0.9,\"#4d9221\"],[1,\"#276419\"]],\"sequential\":[[0.0,\"#0d0887\"],[0.1111111111111111,\"#46039f\"],[0.2222222222222222,\"#7201a8\"],[0.3333333333333333,\"#9c179e\"],[0.4444444444444444,\"#bd3786\"],[0.5555555555555556,\"#d8576b\"],[0.6666666666666666,\"#ed7953\"],[0.7777777777777778,\"#fb9f3a\"],[0.8888888888888888,\"#fdca26\"],[1.0,\"#f0f921\"]],\"sequentialminus\":[[0.0,\"#0d0887\"],[0.1111111111111111,\"#46039f\"],[0.2222222222222222,\"#7201a8\"],[0.3333333333333333,\"#9c179e\"],[0.4444444444444444,\"#bd3786\"],[0.5555555555555556,\"#d8576b\"],[0.6666666666666666,\"#ed7953\"],[0.7777777777777778,\"#fb9f3a\"],[0.8888888888888888,\"#fdca26\"],[1.0,\"#f0f921\"]]},\"colorway\":[\"#636efa\",\"#EF553B\",\"#00cc96\",\"#ab63fa\",\"#FFA15A\",\"#19d3f3\",\"#FF6692\",\"#B6E880\",\"#FF97FF\",\"#FECB52\"],\"font\":{\"color\":\"#2a3f5f\"},\"geo\":{\"bgcolor\":\"white\",\"lakecolor\":\"white\",\"landcolor\":\"#E5ECF6\",\"showlakes\":true,\"showland\":true,\"subunitcolor\":\"white\"},\"hoverlabel\":{\"align\":\"left\"},\"hovermode\":\"closest\",\"mapbox\":{\"style\":\"light\"},\"paper_bgcolor\":\"white\",\"plot_bgcolor\":\"#E5ECF6\",\"polar\":{\"angularaxis\":{\"gridcolor\":\"white\",\"linecolor\":\"white\",\"ticks\":\"\"},\"bgcolor\":\"#E5ECF6\",\"radialaxis\":{\"gridcolor\":\"white\",\"linecolor\":\"white\",\"ticks\":\"\"}},\"scene\":{\"xaxis\":{\"backgroundcolor\":\"#E5ECF6\",\"gridcolor\":\"white\",\"gridwidth\":2,\"linecolor\":\"white\",\"showbackground\":true,\"ticks\":\"\",\"zerolinecolor\":\"white\"},\"yaxis\":{\"backgroundcolor\":\"#E5ECF6\",\"gridcolor\":\"white\",\"gridwidth\":2,\"linecolor\":\"white\",\"showbackground\":true,\"ticks\":\"\",\"zerolinecolor\":\"white\"},\"zaxis\":{\"backgroundcolor\":\"#E5ECF6\",\"gridcolor\":\"white\",\"gridwidth\":2,\"linecolor\":\"white\",\"showbackground\":true,\"ticks\":\"\",\"zerolinecolor\":\"white\"}},\"shapedefaults\":{\"line\":{\"color\":\"#2a3f5f\"}},\"ternary\":{\"aaxis\":{\"gridcolor\":\"white\",\"linecolor\":\"white\",\"ticks\":\"\"},\"baxis\":{\"gridcolor\":\"white\",\"linecolor\":\"white\",\"ticks\":\"\"},\"bgcolor\":\"#E5ECF6\",\"caxis\":{\"gridcolor\":\"white\",\"linecolor\":\"white\",\"ticks\":\"\"}},\"title\":{\"x\":0.05},\"xaxis\":{\"automargin\":true,\"gridcolor\":\"white\",\"linecolor\":\"white\",\"ticks\":\"\",\"title\":{\"standoff\":15},\"zerolinecolor\":\"white\",\"zerolinewidth\":2},\"yaxis\":{\"automargin\":true,\"gridcolor\":\"white\",\"linecolor\":\"white\",\"ticks\":\"\",\"title\":{\"standoff\":15},\"zerolinecolor\":\"white\",\"zerolinewidth\":2}}},\"xaxis\":{\"anchor\":\"y\",\"domain\":[0.0,1.0]},\"yaxis\":{\"anchor\":\"x\",\"domain\":[0.0,1.0],\"autorange\":\"reversed\"},\"coloraxis\":{\"colorscale\":[[0.0,\"rgb(0,0,0)\"],[0.3333333333333333,\"rgb(230,0,0)\"],[0.6666666666666666,\"rgb(255,210,0)\"],[1.0,\"rgb(255,255,255)\"]]},\"margin\":{\"t\":60}},                        {\"responsive\": true}                    ).then(function(){\n",
              "                            \n",
              "var gd = document.getElementById('6dee4cdd-483b-4620-ac21-1bb94ca87ca6');\n",
              "var x = new MutationObserver(function (mutations, observer) {{\n",
              "        var display = window.getComputedStyle(gd).display;\n",
              "        if (!display || display === 'none') {{\n",
              "            console.log([gd, 'removed!']);\n",
              "            Plotly.purge(gd);\n",
              "            observer.disconnect();\n",
              "        }}\n",
              "}});\n",
              "\n",
              "// Listen for the removal of the full notebook cells\n",
              "var notebookContainer = gd.closest('#notebook-container');\n",
              "if (notebookContainer) {{\n",
              "    x.observe(notebookContainer, {childList: true});\n",
              "}}\n",
              "\n",
              "// Listen for the clearing of the current output cell\n",
              "var outputEl = gd.closest('.output');\n",
              "if (outputEl) {{\n",
              "    x.observe(outputEl, {childList: true});\n",
              "}}\n",
              "\n",
              "                        })                };                            </script>        </div>\n",
              "</body>\n",
              "</html>"
            ]
          },
          "metadata": {}
        }
      ]
    },
    {
      "cell_type": "code",
      "source": [
        "# data.drop(['px_height','px_width'],axis=1,inplace=True)"
      ],
      "metadata": {
        "id": "8lqWNbrjKvRB"
      },
      "execution_count": 28,
      "outputs": []
    },
    {
      "cell_type": "code",
      "source": [
        "# corr=data.corr()\n",
        "# fig = px.imshow(corr, text_auto=\".2f\", color_continuous_scale='hot', aspect=\"auto\")\n",
        "# fig.show()"
      ],
      "metadata": {
        "id": "na9aXmZSKvJl"
      },
      "execution_count": 29,
      "outputs": []
    },
    {
      "cell_type": "markdown",
      "source": [
        "# **Handling Outliers**"
      ],
      "metadata": {
        "id": "GBXjJUbsLbPM"
      }
    },
    {
      "cell_type": "code",
      "source": [
        "# find categorical variables\n",
        "categorical = [var for var in data.columns if data[var].dtype=='O']\n",
        "print('There are {} categorical variables'.format(len(categorical)))"
      ],
      "metadata": {
        "colab": {
          "base_uri": "https://localhost:8080/"
        },
        "id": "_-nJbnBOKvCo",
        "outputId": "ad058675-6c0e-4a46-9135-7ed5994198af"
      },
      "execution_count": 30,
      "outputs": [
        {
          "output_type": "stream",
          "name": "stdout",
          "text": [
            "There are 0 categorical variables\n"
          ]
        }
      ]
    },
    {
      "cell_type": "code",
      "source": [
        "# find Numerical variables\n",
        "numerical = [var for var in data.columns if data[var].dtype!='O']\n",
        "print('There are {} numerical variables'.format(len(numerical)))"
      ],
      "metadata": {
        "colab": {
          "base_uri": "https://localhost:8080/"
        },
        "id": "685QFjM1Ku72",
        "outputId": "2fce89e6-d519-4def-fd55-c30f7af3e842"
      },
      "execution_count": 31,
      "outputs": [
        {
          "output_type": "stream",
          "name": "stdout",
          "text": [
            "There are 21 numerical variables\n"
          ]
        }
      ]
    },
    {
      "cell_type": "code",
      "source": [
        "# Here we taken if no of variable in a colum is graterthan 20 we take as continious otherwise we take it as discrite ..It help to calulate outlayers\n",
        "discrete = []\n",
        "for var in numerical:\n",
        "    if len(data[var].unique())<20:\n",
        "        print(var, ' values: ', data[var].unique())\n",
        "        discrete.append(var)\n",
        "        \n",
        "print('There are {} discrete variables'.format(len(discrete)))"
      ],
      "metadata": {
        "colab": {
          "base_uri": "https://localhost:8080/"
        },
        "id": "iwUxp01fKu0-",
        "outputId": "80577375-e070-4af2-adc1-15ab48d81859"
      },
      "execution_count": 32,
      "outputs": [
        {
          "output_type": "stream",
          "name": "stdout",
          "text": [
            "blue  values:  [0 1]\n",
            "dual_sim  values:  [0 1]\n",
            "four_g  values:  [0 1]\n",
            "m_dep  values:  [0.6 0.7 0.9 0.8 0.1 0.5 1.  0.3 0.4 0.2]\n",
            "n_cores  values:  [2 3 5 6 1 8 4 7]\n",
            "sc_h  values:  [ 9 17 11 16  8 13 19  5 14 18  7 10 12  6 15]\n",
            "sc_w  values:  [ 7  3  2  8  1 10  9  0 15 13  5 11  4 12  6 17 14 16 18]\n",
            "talk_time  values:  [19  7  9 11 15 10 18  5 20 12 13  2  4  3 16  6 14 17  8]\n",
            "three_g  values:  [0 1]\n",
            "touch_screen  values:  [0 1]\n",
            "wifi  values:  [1 0]\n",
            "price_range  values:  [1 2 3 0]\n",
            "There are 12 discrete variables\n"
          ]
        }
      ]
    },
    {
      "cell_type": "code",
      "source": [
        "continuous = [var for var in numerical if var not in discrete and var not in ['price_range']]"
      ],
      "metadata": {
        "id": "5FSF5SRbKut9"
      },
      "execution_count": 33,
      "outputs": []
    },
    {
      "cell_type": "code",
      "source": [
        "for var in continuous:\n",
        "    plt.figure(figsize=(15,6))\n",
        "    plt.subplot(1, 2, 1)\n",
        "    fig = sns.boxplot(y=data[var])\n",
        "    fig.set_title('')\n",
        "    fig.set_ylabel(var)\n",
        "    \n",
        "    plt.subplot(1, 2, 2)\n",
        "    fig = sns.distplot(data[var].dropna())\n",
        "    fig.set_ylabel('Number of houses')\n",
        "    fig.set_xlabel(var)\n",
        "\n",
        "    plt.show()"
      ],
      "metadata": {
        "colab": {
          "base_uri": "https://localhost:8080/",
          "height": 1000
        },
        "id": "LxXmOHzhKulM",
        "outputId": "cb6a2b2d-d6cc-426e-e135-f6a45a8aa9bf"
      },
      "execution_count": 34,
      "outputs": [
        {
          "output_type": "stream",
          "name": "stderr",
          "text": [
            "/usr/local/lib/python3.7/dist-packages/seaborn/distributions.py:2619: FutureWarning:\n",
            "\n",
            "`distplot` is a deprecated function and will be removed in a future version. Please adapt your code to use either `displot` (a figure-level function with similar flexibility) or `histplot` (an axes-level function for histograms).\n",
            "\n"
          ]
        },
        {
          "output_type": "display_data",
          "data": {
            "text/plain": [
              "<Figure size 1080x432 with 2 Axes>"
            ],
            "image/png": "[encoded data removed]"
          },
          "metadata": {
            "needs_background": "light"
          }
        },
        {
          "output_type": "stream",
          "name": "stderr",
          "text": [
            "/usr/local/lib/python3.7/dist-packages/seaborn/distributions.py:2619: FutureWarning:\n",
            "\n",
            "`distplot` is a deprecated function and will be removed in a future version. Please adapt your code to use either `displot` (a figure-level function with similar flexibility) or `histplot` (an axes-level function for histograms).\n",
            "\n"
          ]
        },
        {
          "output_type": "display_data",
          "data": {
            "text/plain": [
              "<Figure size 1080x432 with 2 Axes>"
            ],
            "image/png": "[encoded data removed]"
          },
          "metadata": {
            "needs_background": "light"
          }
        },
        {
          "output_type": "stream",
          "name": "stderr",
          "text": [
            "/usr/local/lib/python3.7/dist-packages/seaborn/distributions.py:2619: FutureWarning:\n",
            "\n",
            "`distplot` is a deprecated function and will be removed in a future version. Please adapt your code to use either `displot` (a figure-level function with similar flexibility) or `histplot` (an axes-level function for histograms).\n",
            "\n"
          ]
        },
        {
          "output_type": "display_data",
          "data": {
            "text/plain": [
              "<Figure size 1080x432 with 2 Axes>"
            ],
            "image/png": "[encoded data removed]"
          },
          "metadata": {
            "needs_background": "light"
          }
        },
        {
          "output_type": "stream",
          "name": "stderr",
          "text": [
            "/usr/local/lib/python3.7/dist-packages/seaborn/distributions.py:2619: FutureWarning:\n",
            "\n",
            "`distplot` is a deprecated function and will be removed in a future version. Please adapt your code to use either `displot` (a figure-level function with similar flexibility) or `histplot` (an axes-level function for histograms).\n",
            "\n"
          ]
        },
        {
          "output_type": "display_data",
          "data": {
            "text/plain": [
              "<Figure size 1080x432 with 2 Axes>"
            ],
            "image/png": "[encoded data removed]"
          },
          "metadata": {
            "needs_background": "light"
          }
        },
        {
          "output_type": "stream",
          "name": "stderr",
          "text": [
            "/usr/local/lib/python3.7/dist-packages/seaborn/distributions.py:2619: FutureWarning:\n",
            "\n",
            "`distplot` is a deprecated function and will be removed in a future version. Please adapt your code to use either `displot` (a figure-level function with similar flexibility) or `histplot` (an axes-level function for histograms).\n",
            "\n"
          ]
        },
        {
          "output_type": "display_data",
          "data": {
            "text/plain": [
              "<Figure size 1080x432 with 2 Axes>"
            ],
            "image/png": "[encoded data removed]"
          },
          "metadata": {
            "needs_background": "light"
          }
        },
        {
          "output_type": "stream",
          "name": "stderr",
          "text": [
            "/usr/local/lib/python3.7/dist-packages/seaborn/distributions.py:2619: FutureWarning:\n",
            "\n",
            "`distplot` is a deprecated function and will be removed in a future version. Please adapt your code to use either `displot` (a figure-level function with similar flexibility) or `histplot` (an axes-level function for histograms).\n",
            "\n"
          ]
        },
        {
          "output_type": "display_data",
          "data": {
            "text/plain": [
              "<Figure size 1080x432 with 2 Axes>"
            ],
            "image/png": "[encoded data removed]"
          },
          "metadata": {
            "needs_background": "light"
          }
        },
        {
          "output_type": "stream",
          "name": "stderr",
          "text": [
            "/usr/local/lib/python3.7/dist-packages/seaborn/distributions.py:2619: FutureWarning:\n",
            "\n",
            "`distplot` is a deprecated function and will be removed in a future version. Please adapt your code to use either `displot` (a figure-level function with similar flexibility) or `histplot` (an axes-level function for histograms).\n",
            "\n"
          ]
        },
        {
          "output_type": "display_data",
          "data": {
            "text/plain": [
              "<Figure size 1080x432 with 2 Axes>"
            ],
            "image/png": "[encoded data removed]"
          },
          "metadata": {
            "needs_background": "light"
          }
        },
        {
          "output_type": "stream",
          "name": "stderr",
          "text": [
            "/usr/local/lib/python3.7/dist-packages/seaborn/distributions.py:2619: FutureWarning:\n",
            "\n",
            "`distplot` is a deprecated function and will be removed in a future version. Please adapt your code to use either `displot` (a figure-level function with similar flexibility) or `histplot` (an axes-level function for histograms).\n",
            "\n"
          ]
        },
        {
          "output_type": "display_data",
          "data": {
            "text/plain": [
              "<Figure size 1080x432 with 2 Axes>"
            ],
            "image/png": "[encoded data removed]"
          },
          "metadata": {
            "needs_background": "light"
          }
        },
        {
          "output_type": "stream",
          "name": "stderr",
          "text": [
            "/usr/local/lib/python3.7/dist-packages/seaborn/distributions.py:2619: FutureWarning:\n",
            "\n",
            "`distplot` is a deprecated function and will be removed in a future version. Please adapt your code to use either `displot` (a figure-level function with similar flexibility) or `histplot` (an axes-level function for histograms).\n",
            "\n"
          ]
        },
        {
          "output_type": "display_data",
          "data": {
            "text/plain": [
              "<Figure size 1080x432 with 2 Axes>"
            ],
            "image/png": "[encoded data removed]"
          },
          "metadata": {
            "needs_background": "light"
          }
        }
      ]
    },
    {
      "cell_type": "markdown",
      "source": [
        "Here we se in most of the case outlayers are not present ."
      ],
      "metadata": {
        "id": "ZRLR7nGIL3lX"
      }
    },
    {
      "cell_type": "markdown",
      "source": [
        "# **Splitting the data**"
      ],
      "metadata": {
        "id": "8q8oyxNnL8vJ"
      }
    },
    {
      "cell_type": "code",
      "source": [
        "#independent variables\n",
        "X = data.drop('price_range',axis=1)"
      ],
      "metadata": {
        "id": "JQbCNAGuL50I"
      },
      "execution_count": 35,
      "outputs": []
    },
    {
      "cell_type": "code",
      "source": [
        "#dependent variable\n",
        "y = data['price_range']"
      ],
      "metadata": {
        "id": "gXBd5e-yL6j3"
      },
      "execution_count": 36,
      "outputs": []
    },
    {
      "cell_type": "code",
      "source": [
        "# \n",
        "X_train, X_test, y_train, y_test = train_test_split(X, y, test_size = 0.3, random_state = 0)"
      ],
      "metadata": {
        "id": "W7461zKuL6fE"
      },
      "execution_count": 37,
      "outputs": []
    },
    {
      "cell_type": "code",
      "source": [
        "print(X_train.shape)\n",
        "print(X_test.shape)"
      ],
      "metadata": {
        "colab": {
          "base_uri": "https://localhost:8080/"
        },
        "id": "a1yITrAEL6cc",
        "outputId": "d37badb9-1d5b-49dc-eb27-924d9036a69b"
      },
      "execution_count": 38,
      "outputs": [
        {
          "output_type": "stream",
          "name": "stdout",
          "text": [
            "(1400, 20)\n",
            "(600, 20)\n"
          ]
        }
      ]
    },
    {
      "cell_type": "code",
      "source": [
        "q=X_train[X_train['sc_w']==0]\n",
        "pd.get_option(\"display.max_columns\")"
      ],
      "metadata": {
        "colab": {
          "base_uri": "https://localhost:8080/"
        },
        "id": "0IBCmNzcL6Yi",
        "outputId": "07832fff-472a-42f1-b13a-2abe8df59e91"
      },
      "execution_count": 39,
      "outputs": [
        {
          "output_type": "execute_result",
          "data": {
            "text/plain": [
              "20"
            ]
          },
          "metadata": {},
          "execution_count": 39
        }
      ]
    },
    {
      "cell_type": "code",
      "source": [
        "# settings to display all columns\n",
        "pd.set_option(\"display.max_columns\", None)\n",
        "# display the dataframe head"
      ],
      "metadata": {
        "id": "tdvPe49NL6UN"
      },
      "execution_count": 40,
      "outputs": []
    },
    {
      "cell_type": "code",
      "source": [
        "q.columns"
      ],
      "metadata": {
        "colab": {
          "base_uri": "https://localhost:8080/"
        },
        "id": "NYFEFIS3L6O3",
        "outputId": "fc933c91-db4e-4750-ba56-a887bdfe0053"
      },
      "execution_count": 41,
      "outputs": [
        {
          "output_type": "execute_result",
          "data": {
            "text/plain": [
              "Index(['battery_power', 'blue', 'clock_speed', 'dual_sim', 'fc', 'four_g',\n",
              "       'int_memory', 'm_dep', 'mobile_wt', 'n_cores', 'pc', 'px_height',\n",
              "       'px_width', 'ram', 'sc_h', 'sc_w', 'talk_time', 'three_g',\n",
              "       'touch_screen', 'wifi'],\n",
              "      dtype='object')"
            ]
          },
          "metadata": {},
          "execution_count": 41
        }
      ]
    },
    {
      "cell_type": "markdown",
      "source": [
        "# **Scalling the dataset**"
      ],
      "metadata": {
        "id": "xE3WUoU0MOSa"
      }
    },
    {
      "cell_type": "code",
      "source": [
        "# from sklearn.preprocessing import MinMaxScaler\n",
        "# scaler = MinMaxScaler()\n",
        "# X_train = scaler.fit_transform(X_train)\n",
        "# X_test = scaler.transform(X_test)"
      ],
      "metadata": {
        "id": "MzzlJDsOL6H3"
      },
      "execution_count": 42,
      "outputs": []
    },
    {
      "cell_type": "code",
      "source": [
        "# X_train[1]"
      ],
      "metadata": {
        "id": "cAeDE7soMX0p"
      },
      "execution_count": 43,
      "outputs": []
    },
    {
      "cell_type": "markdown",
      "source": [
        "# **Fitting Models**"
      ],
      "metadata": {
        "id": "w9PcD0Kk0b4F"
      }
    },
    {
      "cell_type": "markdown",
      "source": [
        "In this section we are going to implement various machine learning algorithms to make our predictions. Some of the algorithms we will be using are: Random Forest Classifier, XGBoost Classifier.\n",
        "\n",
        "The detailed step we will be following are as follows:\n",
        "\n",
        "Initial fitting of the model.\n",
        "\n",
        "Evaluating the performance of the model using metrics.\n",
        "\n",
        "Hyperparameter tuning to improve model performance and to reduce if overfitting occurs."
      ],
      "metadata": {
        "id": "xDxuMMeC0hNt"
      }
    },
    {
      "cell_type": "code",
      "source": [
        "# Import KNeighborsClassifier\n",
        "from sklearn.neighbors import KNeighborsClassifier\n",
        "\n",
        "#Setup arrays to store training and test accuracies\n",
        "neighbors = np.arange(1,9)\n",
        "train_accuracy =np.empty(len(neighbors))\n",
        "test_accuracy = np.empty(len(neighbors))\n",
        "\n",
        "for i,k in enumerate(neighbors):\n",
        "    # Setup a knn classifier with k neighbors\n",
        "    knn = KNeighborsClassifier(n_neighbors=k)\n",
        "    \n",
        "    # Fit the model\n",
        "    knn.fit(X_train, y_train)\n",
        "    \n",
        "    # Compute accuracy on the training set\n",
        "    train_accuracy[i] = knn.score(X_train, y_train)\n",
        "    \n",
        "    # Compute accuracy on the test set\n",
        "    test_accuracy[i] = knn.score(X_test, y_test)"
      ],
      "metadata": {
        "id": "aeAEIfKq0lLW"
      },
      "execution_count": 44,
      "outputs": []
    },
    {
      "cell_type": "code",
      "source": [
        "# Generate plot\n",
        "plt.title('k-NN Varying number of neighbors')\n",
        "plt.plot(neighbors, test_accuracy, label='Testing Accuracy')\n",
        "plt.plot(neighbors, train_accuracy, label='Training accuracy')\n",
        "plt.legend()\n",
        "plt.xlabel('Number of neighbors')\n",
        "plt.ylabel('Accuracy')\n",
        "plt.show()"
      ],
      "metadata": {
        "colab": {
          "base_uri": "https://localhost:8080/",
          "height": 295
        },
        "id": "2vyITH4B0lFo",
        "outputId": "c9fa3804-97ae-4ae4-ef0a-96c49cde067d"
      },
      "execution_count": 49,
      "outputs": [
        {
          "output_type": "display_data",
          "data": {
            "text/plain": [
              "<Figure size 432x288 with 1 Axes>"
            ],
            "image/png": "[encoded data removed]"
          },
          "metadata": {
            "needs_background": "light"
          }
        }
      ]
    },
    {
      "cell_type": "code",
      "source": [
        "# Setup a knn classifier with k neighbors\n",
        "knn = KNeighborsClassifier(n_neighbors=7)"
      ],
      "metadata": {
        "id": "k_0GtPv80lAW"
      },
      "execution_count": 50,
      "outputs": []
    },
    {
      "cell_type": "code",
      "source": [
        "# Fit the model\n",
        "knn.fit(X_train,y_train)"
      ],
      "metadata": {
        "colab": {
          "base_uri": "https://localhost:8080/"
        },
        "id": "HUQo398r0k4i",
        "outputId": "b875eae8-8a52-4907-9d3a-e5f544821bef"
      },
      "execution_count": 51,
      "outputs": [
        {
          "output_type": "execute_result",
          "data": {
            "text/plain": [
              "KNeighborsClassifier(n_neighbors=7)"
            ]
          },
          "metadata": {},
          "execution_count": 51
        }
      ]
    },
    {
      "cell_type": "code",
      "source": [
        "#calculating metrics\n",
        "knn_test_score = knn.score(X_test,y_test)\n",
        "knn_test_score"
      ],
      "metadata": {
        "colab": {
          "base_uri": "https://localhost:8080/"
        },
        "id": "9_-udjGt0kyi",
        "outputId": "6d4d9dc0-3f6a-415e-e1b7-902847e7f000"
      },
      "execution_count": 52,
      "outputs": [
        {
          "output_type": "execute_result",
          "data": {
            "text/plain": [
              "0.9433333333333334"
            ]
          },
          "metadata": {},
          "execution_count": 52
        }
      ]
    },
    {
      "cell_type": "code",
      "source": [
        "knn_train_score = knn.score(X_train,y_train)\n",
        "knn_train_score"
      ],
      "metadata": {
        "colab": {
          "base_uri": "https://localhost:8080/"
        },
        "id": "OQf51eJK0krD",
        "outputId": "148e55fb-75c9-46d9-c295-f096bad63a74"
      },
      "execution_count": 53,
      "outputs": [
        {
          "output_type": "execute_result",
          "data": {
            "text/plain": [
              "0.945"
            ]
          },
          "metadata": {},
          "execution_count": 53
        }
      ]
    },
    {
      "cell_type": "code",
      "source": [
        "# Import confusion_matrix\n",
        "from sklearn.metrics import confusion_matrix,roc_auc_score,classification_report,roc_curve"
      ],
      "metadata": {
        "id": "64eNSqoQ0khv"
      },
      "execution_count": 54,
      "outputs": []
    },
    {
      "cell_type": "code",
      "source": [
        "# Let us get the predictions using the classifier we had fit above\n",
        "y_train_pred = knn.predict(X_train)\n",
        "y_test_pred = knn.predict(X_test)"
      ],
      "metadata": {
        "id": "8kvB5yIm0j_b"
      },
      "execution_count": 55,
      "outputs": []
    },
    {
      "cell_type": "code",
      "source": [
        "matrix = confusion_matrix(y_test,y_test_pred)\n",
        "matrix"
      ],
      "metadata": {
        "colab": {
          "base_uri": "https://localhost:8080/"
        },
        "id": "vtl1D2_y05ZO",
        "outputId": "1b5b61b3-4192-43a4-d2d8-02edef8f00f0"
      },
      "execution_count": 56,
      "outputs": [
        {
          "output_type": "execute_result",
          "data": {
            "text/plain": [
              "array([[150,   1,   0,   0],\n",
              "       [  5, 126,   4,   0],\n",
              "       [  0,   7, 136,   8],\n",
              "       [  0,   0,   9, 154]])"
            ]
          },
          "metadata": {},
          "execution_count": 56
        }
      ]
    },
    {
      "cell_type": "code",
      "source": [
        "#plotting confusion matrix for train set\n",
        "cm = confusion_matrix(y_train, y_train_pred)\n",
        "\n",
        "df1 = pd.DataFrame(columns=[\"0\",\"1\",\"2\",\"3\"], index= [\"0\",\"1\",\"2\",\"3\"], data= cm )\n",
        "\n",
        "f,ax = plt.subplots(figsize=(6,6))\n",
        "\n",
        "sns.heatmap(df1, annot=True,cmap=\"OrRd\", fmt= '.0f',\n",
        "            ax=ax,linewidths = 5, cbar = False,annot_kws={\"size\": 16})\n",
        "plt.xlabel(\"Predicted Label\")\n",
        "plt.xticks(size = 12)\n",
        "plt.yticks(size = 12, rotation = 0)\n",
        "plt.ylabel(\"True Label\")\n",
        "plt.title(\"Confusion Matrix\", size = 12)\n",
        "plt.show()"
      ],
      "metadata": {
        "colab": {
          "base_uri": "https://localhost:8080/",
          "height": 407
        },
        "id": "XpGZ9zlD09JG",
        "outputId": "70b49b77-7781-4e29-d0cc-027ab06fad73"
      },
      "execution_count": 57,
      "outputs": [
        {
          "output_type": "display_data",
          "data": {
            "text/plain": [
              "<Figure size 432x432 with 1 Axes>"
            ],
            "image/png": "[encoded data removed]"
          },
          "metadata": {
            "needs_background": "light"
          }
        }
      ]
    },
    {
      "cell_type": "code",
      "source": [
        "#plotting confusion matrix for test set\n",
        "cm = confusion_matrix(y_test, y_test_pred)\n",
        "\n",
        "df1 = pd.DataFrame(columns=[\"0\",\"1\",\"2\",\"3\"], index= [\"0\",\"1\",\"2\",\"3\"], data= cm )\n",
        "\n",
        "f,ax = plt.subplots(figsize=(6,6))\n",
        "\n",
        "sns.heatmap(df1, annot=True,cmap=\"OrRd\", fmt= '.0f',\n",
        "            ax=ax,linewidths = 5, cbar = False,annot_kws={\"size\": 16})\n",
        "plt.xlabel(\"Predicted Label\")\n",
        "plt.xticks(size = 12)\n",
        "plt.yticks(size = 12, rotation = 0)\n",
        "plt.ylabel(\"True Label\")\n",
        "plt.title(\"Confusion Matrix\", size = 12)\n",
        "plt.show()"
      ],
      "metadata": {
        "colab": {
          "base_uri": "https://localhost:8080/",
          "height": 407
        },
        "id": "Hk1NjYRO0-ng",
        "outputId": "59a3c406-dcb2-4e2a-e003-a72a7afce606"
      },
      "execution_count": 58,
      "outputs": [
        {
          "output_type": "display_data",
          "data": {
            "text/plain": [
              "<Figure size 432x432 with 1 Axes>"
            ],
            "image/png": "[encoded data removed]"
          },
          "metadata": {
            "needs_background": "light"
          }
        }
      ]
    },
    {
      "cell_type": "code",
      "source": [
        "#predicting \n",
        "y_pred_proba = knn.predict_proba(X_test)"
      ],
      "metadata": {
        "id": "Qy4Q69ff1Ya8"
      },
      "execution_count": 59,
      "outputs": []
    },
    {
      "cell_type": "code",
      "source": [
        "roc_auc_score(y_test, y_pred_proba, multi_class='ovo', average='weighted')"
      ],
      "metadata": {
        "colab": {
          "base_uri": "https://localhost:8080/"
        },
        "id": "m_0bmH-p1YQ3",
        "outputId": "056e1224-0090-46dd-8936-4561c72adcec"
      },
      "execution_count": 60,
      "outputs": [
        {
          "output_type": "execute_result",
          "data": {
            "text/plain": [
              "0.9910018426810817"
            ]
          },
          "metadata": {},
          "execution_count": 60
        }
      ]
    },
    {
      "cell_type": "code",
      "source": [
        "# roc curve for classes\n",
        "fpr = {}\n",
        "tpr = {}\n",
        "thresh ={}\n",
        "\n",
        "n_class = 4\n",
        "\n",
        "for i in range(n_class):    \n",
        "    fpr[i], tpr[i], thresh[i] = roc_curve(y_test, y_pred_proba[:,i], pos_label=i)\n",
        "    \n",
        "# plotting multiclass ROC curve   \n",
        "plt.plot(fpr[0], tpr[0], linestyle='--',color='orange', label='Low_cost')\n",
        "plt.plot(fpr[1], tpr[1], linestyle='--',color='green', label='Medium_cost')\n",
        "plt.plot(fpr[2], tpr[2], linestyle='--',color='blue', label='High_cost')\n",
        "plt.plot(fpr[3], tpr[3], linestyle='--',color='red', label='Very_high_cost')\n",
        "plt.title('Knn Multiclass ROC curve')\n",
        "plt.xlabel('False Positive Rate')\n",
        "plt.ylabel('True Positive rate')\n",
        "plt.legend(loc='best')\n",
        "plt.savefig('Multiclass ROC',dpi=300);"
      ],
      "metadata": {
        "colab": {
          "base_uri": "https://localhost:8080/",
          "height": 295
        },
        "id": "2a0D4aKt1YHf",
        "outputId": "f05ef885-4709-49ed-9428-af044ac15a02"
      },
      "execution_count": 61,
      "outputs": [
        {
          "output_type": "display_data",
          "data": {
            "text/plain": [
              "<Figure size 432x288 with 1 Axes>"
            ],
            "image/png": "[encoded data removed]"
          },
          "metadata": {
            "needs_background": "light"
          }
        }
      ]
    },
    {
      "cell_type": "code",
      "source": [
        "#printing classification report for train data\n",
        "print(classification_report(y_train,y_train_pred))"
      ],
      "metadata": {
        "colab": {
          "base_uri": "https://localhost:8080/"
        },
        "id": "vE8hpi5R1X9N",
        "outputId": "42995258-fbad-4c39-a2eb-e71daaf0bd2d"
      },
      "execution_count": 62,
      "outputs": [
        {
          "output_type": "stream",
          "name": "stdout",
          "text": [
            "              precision    recall  f1-score   support\n",
            "\n",
            "           0       0.97      0.98      0.97       349\n",
            "           1       0.93      0.95      0.94       365\n",
            "           2       0.92      0.91      0.92       349\n",
            "           3       0.97      0.94      0.95       337\n",
            "\n",
            "    accuracy                           0.94      1400\n",
            "   macro avg       0.95      0.94      0.95      1400\n",
            "weighted avg       0.95      0.94      0.95      1400\n",
            "\n"
          ]
        }
      ]
    },
    {
      "cell_type": "code",
      "source": [
        "#printing classification report for test data\n",
        "print(classification_report(y_test,y_test_pred))"
      ],
      "metadata": {
        "colab": {
          "base_uri": "https://localhost:8080/"
        },
        "id": "xpUsQC6n1XwV",
        "outputId": "4bc96d22-366a-4ea3-f908-67a5f6845518"
      },
      "execution_count": 63,
      "outputs": [
        {
          "output_type": "stream",
          "name": "stdout",
          "text": [
            "              precision    recall  f1-score   support\n",
            "\n",
            "           0       0.97      0.99      0.98       151\n",
            "           1       0.94      0.93      0.94       135\n",
            "           2       0.91      0.90      0.91       151\n",
            "           3       0.95      0.94      0.95       163\n",
            "\n",
            "    accuracy                           0.94       600\n",
            "   macro avg       0.94      0.94      0.94       600\n",
            "weighted avg       0.94      0.94      0.94       600\n",
            "\n"
          ]
        }
      ]
    },
    {
      "cell_type": "code",
      "source": [
        "# test knn\n",
        "print(\"Model Score:\",knn.score(X_test,y_test))\n",
        "\n",
        "MSE= mean_squared_error(y_test,y_test_pred)\n",
        "print(\"MSE :\",MSE)\n",
        "\n",
        "RMSE=np.sqrt(MSE)\n",
        "print(\"RMSE :\",RMSE)\n",
        "from sklearn.metrics import r2_score\n",
        "r2= r2_score(y_test,y_test_pred)\n",
        "print(\"R2 :\",r2)\n",
        "print(\"Adjusted R2 :\",1-(1-r2_score(y_test,y_test_pred))*((X_test.shape[0]-1)/(X_test.shape[0]-X_test.shape[1]-1)) )"
      ],
      "metadata": {
        "colab": {
          "base_uri": "https://localhost:8080/"
        },
        "id": "QHNpsdjw1mZ9",
        "outputId": "26ec8186-d5b8-4dcb-b4e2-1063cb5a2102"
      },
      "execution_count": 64,
      "outputs": [
        {
          "output_type": "stream",
          "name": "stdout",
          "text": [
            "Model Score: 0.9433333333333334\n",
            "MSE : 0.056666666666666664\n",
            "RMSE : 0.23804761428476165\n",
            "R2 : 0.9562348216354446\n",
            "Adjusted R2 : 0.9547230710874461\n"
          ]
        }
      ]
    },
    {
      "cell_type": "markdown",
      "source": [
        "# **Random Forest**"
      ],
      "metadata": {
        "id": "0znHup281pKo"
      }
    },
    {
      "cell_type": "code",
      "source": [
        "from sklearn.ensemble import RandomForestClassifier"
      ],
      "metadata": {
        "id": "5p6HXtrY1sVx"
      },
      "execution_count": 65,
      "outputs": []
    },
    {
      "cell_type": "code",
      "source": [
        "# Create an instance of the RandomForestClassifier\n",
        "rf_model = RandomForestClassifier()\n",
        "param_dict={'max_depth': [4, 6, 8],\n",
        " 'min_samples_leaf': [40, 50],\n",
        " 'min_samples_split': [50, 100, 150],\n",
        " 'n_estimators': [50, 80, 100]}\n",
        "\n",
        "# Grid search\n",
        "rf_grid = GridSearchCV(estimator=rf_model,\n",
        "                       param_grid = param_dict,\n",
        "                       cv = 5, verbose=2, scoring='accuracy')\n",
        "\n",
        "rf_grid.fit(X_train,y_train)"
      ],
      "metadata": {
        "colab": {
          "base_uri": "https://localhost:8080/"
        },
        "id": "Ha5p6ylq1uyY",
        "outputId": "b36e7b5c-fb4f-4962-973c-8cb7296cdc3f"
      },
      "execution_count": 66,
      "outputs": [
        {
          "output_type": "stream",
          "name": "stdout",
          "text": [
            "Fitting 5 folds for each of 54 candidates, totalling 270 fits\n",
            "[CV] END max_depth=4, min_samples_leaf=40, min_samples_split=50, n_estimators=50; total time=   0.2s\n",
            "[CV] END max_depth=4, min_samples_leaf=40, min_samples_split=50, n_estimators=50; total time=   0.2s\n",
            "[CV] END max_depth=4, min_samples_leaf=40, min_samples_split=50, n_estimators=50; total time=   0.2s\n",
            "[CV] END max_depth=4, min_samples_leaf=40, min_samples_split=50, n_estimators=50; total time=   0.6s\n",
            "[CV] END max_depth=4, min_samples_leaf=40, min_samples_split=50, n_estimators=50; total time=   0.4s\n",
            "[CV] END max_depth=4, min_samples_leaf=40, min_samples_split=50, n_estimators=80; total time=   0.2s\n",
            "[CV] END max_depth=4, min_samples_leaf=40, min_samples_split=50, n_estimators=80; total time=   0.2s\n",
            "[CV] END max_depth=4, min_samples_leaf=40, min_samples_split=50, n_estimators=80; total time=   0.2s\n",
            "[CV] END max_depth=4, min_samples_leaf=40, min_samples_split=50, n_estimators=80; total time=   0.2s\n",
            "[CV] END max_depth=4, min_samples_leaf=40, min_samples_split=50, n_estimators=80; total time=   0.2s\n",
            "[CV] END max_depth=4, min_samples_leaf=40, min_samples_split=50, n_estimators=100; total time=   0.2s\n",
            "[CV] END max_depth=4, min_samples_leaf=40, min_samples_split=50, n_estimators=100; total time=   0.2s\n",
            "[CV] END max_depth=4, min_samples_leaf=40, min_samples_split=50, n_estimators=100; total time=   0.2s\n",
            "[CV] END max_depth=4, min_samples_leaf=40, min_samples_split=50, n_estimators=100; total time=   0.2s\n",
            "[CV] END max_depth=4, min_samples_leaf=40, min_samples_split=50, n_estimators=100; total time=   0.2s\n",
            "[CV] END max_depth=4, min_samples_leaf=40, min_samples_split=100, n_estimators=50; total time=   0.1s\n",
            "[CV] END max_depth=4, min_samples_leaf=40, min_samples_split=100, n_estimators=50; total time=   0.1s\n",
            "[CV] END max_depth=4, min_samples_leaf=40, min_samples_split=100, n_estimators=50; total time=   0.1s\n",
            "[CV] END max_depth=4, min_samples_leaf=40, min_samples_split=100, n_estimators=50; total time=   0.1s\n",
            "[CV] END max_depth=4, min_samples_leaf=40, min_samples_split=100, n_estimators=50; total time=   0.1s\n",
            "[CV] END max_depth=4, min_samples_leaf=40, min_samples_split=100, n_estimators=80; total time=   0.2s\n",
            "[CV] END max_depth=4, min_samples_leaf=40, min_samples_split=100, n_estimators=80; total time=   0.2s\n",
            "[CV] END max_depth=4, min_samples_leaf=40, min_samples_split=100, n_estimators=80; total time=   0.2s\n",
            "[CV] END max_depth=4, min_samples_leaf=40, min_samples_split=100, n_estimators=80; total time=   0.2s\n",
            "[CV] END max_depth=4, min_samples_leaf=40, min_samples_split=100, n_estimators=80; total time=   0.2s\n",
            "[CV] END max_depth=4, min_samples_leaf=40, min_samples_split=100, n_estimators=100; total time=   0.2s\n",
            "[CV] END max_depth=4, min_samples_leaf=40, min_samples_split=100, n_estimators=100; total time=   0.2s\n",
            "[CV] END max_depth=4, min_samples_leaf=40, min_samples_split=100, n_estimators=100; total time=   0.2s\n",
            "[CV] END max_depth=4, min_samples_leaf=40, min_samples_split=100, n_estimators=100; total time=   0.2s\n",
            "[CV] END max_depth=4, min_samples_leaf=40, min_samples_split=100, n_estimators=100; total time=   0.2s\n",
            "[CV] END max_depth=4, min_samples_leaf=40, min_samples_split=150, n_estimators=50; total time=   0.1s\n",
            "[CV] END max_depth=4, min_samples_leaf=40, min_samples_split=150, n_estimators=50; total time=   0.1s\n",
            "[CV] END max_depth=4, min_samples_leaf=40, min_samples_split=150, n_estimators=50; total time=   0.1s\n",
            "[CV] END max_depth=4, min_samples_leaf=40, min_samples_split=150, n_estimators=50; total time=   0.1s\n",
            "[CV] END max_depth=4, min_samples_leaf=40, min_samples_split=150, n_estimators=50; total time=   0.1s\n",
            "[CV] END max_depth=4, min_samples_leaf=40, min_samples_split=150, n_estimators=80; total time=   0.2s\n",
            "[CV] END max_depth=4, min_samples_leaf=40, min_samples_split=150, n_estimators=80; total time=   0.2s\n",
            "[CV] END max_depth=4, min_samples_leaf=40, min_samples_split=150, n_estimators=80; total time=   0.2s\n",
            "[CV] END max_depth=4, min_samples_leaf=40, min_samples_split=150, n_estimators=80; total time=   0.2s\n",
            "[CV] END max_depth=4, min_samples_leaf=40, min_samples_split=150, n_estimators=80; total time=   0.2s\n",
            "[CV] END max_depth=4, min_samples_leaf=40, min_samples_split=150, n_estimators=100; total time=   0.2s\n",
            "[CV] END max_depth=4, min_samples_leaf=40, min_samples_split=150, n_estimators=100; total time=   0.2s\n",
            "[CV] END max_depth=4, min_samples_leaf=40, min_samples_split=150, n_estimators=100; total time=   0.2s\n",
            "[CV] END max_depth=4, min_samples_leaf=40, min_samples_split=150, n_estimators=100; total time=   0.2s\n",
            "[CV] END max_depth=4, min_samples_leaf=40, min_samples_split=150, n_estimators=100; total time=   0.2s\n",
            "[CV] END max_depth=4, min_samples_leaf=50, min_samples_split=50, n_estimators=50; total time=   0.1s\n",
            "[CV] END max_depth=4, min_samples_leaf=50, min_samples_split=50, n_estimators=50; total time=   0.1s\n",
            "[CV] END max_depth=4, min_samples_leaf=50, min_samples_split=50, n_estimators=50; total time=   0.1s\n",
            "[CV] END max_depth=4, min_samples_leaf=50, min_samples_split=50, n_estimators=50; total time=   0.1s\n",
            "[CV] END max_depth=4, min_samples_leaf=50, min_samples_split=50, n_estimators=50; total time=   0.1s\n",
            "[CV] END max_depth=4, min_samples_leaf=50, min_samples_split=50, n_estimators=80; total time=   0.2s\n",
            "[CV] END max_depth=4, min_samples_leaf=50, min_samples_split=50, n_estimators=80; total time=   0.2s\n",
            "[CV] END max_depth=4, min_samples_leaf=50, min_samples_split=50, n_estimators=80; total time=   0.2s\n",
            "[CV] END max_depth=4, min_samples_leaf=50, min_samples_split=50, n_estimators=80; total time=   0.2s\n",
            "[CV] END max_depth=4, min_samples_leaf=50, min_samples_split=50, n_estimators=80; total time=   0.2s\n",
            "[CV] END max_depth=4, min_samples_leaf=50, min_samples_split=50, n_estimators=100; total time=   0.2s\n",
            "[CV] END max_depth=4, min_samples_leaf=50, min_samples_split=50, n_estimators=100; total time=   0.2s\n",
            "[CV] END max_depth=4, min_samples_leaf=50, min_samples_split=50, n_estimators=100; total time=   0.2s\n",
            "[CV] END max_depth=4, min_samples_leaf=50, min_samples_split=50, n_estimators=100; total time=   0.2s\n",
            "[CV] END max_depth=4, min_samples_leaf=50, min_samples_split=50, n_estimators=100; total time=   0.2s\n",
            "[CV] END max_depth=4, min_samples_leaf=50, min_samples_split=100, n_estimators=50; total time=   0.1s\n",
            "[CV] END max_depth=4, min_samples_leaf=50, min_samples_split=100, n_estimators=50; total time=   0.1s\n",
            "[CV] END max_depth=4, min_samples_leaf=50, min_samples_split=100, n_estimators=50; total time=   0.1s\n",
            "[CV] END max_depth=4, min_samples_leaf=50, min_samples_split=100, n_estimators=50; total time=   0.1s\n",
            "[CV] END max_depth=4, min_samples_leaf=50, min_samples_split=100, n_estimators=50; total time=   0.1s\n",
            "[CV] END max_depth=4, min_samples_leaf=50, min_samples_split=100, n_estimators=80; total time=   0.2s\n",
            "[CV] END max_depth=4, min_samples_leaf=50, min_samples_split=100, n_estimators=80; total time=   0.2s\n",
            "[CV] END max_depth=4, min_samples_leaf=50, min_samples_split=100, n_estimators=80; total time=   0.2s\n",
            "[CV] END max_depth=4, min_samples_leaf=50, min_samples_split=100, n_estimators=80; total time=   0.2s\n",
            "[CV] END max_depth=4, min_samples_leaf=50, min_samples_split=100, n_estimators=80; total time=   0.2s\n",
            "[CV] END max_depth=4, min_samples_leaf=50, min_samples_split=100, n_estimators=100; total time=   0.2s\n",
            "[CV] END max_depth=4, min_samples_leaf=50, min_samples_split=100, n_estimators=100; total time=   0.2s\n",
            "[CV] END max_depth=4, min_samples_leaf=50, min_samples_split=100, n_estimators=100; total time=   0.2s\n",
            "[CV] END max_depth=4, min_samples_leaf=50, min_samples_split=100, n_estimators=100; total time=   0.2s\n",
            "[CV] END max_depth=4, min_samples_leaf=50, min_samples_split=100, n_estimators=100; total time=   0.2s\n",
            "[CV] END max_depth=4, min_samples_leaf=50, min_samples_split=150, n_estimators=50; total time=   0.1s\n",
            "[CV] END max_depth=4, min_samples_leaf=50, min_samples_split=150, n_estimators=50; total time=   0.1s\n",
            "[CV] END max_depth=4, min_samples_leaf=50, min_samples_split=150, n_estimators=50; total time=   0.1s\n",
            "[CV] END max_depth=4, min_samples_leaf=50, min_samples_split=150, n_estimators=50; total time=   0.1s\n",
            "[CV] END max_depth=4, min_samples_leaf=50, min_samples_split=150, n_estimators=50; total time=   0.1s\n",
            "[CV] END max_depth=4, min_samples_leaf=50, min_samples_split=150, n_estimators=80; total time=   0.2s\n",
            "[CV] END max_depth=4, min_samples_leaf=50, min_samples_split=150, n_estimators=80; total time=   0.2s\n",
            "[CV] END max_depth=4, min_samples_leaf=50, min_samples_split=150, n_estimators=80; total time=   0.2s\n",
            "[CV] END max_depth=4, min_samples_leaf=50, min_samples_split=150, n_estimators=80; total time=   0.2s\n",
            "[CV] END max_depth=4, min_samples_leaf=50, min_samples_split=150, n_estimators=80; total time=   0.2s\n",
            "[CV] END max_depth=4, min_samples_leaf=50, min_samples_split=150, n_estimators=100; total time=   0.3s\n",
            "[CV] END max_depth=4, min_samples_leaf=50, min_samples_split=150, n_estimators=100; total time=   0.5s\n",
            "[CV] END max_depth=4, min_samples_leaf=50, min_samples_split=150, n_estimators=100; total time=   0.5s\n",
            "[CV] END max_depth=4, min_samples_leaf=50, min_samples_split=150, n_estimators=100; total time=   0.5s\n",
            "[CV] END max_depth=4, min_samples_leaf=50, min_samples_split=150, n_estimators=100; total time=   0.6s\n",
            "[CV] END max_depth=6, min_samples_leaf=40, min_samples_split=50, n_estimators=50; total time=   0.2s\n",
            "[CV] END max_depth=6, min_samples_leaf=40, min_samples_split=50, n_estimators=50; total time=   0.2s\n",
            "[CV] END max_depth=6, min_samples_leaf=40, min_samples_split=50, n_estimators=50; total time=   0.3s\n",
            "[CV] END max_depth=6, min_samples_leaf=40, min_samples_split=50, n_estimators=50; total time=   0.3s\n",
            "[CV] END max_depth=6, min_samples_leaf=40, min_samples_split=50, n_estimators=50; total time=   0.2s\n",
            "[CV] END max_depth=6, min_samples_leaf=40, min_samples_split=50, n_estimators=80; total time=   0.3s\n",
            "[CV] END max_depth=6, min_samples_leaf=40, min_samples_split=50, n_estimators=80; total time=   0.4s\n",
            "[CV] END max_depth=6, min_samples_leaf=40, min_samples_split=50, n_estimators=80; total time=   0.4s\n",
            "[CV] END max_depth=6, min_samples_leaf=40, min_samples_split=50, n_estimators=80; total time=   0.3s\n",
            "[CV] END max_depth=6, min_samples_leaf=40, min_samples_split=50, n_estimators=80; total time=   0.3s\n",
            "[CV] END max_depth=6, min_samples_leaf=40, min_samples_split=50, n_estimators=100; total time=   0.4s\n",
            "[CV] END max_depth=6, min_samples_leaf=40, min_samples_split=50, n_estimators=100; total time=   0.4s\n",
            "[CV] END max_depth=6, min_samples_leaf=40, min_samples_split=50, n_estimators=100; total time=   0.3s\n",
            "[CV] END max_depth=6, min_samples_leaf=40, min_samples_split=50, n_estimators=100; total time=   0.3s\n",
            "[CV] END max_depth=6, min_samples_leaf=40, min_samples_split=50, n_estimators=100; total time=   0.4s\n",
            "[CV] END max_depth=6, min_samples_leaf=40, min_samples_split=100, n_estimators=50; total time=   0.2s\n",
            "[CV] END max_depth=6, min_samples_leaf=40, min_samples_split=100, n_estimators=50; total time=   0.2s\n",
            "[CV] END max_depth=6, min_samples_leaf=40, min_samples_split=100, n_estimators=50; total time=   0.2s\n",
            "[CV] END max_depth=6, min_samples_leaf=40, min_samples_split=100, n_estimators=50; total time=   0.2s\n",
            "[CV] END max_depth=6, min_samples_leaf=40, min_samples_split=100, n_estimators=50; total time=   0.2s\n",
            "[CV] END max_depth=6, min_samples_leaf=40, min_samples_split=100, n_estimators=80; total time=   0.3s\n",
            "[CV] END max_depth=6, min_samples_leaf=40, min_samples_split=100, n_estimators=80; total time=   0.3s\n",
            "[CV] END max_depth=6, min_samples_leaf=40, min_samples_split=100, n_estimators=80; total time=   0.4s\n",
            "[CV] END max_depth=6, min_samples_leaf=40, min_samples_split=100, n_estimators=80; total time=   0.4s\n",
            "[CV] END max_depth=6, min_samples_leaf=40, min_samples_split=100, n_estimators=80; total time=   0.4s\n",
            "[CV] END max_depth=6, min_samples_leaf=40, min_samples_split=100, n_estimators=100; total time=   0.9s\n",
            "[CV] END max_depth=6, min_samples_leaf=40, min_samples_split=100, n_estimators=100; total time=   0.4s\n",
            "[CV] END max_depth=6, min_samples_leaf=40, min_samples_split=100, n_estimators=100; total time=   0.4s\n",
            "[CV] END max_depth=6, min_samples_leaf=40, min_samples_split=100, n_estimators=100; total time=   0.4s\n",
            "[CV] END max_depth=6, min_samples_leaf=40, min_samples_split=100, n_estimators=100; total time=   0.4s\n",
            "[CV] END max_depth=6, min_samples_leaf=40, min_samples_split=150, n_estimators=50; total time=   0.2s\n",
            "[CV] END max_depth=6, min_samples_leaf=40, min_samples_split=150, n_estimators=50; total time=   0.2s\n",
            "[CV] END max_depth=6, min_samples_leaf=40, min_samples_split=150, n_estimators=50; total time=   0.2s\n",
            "[CV] END max_depth=6, min_samples_leaf=40, min_samples_split=150, n_estimators=50; total time=   0.2s\n",
            "[CV] END max_depth=6, min_samples_leaf=40, min_samples_split=150, n_estimators=50; total time=   0.2s\n",
            "[CV] END max_depth=6, min_samples_leaf=40, min_samples_split=150, n_estimators=80; total time=   0.3s\n",
            "[CV] END max_depth=6, min_samples_leaf=40, min_samples_split=150, n_estimators=80; total time=   0.3s\n",
            "[CV] END max_depth=6, min_samples_leaf=40, min_samples_split=150, n_estimators=80; total time=   0.3s\n",
            "[CV] END max_depth=6, min_samples_leaf=40, min_samples_split=150, n_estimators=80; total time=   0.3s\n",
            "[CV] END max_depth=6, min_samples_leaf=40, min_samples_split=150, n_estimators=80; total time=   0.3s\n",
            "[CV] END max_depth=6, min_samples_leaf=40, min_samples_split=150, n_estimators=100; total time=   0.4s\n",
            "[CV] END max_depth=6, min_samples_leaf=40, min_samples_split=150, n_estimators=100; total time=   0.4s\n",
            "[CV] END max_depth=6, min_samples_leaf=40, min_samples_split=150, n_estimators=100; total time=   0.4s\n",
            "[CV] END max_depth=6, min_samples_leaf=40, min_samples_split=150, n_estimators=100; total time=   0.4s\n",
            "[CV] END max_depth=6, min_samples_leaf=40, min_samples_split=150, n_estimators=100; total time=   0.3s\n",
            "[CV] END max_depth=6, min_samples_leaf=50, min_samples_split=50, n_estimators=50; total time=   0.1s\n",
            "[CV] END max_depth=6, min_samples_leaf=50, min_samples_split=50, n_estimators=50; total time=   0.2s\n",
            "[CV] END max_depth=6, min_samples_leaf=50, min_samples_split=50, n_estimators=50; total time=   0.2s\n",
            "[CV] END max_depth=6, min_samples_leaf=50, min_samples_split=50, n_estimators=50; total time=   0.2s\n",
            "[CV] END max_depth=6, min_samples_leaf=50, min_samples_split=50, n_estimators=50; total time=   0.2s\n",
            "[CV] END max_depth=6, min_samples_leaf=50, min_samples_split=50, n_estimators=80; total time=   0.3s\n",
            "[CV] END max_depth=6, min_samples_leaf=50, min_samples_split=50, n_estimators=80; total time=   0.3s\n",
            "[CV] END max_depth=6, min_samples_leaf=50, min_samples_split=50, n_estimators=80; total time=   0.3s\n",
            "[CV] END max_depth=6, min_samples_leaf=50, min_samples_split=50, n_estimators=80; total time=   0.3s\n",
            "[CV] END max_depth=6, min_samples_leaf=50, min_samples_split=50, n_estimators=80; total time=   0.3s\n",
            "[CV] END max_depth=6, min_samples_leaf=50, min_samples_split=50, n_estimators=100; total time=   0.4s\n",
            "[CV] END max_depth=6, min_samples_leaf=50, min_samples_split=50, n_estimators=100; total time=   0.4s\n",
            "[CV] END max_depth=6, min_samples_leaf=50, min_samples_split=50, n_estimators=100; total time=   0.4s\n",
            "[CV] END max_depth=6, min_samples_leaf=50, min_samples_split=50, n_estimators=100; total time=   0.4s\n",
            "[CV] END max_depth=6, min_samples_leaf=50, min_samples_split=50, n_estimators=100; total time=   0.4s\n",
            "[CV] END max_depth=6, min_samples_leaf=50, min_samples_split=100, n_estimators=50; total time=   0.2s\n",
            "[CV] END max_depth=6, min_samples_leaf=50, min_samples_split=100, n_estimators=50; total time=   0.2s\n",
            "[CV] END max_depth=6, min_samples_leaf=50, min_samples_split=100, n_estimators=50; total time=   0.2s\n",
            "[CV] END max_depth=6, min_samples_leaf=50, min_samples_split=100, n_estimators=50; total time=   0.2s\n",
            "[CV] END max_depth=6, min_samples_leaf=50, min_samples_split=100, n_estimators=50; total time=   0.2s\n",
            "[CV] END max_depth=6, min_samples_leaf=50, min_samples_split=100, n_estimators=80; total time=   0.3s\n",
            "[CV] END max_depth=6, min_samples_leaf=50, min_samples_split=100, n_estimators=80; total time=   0.3s\n",
            "[CV] END max_depth=6, min_samples_leaf=50, min_samples_split=100, n_estimators=80; total time=   0.3s\n",
            "[CV] END max_depth=6, min_samples_leaf=50, min_samples_split=100, n_estimators=80; total time=   0.3s\n",
            "[CV] END max_depth=6, min_samples_leaf=50, min_samples_split=100, n_estimators=80; total time=   0.2s\n",
            "[CV] END max_depth=6, min_samples_leaf=50, min_samples_split=100, n_estimators=100; total time=   0.2s\n",
            "[CV] END max_depth=6, min_samples_leaf=50, min_samples_split=100, n_estimators=100; total time=   0.2s\n",
            "[CV] END max_depth=6, min_samples_leaf=50, min_samples_split=100, n_estimators=100; total time=   0.2s\n",
            "[CV] END max_depth=6, min_samples_leaf=50, min_samples_split=100, n_estimators=100; total time=   0.2s\n",
            "[CV] END max_depth=6, min_samples_leaf=50, min_samples_split=100, n_estimators=100; total time=   0.2s\n",
            "[CV] END max_depth=6, min_samples_leaf=50, min_samples_split=150, n_estimators=50; total time=   0.1s\n",
            "[CV] END max_depth=6, min_samples_leaf=50, min_samples_split=150, n_estimators=50; total time=   0.1s\n",
            "[CV] END max_depth=6, min_samples_leaf=50, min_samples_split=150, n_estimators=50; total time=   0.1s\n",
            "[CV] END max_depth=6, min_samples_leaf=50, min_samples_split=150, n_estimators=50; total time=   0.1s\n",
            "[CV] END max_depth=6, min_samples_leaf=50, min_samples_split=150, n_estimators=50; total time=   0.1s\n",
            "[CV] END max_depth=6, min_samples_leaf=50, min_samples_split=150, n_estimators=80; total time=   0.2s\n",
            "[CV] END max_depth=6, min_samples_leaf=50, min_samples_split=150, n_estimators=80; total time=   0.4s\n",
            "[CV] END max_depth=6, min_samples_leaf=50, min_samples_split=150, n_estimators=80; total time=   0.4s\n",
            "[CV] END max_depth=6, min_samples_leaf=50, min_samples_split=150, n_estimators=80; total time=   0.3s\n",
            "[CV] END max_depth=6, min_samples_leaf=50, min_samples_split=150, n_estimators=80; total time=   0.3s\n",
            "[CV] END max_depth=6, min_samples_leaf=50, min_samples_split=150, n_estimators=100; total time=   0.4s\n",
            "[CV] END max_depth=6, min_samples_leaf=50, min_samples_split=150, n_estimators=100; total time=   0.4s\n",
            "[CV] END max_depth=6, min_samples_leaf=50, min_samples_split=150, n_estimators=100; total time=   0.4s\n",
            "[CV] END max_depth=6, min_samples_leaf=50, min_samples_split=150, n_estimators=100; total time=   0.3s\n",
            "[CV] END max_depth=6, min_samples_leaf=50, min_samples_split=150, n_estimators=100; total time=   0.3s\n",
            "[CV] END max_depth=8, min_samples_leaf=40, min_samples_split=50, n_estimators=50; total time=   0.2s\n",
            "[CV] END max_depth=8, min_samples_leaf=40, min_samples_split=50, n_estimators=50; total time=   0.2s\n",
            "[CV] END max_depth=8, min_samples_leaf=40, min_samples_split=50, n_estimators=50; total time=   0.1s\n",
            "[CV] END max_depth=8, min_samples_leaf=40, min_samples_split=50, n_estimators=50; total time=   0.1s\n",
            "[CV] END max_depth=8, min_samples_leaf=40, min_samples_split=50, n_estimators=50; total time=   0.2s\n",
            "[CV] END max_depth=8, min_samples_leaf=40, min_samples_split=50, n_estimators=80; total time=   0.3s\n",
            "[CV] END max_depth=8, min_samples_leaf=40, min_samples_split=50, n_estimators=80; total time=   0.3s\n",
            "[CV] END max_depth=8, min_samples_leaf=40, min_samples_split=50, n_estimators=80; total time=   0.2s\n",
            "[CV] END max_depth=8, min_samples_leaf=40, min_samples_split=50, n_estimators=80; total time=   0.3s\n",
            "[CV] END max_depth=8, min_samples_leaf=40, min_samples_split=50, n_estimators=80; total time=   0.3s\n",
            "[CV] END max_depth=8, min_samples_leaf=40, min_samples_split=50, n_estimators=100; total time=   0.4s\n",
            "[CV] END max_depth=8, min_samples_leaf=40, min_samples_split=50, n_estimators=100; total time=   0.4s\n",
            "[CV] END max_depth=8, min_samples_leaf=40, min_samples_split=50, n_estimators=100; total time=   0.4s\n",
            "[CV] END max_depth=8, min_samples_leaf=40, min_samples_split=50, n_estimators=100; total time=   0.4s\n",
            "[CV] END max_depth=8, min_samples_leaf=40, min_samples_split=50, n_estimators=100; total time=   0.4s\n",
            "[CV] END max_depth=8, min_samples_leaf=40, min_samples_split=100, n_estimators=50; total time=   0.2s\n",
            "[CV] END max_depth=8, min_samples_leaf=40, min_samples_split=100, n_estimators=50; total time=   0.2s\n",
            "[CV] END max_depth=8, min_samples_leaf=40, min_samples_split=100, n_estimators=50; total time=   0.2s\n",
            "[CV] END max_depth=8, min_samples_leaf=40, min_samples_split=100, n_estimators=50; total time=   0.2s\n",
            "[CV] END max_depth=8, min_samples_leaf=40, min_samples_split=100, n_estimators=50; total time=   0.2s\n",
            "[CV] END max_depth=8, min_samples_leaf=40, min_samples_split=100, n_estimators=80; total time=   0.3s\n",
            "[CV] END max_depth=8, min_samples_leaf=40, min_samples_split=100, n_estimators=80; total time=   0.3s\n",
            "[CV] END max_depth=8, min_samples_leaf=40, min_samples_split=100, n_estimators=80; total time=   0.3s\n",
            "[CV] END max_depth=8, min_samples_leaf=40, min_samples_split=100, n_estimators=80; total time=   0.3s\n",
            "[CV] END max_depth=8, min_samples_leaf=40, min_samples_split=100, n_estimators=80; total time=   0.3s\n",
            "[CV] END max_depth=8, min_samples_leaf=40, min_samples_split=100, n_estimators=100; total time=   0.4s\n",
            "[CV] END max_depth=8, min_samples_leaf=40, min_samples_split=100, n_estimators=100; total time=   0.4s\n",
            "[CV] END max_depth=8, min_samples_leaf=40, min_samples_split=100, n_estimators=100; total time=   0.4s\n",
            "[CV] END max_depth=8, min_samples_leaf=40, min_samples_split=100, n_estimators=100; total time=   0.2s\n",
            "[CV] END max_depth=8, min_samples_leaf=40, min_samples_split=100, n_estimators=100; total time=   0.2s\n",
            "[CV] END max_depth=8, min_samples_leaf=40, min_samples_split=150, n_estimators=50; total time=   0.1s\n",
            "[CV] END max_depth=8, min_samples_leaf=40, min_samples_split=150, n_estimators=50; total time=   0.2s\n",
            "[CV] END max_depth=8, min_samples_leaf=40, min_samples_split=150, n_estimators=50; total time=   0.2s\n",
            "[CV] END max_depth=8, min_samples_leaf=40, min_samples_split=150, n_estimators=50; total time=   0.2s\n",
            "[CV] END max_depth=8, min_samples_leaf=40, min_samples_split=150, n_estimators=50; total time=   0.2s\n",
            "[CV] END max_depth=8, min_samples_leaf=40, min_samples_split=150, n_estimators=80; total time=   0.3s\n",
            "[CV] END max_depth=8, min_samples_leaf=40, min_samples_split=150, n_estimators=80; total time=   0.3s\n",
            "[CV] END max_depth=8, min_samples_leaf=40, min_samples_split=150, n_estimators=80; total time=   0.3s\n",
            "[CV] END max_depth=8, min_samples_leaf=40, min_samples_split=150, n_estimators=80; total time=   0.3s\n",
            "[CV] END max_depth=8, min_samples_leaf=40, min_samples_split=150, n_estimators=80; total time=   0.3s\n",
            "[CV] END max_depth=8, min_samples_leaf=40, min_samples_split=150, n_estimators=100; total time=   0.4s\n",
            "[CV] END max_depth=8, min_samples_leaf=40, min_samples_split=150, n_estimators=100; total time=   0.4s\n",
            "[CV] END max_depth=8, min_samples_leaf=40, min_samples_split=150, n_estimators=100; total time=   0.4s\n",
            "[CV] END max_depth=8, min_samples_leaf=40, min_samples_split=150, n_estimators=100; total time=   0.4s\n",
            "[CV] END max_depth=8, min_samples_leaf=40, min_samples_split=150, n_estimators=100; total time=   0.4s\n",
            "[CV] END max_depth=8, min_samples_leaf=50, min_samples_split=50, n_estimators=50; total time=   0.2s\n",
            "[CV] END max_depth=8, min_samples_leaf=50, min_samples_split=50, n_estimators=50; total time=   0.2s\n",
            "[CV] END max_depth=8, min_samples_leaf=50, min_samples_split=50, n_estimators=50; total time=   0.2s\n",
            "[CV] END max_depth=8, min_samples_leaf=50, min_samples_split=50, n_estimators=50; total time=   0.2s\n",
            "[CV] END max_depth=8, min_samples_leaf=50, min_samples_split=50, n_estimators=50; total time=   0.2s\n",
            "[CV] END max_depth=8, min_samples_leaf=50, min_samples_split=50, n_estimators=80; total time=   0.3s\n",
            "[CV] END max_depth=8, min_samples_leaf=50, min_samples_split=50, n_estimators=80; total time=   0.3s\n",
            "[CV] END max_depth=8, min_samples_leaf=50, min_samples_split=50, n_estimators=80; total time=   0.3s\n",
            "[CV] END max_depth=8, min_samples_leaf=50, min_samples_split=50, n_estimators=80; total time=   0.2s\n",
            "[CV] END max_depth=8, min_samples_leaf=50, min_samples_split=50, n_estimators=80; total time=   0.2s\n",
            "[CV] END max_depth=8, min_samples_leaf=50, min_samples_split=50, n_estimators=100; total time=   0.2s\n",
            "[CV] END max_depth=8, min_samples_leaf=50, min_samples_split=50, n_estimators=100; total time=   0.2s\n",
            "[CV] END max_depth=8, min_samples_leaf=50, min_samples_split=50, n_estimators=100; total time=   0.2s\n",
            "[CV] END max_depth=8, min_samples_leaf=50, min_samples_split=50, n_estimators=100; total time=   0.2s\n",
            "[CV] END max_depth=8, min_samples_leaf=50, min_samples_split=50, n_estimators=100; total time=   0.2s\n",
            "[CV] END max_depth=8, min_samples_leaf=50, min_samples_split=100, n_estimators=50; total time=   0.1s\n",
            "[CV] END max_depth=8, min_samples_leaf=50, min_samples_split=100, n_estimators=50; total time=   0.1s\n",
            "[CV] END max_depth=8, min_samples_leaf=50, min_samples_split=100, n_estimators=50; total time=   0.1s\n",
            "[CV] END max_depth=8, min_samples_leaf=50, min_samples_split=100, n_estimators=50; total time=   0.2s\n",
            "[CV] END max_depth=8, min_samples_leaf=50, min_samples_split=100, n_estimators=50; total time=   0.2s\n",
            "[CV] END max_depth=8, min_samples_leaf=50, min_samples_split=100, n_estimators=80; total time=   0.4s\n",
            "[CV] END max_depth=8, min_samples_leaf=50, min_samples_split=100, n_estimators=80; total time=   0.3s\n",
            "[CV] END max_depth=8, min_samples_leaf=50, min_samples_split=100, n_estimators=80; total time=   0.3s\n",
            "[CV] END max_depth=8, min_samples_leaf=50, min_samples_split=100, n_estimators=80; total time=   0.3s\n",
            "[CV] END max_depth=8, min_samples_leaf=50, min_samples_split=100, n_estimators=80; total time=   0.3s\n",
            "[CV] END max_depth=8, min_samples_leaf=50, min_samples_split=100, n_estimators=100; total time=   0.4s\n",
            "[CV] END max_depth=8, min_samples_leaf=50, min_samples_split=100, n_estimators=100; total time=   0.4s\n",
            "[CV] END max_depth=8, min_samples_leaf=50, min_samples_split=100, n_estimators=100; total time=   0.4s\n",
            "[CV] END max_depth=8, min_samples_leaf=50, min_samples_split=100, n_estimators=100; total time=   0.4s\n",
            "[CV] END max_depth=8, min_samples_leaf=50, min_samples_split=100, n_estimators=100; total time=   0.4s\n",
            "[CV] END max_depth=8, min_samples_leaf=50, min_samples_split=150, n_estimators=50; total time=   0.2s\n",
            "[CV] END max_depth=8, min_samples_leaf=50, min_samples_split=150, n_estimators=50; total time=   0.2s\n",
            "[CV] END max_depth=8, min_samples_leaf=50, min_samples_split=150, n_estimators=50; total time=   0.2s\n",
            "[CV] END max_depth=8, min_samples_leaf=50, min_samples_split=150, n_estimators=50; total time=   0.2s\n",
            "[CV] END max_depth=8, min_samples_leaf=50, min_samples_split=150, n_estimators=50; total time=   0.2s\n",
            "[CV] END max_depth=8, min_samples_leaf=50, min_samples_split=150, n_estimators=80; total time=   0.3s\n",
            "[CV] END max_depth=8, min_samples_leaf=50, min_samples_split=150, n_estimators=80; total time=   0.3s\n",
            "[CV] END max_depth=8, min_samples_leaf=50, min_samples_split=150, n_estimators=80; total time=   0.3s\n",
            "[CV] END max_depth=8, min_samples_leaf=50, min_samples_split=150, n_estimators=80; total time=   0.3s\n",
            "[CV] END max_depth=8, min_samples_leaf=50, min_samples_split=150, n_estimators=80; total time=   0.3s\n",
            "[CV] END max_depth=8, min_samples_leaf=50, min_samples_split=150, n_estimators=100; total time=   0.3s\n",
            "[CV] END max_depth=8, min_samples_leaf=50, min_samples_split=150, n_estimators=100; total time=   0.2s\n",
            "[CV] END max_depth=8, min_samples_leaf=50, min_samples_split=150, n_estimators=100; total time=   0.2s\n",
            "[CV] END max_depth=8, min_samples_leaf=50, min_samples_split=150, n_estimators=100; total time=   0.2s\n",
            "[CV] END max_depth=8, min_samples_leaf=50, min_samples_split=150, n_estimators=100; total time=   0.2s\n"
          ]
        },
        {
          "output_type": "execute_result",
          "data": {
            "text/plain": [
              "GridSearchCV(cv=5, estimator=RandomForestClassifier(),\n",
              "             param_grid={'max_depth': [4, 6, 8], 'min_samples_leaf': [40, 50],\n",
              "                         'min_samples_split': [50, 100, 150],\n",
              "                         'n_estimators': [50, 80, 100]},\n",
              "             scoring='accuracy', verbose=2)"
            ]
          },
          "metadata": {},
          "execution_count": 66
        }
      ]
    },
    {
      "cell_type": "code",
      "source": [
        "rf_optimal_model = rf_grid.best_estimator_\n",
        "rf_optimal_model"
      ],
      "metadata": {
        "colab": {
          "base_uri": "https://localhost:8080/"
        },
        "id": "QixPg1A-1ukA",
        "outputId": "65f550a6-aa4e-4c0f-ba0f-6a37a43e9cee"
      },
      "execution_count": 67,
      "outputs": [
        {
          "output_type": "execute_result",
          "data": {
            "text/plain": [
              "RandomForestClassifier(max_depth=6, min_samples_leaf=40, min_samples_split=50)"
            ]
          },
          "metadata": {},
          "execution_count": 67
        }
      ]
    },
    {
      "cell_type": "code",
      "source": [
        "# Making predictions on train and test data\n",
        "\n",
        "train_class_preds = rf_optimal_model.predict(X_train)\n",
        "test_class_preds = rf_optimal_model.predict(X_test)"
      ],
      "metadata": {
        "id": "SM65ASxk1uXW"
      },
      "execution_count": 68,
      "outputs": []
    },
    {
      "cell_type": "code",
      "source": [
        "train_class_preds\n",
        "test_class_preds"
      ],
      "metadata": {
        "colab": {
          "base_uri": "https://localhost:8080/"
        },
        "id": "hqCCYDuD13tr",
        "outputId": "a0d4556e-e918-4c71-d75a-4dbfca22b757"
      },
      "execution_count": 69,
      "outputs": [
        {
          "output_type": "execute_result",
          "data": {
            "text/plain": [
              "array([3, 0, 2, 1, 3, 0, 0, 3, 3, 1, 0, 3, 0, 2, 3, 0, 3, 2, 2, 1, 0, 0,\n",
              "       3, 1, 1, 2, 3, 1, 3, 1, 1, 0, 1, 0, 2, 3, 0, 0, 3, 3, 3, 1, 3, 3,\n",
              "       1, 3, 0, 1, 3, 1, 1, 3, 0, 3, 0, 2, 2, 1, 0, 3, 3, 1, 3, 2, 2, 2,\n",
              "       3, 3, 1, 2, 3, 2, 1, 0, 1, 3, 2, 2, 2, 1, 3, 3, 3, 0, 0, 0, 2, 0,\n",
              "       1, 3, 1, 3, 2, 1, 0, 3, 3, 3, 0, 3, 1, 2, 3, 1, 3, 1, 3, 3, 2, 3,\n",
              "       3, 0, 0, 2, 3, 3, 0, 0, 1, 0, 1, 3, 1, 2, 1, 2, 1, 1, 0, 2, 1, 3,\n",
              "       3, 3, 3, 3, 3, 1, 0, 1, 1, 2, 2, 3, 0, 3, 0, 0, 2, 0, 1, 1, 1, 1,\n",
              "       3, 0, 0, 3, 1, 3, 2, 1, 3, 1, 2, 3, 3, 3, 1, 0, 3, 2, 2, 3, 3, 0,\n",
              "       1, 2, 3, 0, 2, 1, 0, 2, 3, 1, 2, 0, 2, 3, 1, 1, 0, 3, 3, 0, 1, 2,\n",
              "       1, 0, 3, 3, 3, 1, 1, 3, 3, 3, 0, 0, 0, 2, 3, 3, 0, 0, 1, 3, 2, 3,\n",
              "       3, 3, 0, 0, 3, 2, 3, 2, 0, 2, 0, 0, 0, 3, 3, 0, 2, 2, 1, 1, 0, 2,\n",
              "       3, 3, 0, 0, 1, 3, 3, 1, 3, 0, 3, 1, 1, 0, 1, 3, 3, 2, 0, 0, 1, 2,\n",
              "       3, 2, 2, 3, 2, 1, 0, 3, 3, 1, 2, 3, 3, 2, 2, 1, 0, 2, 1, 1, 1, 0,\n",
              "       3, 2, 2, 2, 0, 1, 3, 0, 1, 2, 3, 0, 2, 0, 0, 1, 3, 0, 0, 2, 3, 1,\n",
              "       1, 0, 1, 0, 3, 0, 3, 3, 3, 3, 0, 1, 1, 1, 1, 1, 0, 1, 0, 3, 1, 0,\n",
              "       3, 1, 0, 1, 3, 0, 3, 2, 2, 0, 1, 3, 0, 2, 1, 1, 2, 1, 2, 0, 2, 0,\n",
              "       0, 3, 1, 3, 3, 1, 3, 0, 3, 3, 2, 1, 2, 2, 3, 3, 3, 0, 2, 0, 3, 0,\n",
              "       1, 1, 2, 3, 1, 3, 1, 1, 0, 1, 1, 3, 0, 0, 1, 3, 0, 3, 0, 1, 2, 0,\n",
              "       0, 0, 3, 0, 0, 0, 3, 0, 3, 3, 0, 2, 2, 3, 2, 1, 3, 2, 0, 3, 3, 2,\n",
              "       0, 0, 3, 0, 1, 1, 1, 3, 1, 3, 2, 0, 3, 0, 0, 1, 3, 0, 0, 3, 3, 2,\n",
              "       2, 3, 0, 0, 1, 2, 0, 2, 0, 3, 3, 0, 2, 3, 0, 2, 1, 1, 0, 2, 2, 1,\n",
              "       3, 2, 2, 0, 2, 0, 3, 3, 2, 1, 0, 3, 0, 2, 0, 0, 1, 3, 0, 3, 0, 0,\n",
              "       1, 2, 0, 1, 3, 0, 2, 1, 1, 2, 0, 3, 0, 1, 3, 2, 2, 2, 3, 2, 3, 3,\n",
              "       0, 0, 2, 0, 3, 2, 1, 0, 0, 3, 2, 0, 1, 1, 3, 1, 1, 0, 2, 1, 0, 2,\n",
              "       1, 3, 0, 0, 2, 0, 3, 1, 1, 0, 2, 3, 0, 0, 0, 0, 3, 2, 1, 2, 2, 2,\n",
              "       0, 1, 1, 2, 3, 1, 3, 1, 3, 3, 2, 1, 0, 3, 0, 3, 0, 0, 1, 1, 2, 0,\n",
              "       2, 0, 1, 3, 3, 1, 3, 1, 2, 0, 0, 1, 3, 1, 2, 1, 3, 2, 1, 1, 3, 1,\n",
              "       0, 2, 3, 0, 2, 2])"
            ]
          },
          "metadata": {},
          "execution_count": 69
        }
      ]
    },
    {
      "cell_type": "code",
      "source": [
        "from sklearn.metrics import accuracy_score"
      ],
      "metadata": {
        "id": "6zOSynl_13j-"
      },
      "execution_count": 70,
      "outputs": []
    },
    {
      "cell_type": "code",
      "source": [
        "# Calculating accuracy on train and test\n",
        "train_accuracy = accuracy_score(y_train,train_class_preds)\n",
        "test_accuracy = accuracy_score(y_test,test_class_preds)\n",
        "\n",
        "print(\"The accuracy on train dataset is\", train_accuracy)\n",
        "print(\"The accuracy on test dataset is\", test_accuracy)"
      ],
      "metadata": {
        "colab": {
          "base_uri": "https://localhost:8080/"
        },
        "id": "DDOT5k7Z18aV",
        "outputId": "a92adf1b-3659-49dd-a406-67366f1c898b"
      },
      "execution_count": 71,
      "outputs": [
        {
          "output_type": "stream",
          "name": "stdout",
          "text": [
            "The accuracy on train dataset is 0.8764285714285714\n",
            "The accuracy on test dataset is 0.8183333333333334\n"
          ]
        }
      ]
    },
    {
      "cell_type": "code",
      "source": [
        "# Get the confusion matrices for train and test\n",
        "train_cm = confusion_matrix(y_train,train_class_preds)\n",
        "test_cm = confusion_matrix(y_test,test_class_preds )"
      ],
      "metadata": {
        "id": "qlkLu1PY18Sr"
      },
      "execution_count": 72,
      "outputs": []
    },
    {
      "cell_type": "code",
      "source": [
        "train_cm"
      ],
      "metadata": {
        "colab": {
          "base_uri": "https://localhost:8080/"
        },
        "id": "AE3R8_he18Kr",
        "outputId": "8b126b99-47f2-4043-9f35-a733e7a47bd5"
      },
      "execution_count": 73,
      "outputs": [
        {
          "output_type": "execute_result",
          "data": {
            "text/plain": [
              "array([[336,  13,   0,   0],\n",
              "       [ 30, 304,  31,   0],\n",
              "       [  0,  69, 257,  23],\n",
              "       [  0,   0,   7, 330]])"
            ]
          },
          "metadata": {},
          "execution_count": 73
        }
      ]
    },
    {
      "cell_type": "code",
      "source": [
        "test_cm"
      ],
      "metadata": {
        "colab": {
          "base_uri": "https://localhost:8080/"
        },
        "id": "GNGOAaEq18A0",
        "outputId": "d2798c7f-6a04-4c9e-826e-222ec8b02512"
      },
      "execution_count": 74,
      "outputs": [
        {
          "output_type": "execute_result",
          "data": {
            "text/plain": [
              "array([[145,   6,   0,   0],\n",
              "       [ 15, 101,  19,   0],\n",
              "       [  0,  35,  91,  25],\n",
              "       [  0,   0,   9, 154]])"
            ]
          },
          "metadata": {},
          "execution_count": 74
        }
      ]
    },
    {
      "cell_type": "code",
      "source": [
        "cm = confusion_matrix(y_train,train_class_preds)\n",
        "\n",
        "df1 = pd.DataFrame(columns=[\"0\",\"1\",\"2\",\"3\"], index= [\"0\",\"1\",\"2\",\"3\"], data= cm )\n",
        "\n",
        "f,ax = plt.subplots(figsize=(6,6))\n",
        "\n",
        "sns.heatmap(df1, annot=True,cmap=\"OrRd\", fmt= '.0f',\n",
        "            ax=ax,linewidths = 5, cbar = False,annot_kws={\"size\": 16})\n",
        "plt.xlabel(\"Predicted Label\")\n",
        "plt.xticks(size = 12)\n",
        "plt.yticks(size = 12, rotation = 0)\n",
        "plt.ylabel(\"True Label\")\n",
        "plt.title(\"Confusion Matrix\", size = 12)\n",
        "plt.show()"
      ],
      "metadata": {
        "colab": {
          "base_uri": "https://localhost:8080/",
          "height": 407
        },
        "id": "szDxPNuU2KAf",
        "outputId": "c2876d7f-1390-4117-e4cf-11bc4d909806"
      },
      "execution_count": 75,
      "outputs": [
        {
          "output_type": "display_data",
          "data": {
            "text/plain": [
              "<Figure size 432x432 with 1 Axes>"
            ],
            "image/png": "[encoded data removed]"
          },
          "metadata": {
            "needs_background": "light"
          }
        }
      ]
    },
    {
      "cell_type": "code",
      "source": [
        "cm = confusion_matrix(y_test, test_class_preds)\n",
        "\n",
        "df1 = pd.DataFrame(columns=[\"0\",\"1\",\"2\",\"3\"], index= [\"0\",\"1\",\"2\",\"3\"], data= cm )\n",
        "\n",
        "f,ax = plt.subplots(figsize=(6,6))\n",
        "\n",
        "sns.heatmap(df1, annot=True,cmap=\"OrRd\", fmt= '.0f',\n",
        "            ax=ax,linewidths = 5, cbar = False,annot_kws={\"size\": 16})\n",
        "plt.xlabel(\"Predicted Label\")\n",
        "plt.xticks(size = 12)\n",
        "plt.yticks(size = 12, rotation = 0)\n",
        "plt.ylabel(\"True Label\")\n",
        "plt.title(\"Confusion Matrix\", size = 12)\n",
        "plt.show()"
      ],
      "metadata": {
        "colab": {
          "base_uri": "https://localhost:8080/",
          "height": 407
        },
        "id": "GM7AM9g92J5h",
        "outputId": "c0ca6e37-ae62-44eb-d703-7c0b4a1f9e62"
      },
      "execution_count": 76,
      "outputs": [
        {
          "output_type": "display_data",
          "data": {
            "text/plain": [
              "<Figure size 432x432 with 1 Axes>"
            ],
            "image/png": "[encoded data removed]"
          },
          "metadata": {
            "needs_background": "light"
          }
        }
      ]
    },
    {
      "cell_type": "code",
      "source": [
        "print(classification_report(y_train,train_class_preds))"
      ],
      "metadata": {
        "colab": {
          "base_uri": "https://localhost:8080/"
        },
        "id": "p-4z_d8s2Jvp",
        "outputId": "0edd9dc7-0014-4ba8-ee28-8f71055760d7"
      },
      "execution_count": 77,
      "outputs": [
        {
          "output_type": "stream",
          "name": "stdout",
          "text": [
            "              precision    recall  f1-score   support\n",
            "\n",
            "           0       0.92      0.96      0.94       349\n",
            "           1       0.79      0.83      0.81       365\n",
            "           2       0.87      0.74      0.80       349\n",
            "           3       0.93      0.98      0.96       337\n",
            "\n",
            "    accuracy                           0.88      1400\n",
            "   macro avg       0.88      0.88      0.88      1400\n",
            "weighted avg       0.88      0.88      0.87      1400\n",
            "\n"
          ]
        }
      ]
    },
    {
      "cell_type": "code",
      "source": [
        "print(classification_report(y_test,test_class_preds))"
      ],
      "metadata": {
        "colab": {
          "base_uri": "https://localhost:8080/"
        },
        "id": "4m9ADMpZ2Re0",
        "outputId": "682ec2dc-7379-4260-adef-de0d92fadaa7"
      },
      "execution_count": 78,
      "outputs": [
        {
          "output_type": "stream",
          "name": "stdout",
          "text": [
            "              precision    recall  f1-score   support\n",
            "\n",
            "           0       0.91      0.96      0.93       151\n",
            "           1       0.71      0.75      0.73       135\n",
            "           2       0.76      0.60      0.67       151\n",
            "           3       0.86      0.94      0.90       163\n",
            "\n",
            "    accuracy                           0.82       600\n",
            "   macro avg       0.81      0.81      0.81       600\n",
            "weighted avg       0.81      0.82      0.81       600\n",
            "\n"
          ]
        }
      ]
    },
    {
      "cell_type": "code",
      "source": [
        "# test random forest\n",
        "print(\"Model Score:\",rf_optimal_model.score(X_test,y_test))\n",
        "\n",
        "MSE= mean_squared_error(y_test,test_class_preds)\n",
        "print(\"MSE :\",MSE)\n",
        "\n",
        "RMSE=np.sqrt(MSE)\n",
        "print(\"RMSE :\",RMSE)\n",
        "from sklearn.metrics import r2_score\n",
        "r2= r2_score(y_test,test_class_preds)\n",
        "print(\"R2 :\",r2)\n",
        "print(\"Adjusted R2 :\",1-(1-r2_score(y_test, test_class_preds))*((X_test.shape[0]-1)/(X_test.shape[0]-X_test.shape[1]-1)) )"
      ],
      "metadata": {
        "colab": {
          "base_uri": "https://localhost:8080/"
        },
        "id": "cZpYRO652Ra4",
        "outputId": "079a7da3-d2a1-4f1c-9305-0fb96597e678"
      },
      "execution_count": 79,
      "outputs": [
        {
          "output_type": "stream",
          "name": "stdout",
          "text": [
            "Model Score: 0.8183333333333334\n",
            "MSE : 0.18166666666666667\n",
            "RMSE : 0.4262237284181474\n",
            "R2 : 0.859693987007749\n",
            "Adjusted R2 : 0.8548474926038716\n"
          ]
        }
      ]
    },
    {
      "cell_type": "markdown",
      "source": [
        "# **GradientBoostingClassifier**"
      ],
      "metadata": {
        "id": "FOFC_7Fd2Xtk"
      }
    },
    {
      "cell_type": "code",
      "source": [
        "from sklearn.ensemble import GradientBoostingClassifier"
      ],
      "metadata": {
        "id": "EF5SgBYr2RWh"
      },
      "execution_count": 80,
      "outputs": []
    },
    {
      "cell_type": "code",
      "source": [
        "state = 12  \n",
        "test_size = 0.33\n",
        "X_train, X_val, y_train, y_val = train_test_split(X_train, y_train,  \n",
        "    test_size=test_size, random_state=state)"
      ],
      "metadata": {
        "id": "G7tnQUy122L-"
      },
      "execution_count": 81,
      "outputs": []
    },
    {
      "cell_type": "code",
      "source": [
        "gbd_model=GradientBoostingClassifier()\n",
        "parameters = {'learning_rate':[0.05, 0.075, 0.1, 0.25, 0.5, 0.75, 1],\n",
        "                  # 'subsample'    : [0.9, 0.5, 0.2, 0.1],\n",
        "                  'n_estimators' : [20],\n",
        "                  'max_depth'    : [2,4,6,10]\n",
        "                 }\n",
        "gb_classifier=GridSearchCV(gbd_model,param_grid=parameters,scoring='neg_mean_squared_error',cv=5,verbose=3)\n",
        "gb_classifier.fit(X_train,y_train)\n",
        "# (n_estimators=20,param_grid=parameters,random_state=0)\n",
        "# gb_clf2.fit(X_train, y_train)"
      ],
      "metadata": {
        "colab": {
          "base_uri": "https://localhost:8080/"
        },
        "id": "MR8N3ejS22Jc",
        "outputId": "1b6b3e58-8e85-40a3-ba61-c8e9f885d844"
      },
      "execution_count": 82,
      "outputs": [
        {
          "output_type": "stream",
          "name": "stdout",
          "text": [
            "Fitting 5 folds for each of 28 candidates, totalling 140 fits\n",
            "[CV 1/5] END learning_rate=0.05, max_depth=2, n_estimators=20;, score=-0.213 total time=   0.3s\n",
            "[CV 2/5] END learning_rate=0.05, max_depth=2, n_estimators=20;, score=-0.234 total time=   0.3s\n",
            "[CV 3/5] END learning_rate=0.05, max_depth=2, n_estimators=20;, score=-0.250 total time=   0.3s\n",
            "[CV 4/5] END learning_rate=0.05, max_depth=2, n_estimators=20;, score=-0.241 total time=   0.3s\n",
            "[CV 5/5] END learning_rate=0.05, max_depth=2, n_estimators=20;, score=-0.219 total time=   0.3s\n",
            "[CV 1/5] END learning_rate=0.05, max_depth=4, n_estimators=20;, score=-0.176 total time=   0.5s\n",
            "[CV 2/5] END learning_rate=0.05, max_depth=4, n_estimators=20;, score=-0.181 total time=   0.5s\n",
            "[CV 3/5] END learning_rate=0.05, max_depth=4, n_estimators=20;, score=-0.191 total time=   0.5s\n",
            "[CV 4/5] END learning_rate=0.05, max_depth=4, n_estimators=20;, score=-0.176 total time=   0.5s\n",
            "[CV 5/5] END learning_rate=0.05, max_depth=4, n_estimators=20;, score=-0.198 total time=   0.4s\n",
            "[CV 1/5] END learning_rate=0.05, max_depth=6, n_estimators=20;, score=-0.223 total time=   0.5s\n",
            "[CV 2/5] END learning_rate=0.05, max_depth=6, n_estimators=20;, score=-0.154 total time=   0.5s\n",
            "[CV 3/5] END learning_rate=0.05, max_depth=6, n_estimators=20;, score=-0.154 total time=   0.5s\n",
            "[CV 4/5] END learning_rate=0.05, max_depth=6, n_estimators=20;, score=-0.150 total time=   0.5s\n",
            "[CV 5/5] END learning_rate=0.05, max_depth=6, n_estimators=20;, score=-0.214 total time=   0.5s\n",
            "[CV 1/5] END learning_rate=0.05, max_depth=10, n_estimators=20;, score=-0.282 total time=   1.0s\n",
            "[CV 2/5] END learning_rate=0.05, max_depth=10, n_estimators=20;, score=-0.176 total time=   1.0s\n",
            "[CV 3/5] END learning_rate=0.05, max_depth=10, n_estimators=20;, score=-0.191 total time=   0.9s\n",
            "[CV 4/5] END learning_rate=0.05, max_depth=10, n_estimators=20;, score=-0.198 total time=   1.0s\n",
            "[CV 5/5] END learning_rate=0.05, max_depth=10, n_estimators=20;, score=-0.203 total time=   1.0s\n",
            "[CV 1/5] END learning_rate=0.075, max_depth=2, n_estimators=20;, score=-0.213 total time=   0.2s\n",
            "[CV 2/5] END learning_rate=0.075, max_depth=2, n_estimators=20;, score=-0.229 total time=   0.2s\n",
            "[CV 3/5] END learning_rate=0.075, max_depth=2, n_estimators=20;, score=-0.239 total time=   0.2s\n",
            "[CV 4/5] END learning_rate=0.075, max_depth=2, n_estimators=20;, score=-0.225 total time=   0.2s\n",
            "[CV 5/5] END learning_rate=0.075, max_depth=2, n_estimators=20;, score=-0.225 total time=   0.2s\n",
            "[CV 1/5] END learning_rate=0.075, max_depth=4, n_estimators=20;, score=-0.170 total time=   0.3s\n",
            "[CV 2/5] END learning_rate=0.075, max_depth=4, n_estimators=20;, score=-0.186 total time=   0.3s\n",
            "[CV 3/5] END learning_rate=0.075, max_depth=4, n_estimators=20;, score=-0.186 total time=   0.3s\n",
            "[CV 4/5] END learning_rate=0.075, max_depth=4, n_estimators=20;, score=-0.171 total time=   0.3s\n",
            "[CV 5/5] END learning_rate=0.075, max_depth=4, n_estimators=20;, score=-0.176 total time=   0.3s\n",
            "[CV 1/5] END learning_rate=0.075, max_depth=6, n_estimators=20;, score=-0.160 total time=   0.8s\n",
            "[CV 2/5] END learning_rate=0.075, max_depth=6, n_estimators=20;, score=-0.181 total time=   0.8s\n",
            "[CV 3/5] END learning_rate=0.075, max_depth=6, n_estimators=20;, score=-0.165 total time=   0.8s\n",
            "[CV 4/5] END learning_rate=0.075, max_depth=6, n_estimators=20;, score=-0.150 total time=   0.8s\n",
            "[CV 5/5] END learning_rate=0.075, max_depth=6, n_estimators=20;, score=-0.155 total time=   0.8s\n",
            "[CV 1/5] END learning_rate=0.075, max_depth=10, n_estimators=20;, score=-0.213 total time=   1.6s\n",
            "[CV 2/5] END learning_rate=0.075, max_depth=10, n_estimators=20;, score=-0.191 total time=   1.4s\n",
            "[CV 3/5] END learning_rate=0.075, max_depth=10, n_estimators=20;, score=-0.176 total time=   1.3s\n",
            "[CV 4/5] END learning_rate=0.075, max_depth=10, n_estimators=20;, score=-0.193 total time=   1.6s\n",
            "[CV 5/5] END learning_rate=0.075, max_depth=10, n_estimators=20;, score=-0.203 total time=   1.6s\n",
            "[CV 1/5] END learning_rate=0.1, max_depth=2, n_estimators=20;, score=-0.207 total time=   0.3s\n",
            "[CV 2/5] END learning_rate=0.1, max_depth=2, n_estimators=20;, score=-0.229 total time=   0.3s\n",
            "[CV 3/5] END learning_rate=0.1, max_depth=2, n_estimators=20;, score=-0.223 total time=   0.3s\n",
            "[CV 4/5] END learning_rate=0.1, max_depth=2, n_estimators=20;, score=-0.219 total time=   0.3s\n",
            "[CV 5/5] END learning_rate=0.1, max_depth=2, n_estimators=20;, score=-0.225 total time=   0.3s\n",
            "[CV 1/5] END learning_rate=0.1, max_depth=4, n_estimators=20;, score=-0.170 total time=   0.5s\n",
            "[CV 2/5] END learning_rate=0.1, max_depth=4, n_estimators=20;, score=-0.170 total time=   0.6s\n",
            "[CV 3/5] END learning_rate=0.1, max_depth=4, n_estimators=20;, score=-0.176 total time=   0.8s\n",
            "[CV 4/5] END learning_rate=0.1, max_depth=4, n_estimators=20;, score=-0.160 total time=   0.6s\n",
            "[CV 5/5] END learning_rate=0.1, max_depth=4, n_estimators=20;, score=-0.166 total time=   0.7s\n",
            "[CV 1/5] END learning_rate=0.1, max_depth=6, n_estimators=20;, score=-0.181 total time=   0.9s\n",
            "[CV 2/5] END learning_rate=0.1, max_depth=6, n_estimators=20;, score=-0.176 total time=   1.0s\n",
            "[CV 3/5] END learning_rate=0.1, max_depth=6, n_estimators=20;, score=-0.165 total time=   0.9s\n",
            "[CV 4/5] END learning_rate=0.1, max_depth=6, n_estimators=20;, score=-0.150 total time=   0.7s\n",
            "[CV 5/5] END learning_rate=0.1, max_depth=6, n_estimators=20;, score=-0.139 total time=   0.8s\n",
            "[CV 1/5] END learning_rate=0.1, max_depth=10, n_estimators=20;, score=-0.229 total time=   1.6s\n",
            "[CV 2/5] END learning_rate=0.1, max_depth=10, n_estimators=20;, score=-0.181 total time=   2.2s\n",
            "[CV 3/5] END learning_rate=0.1, max_depth=10, n_estimators=20;, score=-0.181 total time=   1.5s\n",
            "[CV 4/5] END learning_rate=0.1, max_depth=10, n_estimators=20;, score=-0.187 total time=   1.5s\n",
            "[CV 5/5] END learning_rate=0.1, max_depth=10, n_estimators=20;, score=-0.198 total time=   1.2s\n",
            "[CV 1/5] END learning_rate=0.25, max_depth=2, n_estimators=20;, score=-0.170 total time=   0.3s\n",
            "[CV 2/5] END learning_rate=0.25, max_depth=2, n_estimators=20;, score=-0.165 total time=   0.3s\n",
            "[CV 3/5] END learning_rate=0.25, max_depth=2, n_estimators=20;, score=-0.170 total time=   0.3s\n",
            "[CV 4/5] END learning_rate=0.25, max_depth=2, n_estimators=20;, score=-0.155 total time=   0.3s\n",
            "[CV 5/5] END learning_rate=0.25, max_depth=2, n_estimators=20;, score=-0.139 total time=   0.3s\n",
            "[CV 1/5] END learning_rate=0.25, max_depth=4, n_estimators=20;, score=-0.165 total time=   0.5s\n",
            "[CV 2/5] END learning_rate=0.25, max_depth=4, n_estimators=20;, score=-0.154 total time=   0.5s\n",
            "[CV 3/5] END learning_rate=0.25, max_depth=4, n_estimators=20;, score=-0.144 total time=   0.5s\n",
            "[CV 4/5] END learning_rate=0.25, max_depth=4, n_estimators=20;, score=-0.144 total time=   0.5s\n",
            "[CV 5/5] END learning_rate=0.25, max_depth=4, n_estimators=20;, score=-0.134 total time=   0.5s\n",
            "[CV 1/5] END learning_rate=0.25, max_depth=6, n_estimators=20;, score=-0.160 total time=   0.8s\n",
            "[CV 2/5] END learning_rate=0.25, max_depth=6, n_estimators=20;, score=-0.154 total time=   0.8s\n",
            "[CV 3/5] END learning_rate=0.25, max_depth=6, n_estimators=20;, score=-0.128 total time=   0.8s\n",
            "[CV 4/5] END learning_rate=0.25, max_depth=6, n_estimators=20;, score=-0.139 total time=   0.6s\n",
            "[CV 5/5] END learning_rate=0.25, max_depth=6, n_estimators=20;, score=-0.150 total time=   0.5s\n",
            "[CV 1/5] END learning_rate=0.25, max_depth=10, n_estimators=20;, score=-0.191 total time=   0.9s\n",
            "[CV 2/5] END learning_rate=0.25, max_depth=10, n_estimators=20;, score=-0.202 total time=   0.9s\n",
            "[CV 3/5] END learning_rate=0.25, max_depth=10, n_estimators=20;, score=-0.191 total time=   0.9s\n",
            "[CV 4/5] END learning_rate=0.25, max_depth=10, n_estimators=20;, score=-0.166 total time=   1.0s\n",
            "[CV 5/5] END learning_rate=0.25, max_depth=10, n_estimators=20;, score=-0.187 total time=   1.5s\n",
            "[CV 1/5] END learning_rate=0.5, max_depth=2, n_estimators=20;, score=-0.112 total time=   0.3s\n",
            "[CV 2/5] END learning_rate=0.5, max_depth=2, n_estimators=20;, score=-0.138 total time=   0.3s\n",
            "[CV 3/5] END learning_rate=0.5, max_depth=2, n_estimators=20;, score=-0.138 total time=   0.3s\n",
            "[CV 4/5] END learning_rate=0.5, max_depth=2, n_estimators=20;, score=-0.134 total time=   0.3s\n",
            "[CV 5/5] END learning_rate=0.5, max_depth=2, n_estimators=20;, score=-0.123 total time=   0.3s\n",
            "[CV 1/5] END learning_rate=0.5, max_depth=4, n_estimators=20;, score=-0.154 total time=   0.5s\n",
            "[CV 2/5] END learning_rate=0.5, max_depth=4, n_estimators=20;, score=-0.128 total time=   0.5s\n",
            "[CV 3/5] END learning_rate=0.5, max_depth=4, n_estimators=20;, score=-0.170 total time=   0.5s\n",
            "[CV 4/5] END learning_rate=0.5, max_depth=4, n_estimators=20;, score=-0.139 total time=   0.5s\n",
            "[CV 5/5] END learning_rate=0.5, max_depth=4, n_estimators=20;, score=-0.107 total time=   0.5s\n",
            "[CV 1/5] END learning_rate=0.5, max_depth=6, n_estimators=20;, score=-0.122 total time=   0.8s\n",
            "[CV 2/5] END learning_rate=0.5, max_depth=6, n_estimators=20;, score=-0.138 total time=   0.7s\n",
            "[CV 3/5] END learning_rate=0.5, max_depth=6, n_estimators=20;, score=-0.154 total time=   0.6s\n",
            "[CV 4/5] END learning_rate=0.5, max_depth=6, n_estimators=20;, score=-0.139 total time=   0.5s\n",
            "[CV 5/5] END learning_rate=0.5, max_depth=6, n_estimators=20;, score=-0.118 total time=   0.5s\n",
            "[CV 1/5] END learning_rate=0.5, max_depth=10, n_estimators=20;, score=-0.160 total time=   1.3s\n",
            "[CV 2/5] END learning_rate=0.5, max_depth=10, n_estimators=20;, score=-0.165 total time=   1.3s\n",
            "[CV 3/5] END learning_rate=0.5, max_depth=10, n_estimators=20;, score=-0.181 total time=   1.3s\n",
            "[CV 4/5] END learning_rate=0.5, max_depth=10, n_estimators=20;, score=-0.150 total time=   1.3s\n",
            "[CV 5/5] END learning_rate=0.5, max_depth=10, n_estimators=20;, score=-0.160 total time=   1.4s\n",
            "[CV 1/5] END learning_rate=0.75, max_depth=2, n_estimators=20;, score=-0.117 total time=   0.3s\n",
            "[CV 2/5] END learning_rate=0.75, max_depth=2, n_estimators=20;, score=-0.133 total time=   0.3s\n",
            "[CV 3/5] END learning_rate=0.75, max_depth=2, n_estimators=20;, score=-0.165 total time=   0.3s\n",
            "[CV 4/5] END learning_rate=0.75, max_depth=2, n_estimators=20;, score=-0.123 total time=   0.3s\n",
            "[CV 5/5] END learning_rate=0.75, max_depth=2, n_estimators=20;, score=-0.102 total time=   0.3s\n",
            "[CV 1/5] END learning_rate=0.75, max_depth=4, n_estimators=20;, score=-0.138 total time=   0.5s\n",
            "[CV 2/5] END learning_rate=0.75, max_depth=4, n_estimators=20;, score=-0.165 total time=   0.4s\n",
            "[CV 3/5] END learning_rate=0.75, max_depth=4, n_estimators=20;, score=-0.176 total time=   0.3s\n",
            "[CV 4/5] END learning_rate=0.75, max_depth=4, n_estimators=20;, score=-0.139 total time=   0.3s\n",
            "[CV 5/5] END learning_rate=0.75, max_depth=4, n_estimators=20;, score=-0.128 total time=   0.3s\n",
            "[CV 1/5] END learning_rate=0.75, max_depth=6, n_estimators=20;, score=-0.133 total time=   0.5s\n",
            "[CV 2/5] END learning_rate=0.75, max_depth=6, n_estimators=20;, score=-0.154 total time=   0.6s\n",
            "[CV 3/5] END learning_rate=0.75, max_depth=6, n_estimators=20;, score=-0.149 total time=   0.7s\n",
            "[CV 4/5] END learning_rate=0.75, max_depth=6, n_estimators=20;, score=-0.144 total time=   0.6s\n",
            "[CV 5/5] END learning_rate=0.75, max_depth=6, n_estimators=20;, score=-0.128 total time=   0.7s\n",
            "[CV 1/5] END learning_rate=0.75, max_depth=10, n_estimators=20;, score=-0.144 total time=   1.0s\n",
            "[CV 2/5] END learning_rate=0.75, max_depth=10, n_estimators=20;, score=-0.165 total time=   0.9s\n",
            "[CV 3/5] END learning_rate=0.75, max_depth=10, n_estimators=20;, score=-0.197 total time=   1.1s\n",
            "[CV 4/5] END learning_rate=0.75, max_depth=10, n_estimators=20;, score=-0.160 total time=   1.0s\n",
            "[CV 5/5] END learning_rate=0.75, max_depth=10, n_estimators=20;, score=-0.160 total time=   1.1s\n",
            "[CV 1/5] END learning_rate=1, max_depth=2, n_estimators=20;, score=-0.101 total time=   0.3s\n",
            "[CV 2/5] END learning_rate=1, max_depth=2, n_estimators=20;, score=-0.138 total time=   0.3s\n",
            "[CV 3/5] END learning_rate=1, max_depth=2, n_estimators=20;, score=-0.133 total time=   0.2s\n",
            "[CV 4/5] END learning_rate=1, max_depth=2, n_estimators=20;, score=-0.166 total time=   0.3s\n",
            "[CV 5/5] END learning_rate=1, max_depth=2, n_estimators=20;, score=-0.102 total time=   0.3s\n",
            "[CV 1/5] END learning_rate=1, max_depth=4, n_estimators=20;, score=-0.144 total time=   0.5s\n",
            "[CV 2/5] END learning_rate=1, max_depth=4, n_estimators=20;, score=-0.138 total time=   0.5s\n",
            "[CV 3/5] END learning_rate=1, max_depth=4, n_estimators=20;, score=-0.154 total time=   1.1s\n",
            "[CV 4/5] END learning_rate=1, max_depth=4, n_estimators=20;, score=-0.160 total time=   0.6s\n",
            "[CV 5/5] END learning_rate=1, max_depth=4, n_estimators=20;, score=-0.150 total time=   0.5s\n",
            "[CV 1/5] END learning_rate=1, max_depth=6, n_estimators=20;, score=-0.128 total time=   0.7s\n",
            "[CV 2/5] END learning_rate=1, max_depth=6, n_estimators=20;, score=-0.122 total time=   0.7s\n",
            "[CV 3/5] END learning_rate=1, max_depth=6, n_estimators=20;, score=-0.138 total time=   0.7s\n",
            "[CV 4/5] END learning_rate=1, max_depth=6, n_estimators=20;, score=-0.150 total time=   0.7s\n",
            "[CV 5/5] END learning_rate=1, max_depth=6, n_estimators=20;, score=-0.134 total time=   0.8s\n",
            "[CV 1/5] END learning_rate=1, max_depth=10, n_estimators=20;, score=-0.122 total time=   0.9s\n",
            "[CV 2/5] END learning_rate=1, max_depth=10, n_estimators=20;, score=-0.165 total time=   0.8s\n",
            "[CV 3/5] END learning_rate=1, max_depth=10, n_estimators=20;, score=-0.154 total time=   0.8s\n",
            "[CV 4/5] END learning_rate=1, max_depth=10, n_estimators=20;, score=-0.160 total time=   0.6s\n",
            "[CV 5/5] END learning_rate=1, max_depth=10, n_estimators=20;, score=-0.134 total time=   0.5s\n"
          ]
        },
        {
          "output_type": "execute_result",
          "data": {
            "text/plain": [
              "GridSearchCV(cv=5, estimator=GradientBoostingClassifier(),\n",
              "             param_grid={'learning_rate': [0.05, 0.075, 0.1, 0.25, 0.5, 0.75,\n",
              "                                           1],\n",
              "                         'max_depth': [2, 4, 6, 10], 'n_estimators': [20]},\n",
              "             scoring='neg_mean_squared_error', verbose=3)"
            ]
          },
          "metadata": {},
          "execution_count": 82
        }
      ]
    },
    {
      "cell_type": "code",
      "source": [
        "gb_optimal_model = gb_classifier.best_estimator_\n",
        "gb_optimal_model"
      ],
      "metadata": {
        "colab": {
          "base_uri": "https://localhost:8080/"
        },
        "id": "UwI-9buI22HJ",
        "outputId": "8b751da5-af68-445e-9083-297515ce39ae"
      },
      "execution_count": 83,
      "outputs": [
        {
          "output_type": "execute_result",
          "data": {
            "text/plain": [
              "GradientBoostingClassifier(learning_rate=0.75, max_depth=2, n_estimators=20)"
            ]
          },
          "metadata": {},
          "execution_count": 83
        }
      ]
    },
    {
      "cell_type": "code",
      "source": [
        "# Making predictions on train and test data\n",
        "\n",
        "train_class_preds = gb_optimal_model.predict(X_train)\n",
        "test_class_preds = gb_optimal_model.predict(X_test)"
      ],
      "metadata": {
        "id": "AOrwqd3-22Bp"
      },
      "execution_count": 84,
      "outputs": []
    },
    {
      "cell_type": "code",
      "source": [
        "train_class_preds\n",
        "test_class_preds\n",
        "print(\"Accuracy score (training): {0:.3f}\".format(gb_optimal_model.score(X_train, y_train)))\n",
        "print(\"Accuracy score (validation): {0:.3f}\".format(gb_optimal_model.score(X_val, y_val)))"
      ],
      "metadata": {
        "colab": {
          "base_uri": "https://localhost:8080/"
        },
        "id": "IpeMD-tD219W",
        "outputId": "b96ff6d8-4ea9-43a4-856c-483115e5df33"
      },
      "execution_count": 85,
      "outputs": [
        {
          "output_type": "stream",
          "name": "stdout",
          "text": [
            "Accuracy score (training): 0.998\n",
            "Accuracy score (validation): 0.874\n"
          ]
        }
      ]
    },
    {
      "cell_type": "markdown",
      "source": [
        "We're mainly interested in the classifier's accuracy on the validation set, but it looks like a learning rate of 0.75 gives us the best performance on the validation set and good performance on the training set.\n",
        "\n",
        "Now we can evaluate the classifier by checking its accuracy and creating a confusion matrix. Let's create a new classifier and specify the best learning rate we discovered."
      ],
      "metadata": {
        "id": "zmuHu5YV3Exq"
      }
    },
    {
      "cell_type": "code",
      "source": [
        "# gb_optimal_model.fit(X_train, y_train)\n",
        "predictions = gb_optimal_model.predict(X_val)\n",
        "\n",
        "\n",
        "print(\"Confusion Matrix:\")\n",
        "print(confusion_matrix(y_val, predictions))\n",
        "\n",
        "print(\"Classification Report\")\n",
        "print(classification_report(y_val, predictions))"
      ],
      "metadata": {
        "colab": {
          "base_uri": "https://localhost:8080/"
        },
        "id": "XwU1OwFl214D",
        "outputId": "57c2b924-eb4b-4556-e178-9801ac92c4fc"
      },
      "execution_count": 86,
      "outputs": [
        {
          "output_type": "stream",
          "name": "stdout",
          "text": [
            "Confusion Matrix:\n",
            "[[ 99  11   0   0]\n",
            " [ 10 108   7   0]\n",
            " [  0  12  95   7]\n",
            " [  0   0  11 102]]\n",
            "Classification Report\n",
            "              precision    recall  f1-score   support\n",
            "\n",
            "           0       0.91      0.90      0.90       110\n",
            "           1       0.82      0.86      0.84       125\n",
            "           2       0.84      0.83      0.84       114\n",
            "           3       0.94      0.90      0.92       113\n",
            "\n",
            "    accuracy                           0.87       462\n",
            "   macro avg       0.88      0.87      0.88       462\n",
            "weighted avg       0.88      0.87      0.87       462\n",
            "\n"
          ]
        }
      ]
    },
    {
      "cell_type": "code",
      "source": [
        "#plotting the confusion matrix for train set\n",
        "cm = confusion_matrix(y_val, predictions)\n",
        "\n",
        "df1 = pd.DataFrame(columns=[\"0\",\"1\",\"2\",\"3\"], index= [\"0\",\"1\",\"2\",\"3\"], data= cm )\n",
        "\n",
        "f,ax = plt.subplots(figsize=(6,6))\n",
        "\n",
        "sns.heatmap(df1, annot=True,cmap=\"OrRd\", fmt= '.0f',\n",
        "            ax=ax,linewidths = 5, cbar = False,annot_kws={\"size\": 16})\n",
        "plt.xlabel(\"Predicted Label\")\n",
        "plt.xticks(size = 12)\n",
        "plt.yticks(size = 12, rotation = 0)\n",
        "plt.ylabel(\"True Label\")\n",
        "plt.title(\"Confusion Matrix\", size = 12)\n",
        "plt.show()"
      ],
      "metadata": {
        "colab": {
          "base_uri": "https://localhost:8080/",
          "height": 407
        },
        "id": "NGUL1ysb3Ju-",
        "outputId": "638f094e-a38b-44dc-8eef-af92e75bbe7d"
      },
      "execution_count": 87,
      "outputs": [
        {
          "output_type": "display_data",
          "data": {
            "text/plain": [
              "<Figure size 432x432 with 1 Axes>"
            ],
            "image/png": "[encoded data removed]"
          },
          "metadata": {
            "needs_background": "light"
          }
        }
      ]
    },
    {
      "cell_type": "code",
      "source": [
        "test_pred = gb_optimal_model.predict(X_val)\n",
        "\n",
        "\n",
        "print(\"Confusion Matrix:\")\n",
        "print(confusion_matrix(y_val, test_pred))\n",
        "\n",
        "print(\"Classification Report\")\n",
        "print(classification_report(y_val, test_pred))"
      ],
      "metadata": {
        "colab": {
          "base_uri": "https://localhost:8080/"
        },
        "id": "631mugHp3MO1",
        "outputId": "ca4d99f0-0b9a-4be4-f5df-978330505396"
      },
      "execution_count": 88,
      "outputs": [
        {
          "output_type": "stream",
          "name": "stdout",
          "text": [
            "Confusion Matrix:\n",
            "[[ 99  11   0   0]\n",
            " [ 10 108   7   0]\n",
            " [  0  12  95   7]\n",
            " [  0   0  11 102]]\n",
            "Classification Report\n",
            "              precision    recall  f1-score   support\n",
            "\n",
            "           0       0.91      0.90      0.90       110\n",
            "           1       0.82      0.86      0.84       125\n",
            "           2       0.84      0.83      0.84       114\n",
            "           3       0.94      0.90      0.92       113\n",
            "\n",
            "    accuracy                           0.87       462\n",
            "   macro avg       0.88      0.87      0.88       462\n",
            "weighted avg       0.88      0.87      0.87       462\n",
            "\n"
          ]
        }
      ]
    },
    {
      "cell_type": "code",
      "source": [
        "#plotting the confusion matrix for test set\n",
        "cm = confusion_matrix(y_val, test_pred)\n",
        "\n",
        "df1 = pd.DataFrame(columns=[\"0\",\"1\",\"2\",\"3\"], index= [\"0\",\"1\",\"2\",\"3\"], data= cm )\n",
        "\n",
        "f,ax = plt.subplots(figsize=(6,6))\n",
        "\n",
        "sns.heatmap(df1, annot=True,cmap=\"OrRd\", fmt= '.0f',\n",
        "            ax=ax,linewidths = 5, cbar = False,annot_kws={\"size\": 16})\n",
        "plt.xlabel(\"Predicted Label\")\n",
        "plt.xticks(size = 12)\n",
        "plt.yticks(size = 12, rotation = 0)\n",
        "plt.ylabel(\"True Label\")\n",
        "plt.title(\"Confusion Matrix\", size = 12)\n",
        "plt.show()"
      ],
      "metadata": {
        "colab": {
          "base_uri": "https://localhost:8080/",
          "height": 407
        },
        "id": "TQIiunFb3OS2",
        "outputId": "fb3c73df-2b10-4686-eae6-ac790f0e3e33"
      },
      "execution_count": 89,
      "outputs": [
        {
          "output_type": "display_data",
          "data": {
            "text/plain": [
              "<Figure size 432x432 with 1 Axes>"
            ],
            "image/png": "[encoded data removed]"
          },
          "metadata": {
            "needs_background": "light"
          }
        }
      ]
    },
    {
      "cell_type": "markdown",
      "source": [
        "# **XGBClassifier**"
      ],
      "metadata": {
        "id": "XSge0KoQ3XnC"
      }
    },
    {
      "cell_type": "code",
      "source": [
        "from xgboost import XGBClassifier"
      ],
      "metadata": {
        "id": "52Owsql43cCS"
      },
      "execution_count": 90,
      "outputs": []
    },
    {
      "cell_type": "code",
      "source": [
        "xgb_clf = XGBClassifier()\n",
        "xgb_clf.fit(X_train, y_train)"
      ],
      "metadata": {
        "colab": {
          "base_uri": "https://localhost:8080/"
        },
        "id": "jNrWebWJ3cyg",
        "outputId": "407114a9-ae87-40c6-9f25-fd816fd86568"
      },
      "execution_count": 91,
      "outputs": [
        {
          "output_type": "execute_result",
          "data": {
            "text/plain": [
              "XGBClassifier(objective='multi:softprob')"
            ]
          },
          "metadata": {},
          "execution_count": 91
        }
      ]
    },
    {
      "cell_type": "code",
      "source": [
        "predict = xgb_clf.predict(X_val)"
      ],
      "metadata": {
        "id": "4WApUDSk3co3"
      },
      "execution_count": 92,
      "outputs": []
    },
    {
      "cell_type": "code",
      "source": [
        "print(\"Confusion Matrix:\")\n",
        "print(confusion_matrix(y_val, predict))\n",
        "\n",
        "print(\"Classification Report\")\n",
        "print(classification_report(y_val, predict))"
      ],
      "metadata": {
        "colab": {
          "base_uri": "https://localhost:8080/"
        },
        "id": "DWa-iV5n3ci1",
        "outputId": "10e44368-970e-41b6-a7ca-57351ce27092"
      },
      "execution_count": 93,
      "outputs": [
        {
          "output_type": "stream",
          "name": "stdout",
          "text": [
            "Confusion Matrix:\n",
            "[[ 99  11   0   0]\n",
            " [ 12 104   9   0]\n",
            " [  0  14  95   5]\n",
            " [  0   0  12 101]]\n",
            "Classification Report\n",
            "              precision    recall  f1-score   support\n",
            "\n",
            "           0       0.89      0.90      0.90       110\n",
            "           1       0.81      0.83      0.82       125\n",
            "           2       0.82      0.83      0.83       114\n",
            "           3       0.95      0.89      0.92       113\n",
            "\n",
            "    accuracy                           0.86       462\n",
            "   macro avg       0.87      0.86      0.87       462\n",
            "weighted avg       0.87      0.86      0.86       462\n",
            "\n"
          ]
        }
      ]
    },
    {
      "cell_type": "code",
      "source": [
        "#plotting the confusion matrix for train set\n",
        "cm = confusion_matrix(y_val, predict)\n",
        "\n",
        "df1 = pd.DataFrame(columns=[\"0\",\"1\",\"2\",\"3\"], index= [\"0\",\"1\",\"2\",\"3\"], data= cm )\n",
        "\n",
        "f,ax = plt.subplots(figsize=(6,6))\n",
        "\n",
        "sns.heatmap(df1, annot=True,cmap=\"OrRd\", fmt= '.0f',\n",
        "            ax=ax,linewidths = 5, cbar = False,annot_kws={\"size\": 16})\n",
        "plt.xlabel(\"Predicted Label\")\n",
        "plt.xticks(size = 12)\n",
        "plt.yticks(size = 12, rotation = 0)\n",
        "plt.ylabel(\"True Label\")\n",
        "plt.title(\"Confusion Matrix\", size = 12)\n",
        "plt.show()"
      ],
      "metadata": {
        "colab": {
          "base_uri": "https://localhost:8080/",
          "height": 407
        },
        "id": "8PgNx1Sg3loE",
        "outputId": "a5546e7a-faee-484e-c56f-fb4fd3bacadb"
      },
      "execution_count": 94,
      "outputs": [
        {
          "output_type": "display_data",
          "data": {
            "text/plain": [
              "<Figure size 432x432 with 1 Axes>"
            ],
            "image/png": "[encoded data removed]"
          },
          "metadata": {
            "needs_background": "light"
          }
        }
      ]
    },
    {
      "cell_type": "code",
      "source": [
        "xgb_clf = XGBClassifier()\n",
        "xgb_clf.fit(X_test, y_test)"
      ],
      "metadata": {
        "colab": {
          "base_uri": "https://localhost:8080/"
        },
        "id": "JC2WQ3zb3liC",
        "outputId": "41294260-968e-4a22-b1bf-ca636ec320b1"
      },
      "execution_count": 95,
      "outputs": [
        {
          "output_type": "execute_result",
          "data": {
            "text/plain": [
              "XGBClassifier(objective='multi:softprob')"
            ]
          },
          "metadata": {},
          "execution_count": 95
        }
      ]
    },
    {
      "cell_type": "code",
      "source": [
        "test_predict = xgb_clf.predict(X_val)"
      ],
      "metadata": {
        "id": "pEDOxjig3lad"
      },
      "execution_count": 96,
      "outputs": []
    },
    {
      "cell_type": "code",
      "source": [
        "print(\"Confusion Matrix:\")\n",
        "print(confusion_matrix(y_val, test_predict))\n",
        "\n",
        "print(\"Classification Report\")\n",
        "print(classification_report(y_val, test_predict))"
      ],
      "metadata": {
        "colab": {
          "base_uri": "https://localhost:8080/"
        },
        "id": "ZHVCMj0V3lXR",
        "outputId": "a68509c7-1ae4-40dc-b318-f9bb7675046d"
      },
      "execution_count": 97,
      "outputs": [
        {
          "output_type": "stream",
          "name": "stdout",
          "text": [
            "Confusion Matrix:\n",
            "[[101   9   0   0]\n",
            " [ 15 103   7   0]\n",
            " [  0  17  88   9]\n",
            " [  0   0  11 102]]\n",
            "Classification Report\n",
            "              precision    recall  f1-score   support\n",
            "\n",
            "           0       0.87      0.92      0.89       110\n",
            "           1       0.80      0.82      0.81       125\n",
            "           2       0.83      0.77      0.80       114\n",
            "           3       0.92      0.90      0.91       113\n",
            "\n",
            "    accuracy                           0.85       462\n",
            "   macro avg       0.85      0.85      0.85       462\n",
            "weighted avg       0.85      0.85      0.85       462\n",
            "\n"
          ]
        }
      ]
    },
    {
      "cell_type": "code",
      "source": [
        "#plotting the confusion matrix for test set\n",
        "cm = confusion_matrix(y_val, test_predict)\n",
        "\n",
        "df1 = pd.DataFrame(columns=[\"0\",\"1\",\"2\",\"3\"], index= [\"0\",\"1\",\"2\",\"3\"], data= cm )\n",
        "\n",
        "f,ax = plt.subplots(figsize=(6,6))\n",
        "\n",
        "sns.heatmap(df1, annot=True,cmap=\"OrRd\", fmt= '.0f',\n",
        "            ax=ax,linewidths = 5, cbar = False,annot_kws={\"size\": 16})\n",
        "plt.xlabel(\"Predicted Label\")\n",
        "plt.xticks(size = 12)\n",
        "plt.yticks(size = 12, rotation = 0)\n",
        "plt.ylabel(\"True Label\")\n",
        "plt.title(\"Confusion Matrix\", size = 12)\n",
        "plt.show()"
      ],
      "metadata": {
        "colab": {
          "base_uri": "https://localhost:8080/",
          "height": 407
        },
        "id": "T8XxQaSe3wEW",
        "outputId": "0e774143-5214-4a42-d785-002c410dc43c"
      },
      "execution_count": 98,
      "outputs": [
        {
          "output_type": "display_data",
          "data": {
            "text/plain": [
              "<Figure size 432x432 with 1 Axes>"
            ],
            "image/png": "[encoded data removed]"
          },
          "metadata": {
            "needs_background": "light"
          }
        }
      ]
    },
    {
      "cell_type": "markdown",
      "source": [
        "# **Logistic Regression**"
      ],
      "metadata": {
        "id": "TEm_UQgZ3yl1"
      }
    },
    {
      "cell_type": "code",
      "source": [
        "from sklearn.linear_model import LogisticRegression"
      ],
      "metadata": {
        "id": "5fB4h0k433L6"
      },
      "execution_count": 99,
      "outputs": []
    },
    {
      "cell_type": "code",
      "source": [
        "logistic_model = LogisticRegression(fit_intercept=True, max_iter=10000)\n",
        "logistic_model.fit(X_train, y_train)"
      ],
      "metadata": {
        "colab": {
          "base_uri": "https://localhost:8080/"
        },
        "id": "xTKxC2x435oI",
        "outputId": "70212023-2235-42bf-a3d8-4f576d08a92d"
      },
      "execution_count": 100,
      "outputs": [
        {
          "output_type": "stream",
          "name": "stderr",
          "text": [
            "/usr/local/lib/python3.7/dist-packages/sklearn/linear_model/_logistic.py:818: ConvergenceWarning:\n",
            "\n",
            "lbfgs failed to converge (status=1):\n",
            "STOP: TOTAL NO. of ITERATIONS REACHED LIMIT.\n",
            "\n",
            "Increase the number of iterations (max_iter) or scale the data as shown in:\n",
            "    https://scikit-learn.org/stable/modules/preprocessing.html\n",
            "Please also refer to the documentation for alternative solver options:\n",
            "    https://scikit-learn.org/stable/modules/linear_model.html#logistic-regression\n",
            "\n"
          ]
        },
        {
          "output_type": "execute_result",
          "data": {
            "text/plain": [
              "LogisticRegression(max_iter=10000)"
            ]
          },
          "metadata": {},
          "execution_count": 100
        }
      ]
    },
    {
      "cell_type": "code",
      "source": [
        "# Get the predicted probabilities\n",
        "train_preds_proba = logistic_model.predict_proba(X_train)\n",
        "test_preds_proba = logistic_model.predict_proba(X_test)"
      ],
      "metadata": {
        "id": "D3EtMZoj387r"
      },
      "execution_count": 101,
      "outputs": []
    },
    {
      "cell_type": "code",
      "source": [
        "# Get the predicted classes\n",
        "train_class_pred = logistic_model.predict(X_train)\n",
        "test_class_pred = logistic_model.predict(X_test)"
      ],
      "metadata": {
        "id": "28a7k6IT38xR"
      },
      "execution_count": 102,
      "outputs": []
    },
    {
      "cell_type": "code",
      "source": [
        "# Get the accuracy scores\n",
        "train_accuracy = accuracy_score(train_class_pred,y_train)\n",
        "test_accuracy = accuracy_score(test_class_pred,y_test)\n",
        "\n",
        "print(\"The accuracy on train data is \", train_accuracy)\n",
        "print(\"The accuracy on test data is \", test_accuracy)"
      ],
      "metadata": {
        "colab": {
          "base_uri": "https://localhost:8080/"
        },
        "id": "oZ5ftKTg38r9",
        "outputId": "ae398569-2d40-4d86-fa16-501138cb0984"
      },
      "execution_count": 103,
      "outputs": [
        {
          "output_type": "stream",
          "name": "stdout",
          "text": [
            "The accuracy on train data is  0.7921108742004265\n",
            "The accuracy on test data is  0.7416666666666667\n"
          ]
        }
      ]
    },
    {
      "cell_type": "code",
      "source": [
        "# Get the confusion matrix for both train and test\n",
        "\n",
        "labels = ['0', '1' , '2', '3']\n",
        "cm = confusion_matrix(y_train, train_class_pred)\n",
        "\n",
        "df1 = pd.DataFrame(columns=[\"0\",\"1\",\"2\",\"3\"], index= [\"0\",\"1\",\"2\",\"3\"], data= cm )\n",
        "\n",
        "f,ax = plt.subplots(figsize=(6,6))\n",
        "\n",
        "sns.heatmap(df1, annot=True,cmap=\"OrRd\", fmt= '.0f',\n",
        "            ax=ax,linewidths = 5, cbar = False,annot_kws={\"size\": 16})\n",
        "plt.xlabel(\"Predicted Label\")\n",
        "plt.xticks(size = 12)\n",
        "plt.yticks(size = 12, rotation = 0)\n",
        "plt.ylabel(\"True Label\")\n",
        "plt.title(\"Confusion Matrix\", size = 12)\n",
        "plt.show()"
      ],
      "metadata": {
        "colab": {
          "base_uri": "https://localhost:8080/",
          "height": 407
        },
        "id": "U-w8LkjM38ok",
        "outputId": "a6210fdf-5737-44df-fb05-293c30b91ae2"
      },
      "execution_count": 104,
      "outputs": [
        {
          "output_type": "display_data",
          "data": {
            "text/plain": [
              "<Figure size 432x432 with 1 Axes>"
            ],
            "image/png": "[encoded data removed]"
          },
          "metadata": {
            "needs_background": "light"
          }
        }
      ]
    },
    {
      "cell_type": "code",
      "source": [
        "cm = confusion_matrix(y_test, test_class_pred)\n",
        "\n",
        "df1 = pd.DataFrame(columns=[\"0\",\"1\",\"2\",\"3\"], index= [\"0\",\"1\",\"2\",\"3\"], data= cm )\n",
        "\n",
        "f,ax = plt.subplots(figsize=(6,6))\n",
        "\n",
        "sns.heatmap(df1, annot=True,cmap=\"OrRd\", fmt= '.0f',\n",
        "            ax=ax,linewidths = 5, cbar = False,annot_kws={\"size\": 16})\n",
        "plt.xlabel(\"Predicted Label\")\n",
        "plt.xticks(size = 12)\n",
        "plt.yticks(size = 12, rotation = 0)\n",
        "plt.ylabel(\"True Label\")\n",
        "plt.title(\"Confusion Matrix\", size = 12)\n",
        "plt.show()"
      ],
      "metadata": {
        "colab": {
          "base_uri": "https://localhost:8080/",
          "height": 407
        },
        "id": "HUo8Jsfk38Mp",
        "outputId": "c38804b7-7d32-4841-f0d0-96adf9b82014"
      },
      "execution_count": 105,
      "outputs": [
        {
          "output_type": "display_data",
          "data": {
            "text/plain": [
              "<Figure size 432x432 with 1 Axes>"
            ],
            "image/png": "[encoded data removed]"
          },
          "metadata": {
            "needs_background": "light"
          }
        }
      ]
    },
    {
      "cell_type": "code",
      "source": [
        "#predicting \n",
        "y_pred_proba = logistic_model.predict_proba(X_test)"
      ],
      "metadata": {
        "id": "fIn66Fq54IzJ"
      },
      "execution_count": 106,
      "outputs": []
    },
    {
      "cell_type": "code",
      "source": [
        "roc_auc_score(y_test, y_pred_proba, multi_class='ovo', average='weighted')"
      ],
      "metadata": {
        "colab": {
          "base_uri": "https://localhost:8080/"
        },
        "id": "yWfIvEcV4Lge",
        "outputId": "516ed2d1-0fa6-424d-e762-bbf034e2cb0e"
      },
      "execution_count": 107,
      "outputs": [
        {
          "output_type": "execute_result",
          "data": {
            "text/plain": [
              "0.9368027607278365"
            ]
          },
          "metadata": {},
          "execution_count": 107
        }
      ]
    },
    {
      "cell_type": "code",
      "source": [
        "# roc curve for classes\n",
        "fpr = {}\n",
        "tpr = {}\n",
        "thresh ={}\n",
        "\n",
        "n_class = 4\n",
        "\n",
        "for i in range(n_class):    \n",
        "    fpr[i], tpr[i], thresh[i] = roc_curve(y_test, test_preds_proba[:,i], pos_label=i)\n",
        "    \n",
        "# plotting multiclass ROC curve   \n",
        "plt.plot(fpr[0], tpr[0], linestyle='--',color='orange', label='Low_cost')\n",
        "plt.plot(fpr[1], tpr[1], linestyle='--',color='green', label='Medium_cost')\n",
        "plt.plot(fpr[2], tpr[2], linestyle='--',color='blue', label='High_cost')\n",
        "plt.plot(fpr[3], tpr[3], linestyle='--',color='red', label='Very_high_cost')\n",
        "plt.title(' Multiclass ROC curve')\n",
        "plt.xlabel('False Positive Rate')\n",
        "plt.ylabel('True Positive rate')\n",
        "plt.legend(loc='best')\n",
        "plt.savefig('Multiclass ROC',dpi=300);"
      ],
      "metadata": {
        "colab": {
          "base_uri": "https://localhost:8080/",
          "height": 295
        },
        "id": "CxagYh_y4O__",
        "outputId": "260b6918-508e-4b29-a828-3078d55d37a6"
      },
      "execution_count": 108,
      "outputs": [
        {
          "output_type": "display_data",
          "data": {
            "text/plain": [
              "<Figure size 432x288 with 1 Axes>"
            ],
            "image/png": "[encoded data removed]"
          },
          "metadata": {
            "needs_background": "light"
          }
        }
      ]
    },
    {
      "cell_type": "code",
      "source": [
        "print(classification_report(y_train,train_class_pred))"
      ],
      "metadata": {
        "colab": {
          "base_uri": "https://localhost:8080/"
        },
        "id": "SbWzeQ-y4O9E",
        "outputId": "f4e79aae-a335-4d76-bf33-dbf23fa5bd9f"
      },
      "execution_count": 109,
      "outputs": [
        {
          "output_type": "stream",
          "name": "stdout",
          "text": [
            "              precision    recall  f1-score   support\n",
            "\n",
            "           0       0.94      0.91      0.92       239\n",
            "           1       0.76      0.76      0.76       240\n",
            "           2       0.66      0.67      0.67       235\n",
            "           3       0.81      0.83      0.82       224\n",
            "\n",
            "    accuracy                           0.79       938\n",
            "   macro avg       0.79      0.79      0.79       938\n",
            "weighted avg       0.79      0.79      0.79       938\n",
            "\n"
          ]
        }
      ]
    },
    {
      "cell_type": "code",
      "source": [
        "print(classification_report(y_test,test_class_pred))"
      ],
      "metadata": {
        "colab": {
          "base_uri": "https://localhost:8080/"
        },
        "id": "a_NVQ-J_4O6E",
        "outputId": "d0fe0120-2002-471f-f5d9-d7121fac7cb3"
      },
      "execution_count": 110,
      "outputs": [
        {
          "output_type": "stream",
          "name": "stdout",
          "text": [
            "              precision    recall  f1-score   support\n",
            "\n",
            "           0       0.88      0.85      0.86       151\n",
            "           1       0.65      0.64      0.65       135\n",
            "           2       0.62      0.65      0.63       151\n",
            "           3       0.81      0.81      0.81       163\n",
            "\n",
            "    accuracy                           0.74       600\n",
            "   macro avg       0.74      0.74      0.74       600\n",
            "weighted avg       0.74      0.74      0.74       600\n",
            "\n"
          ]
        }
      ]
    }
  ]
}